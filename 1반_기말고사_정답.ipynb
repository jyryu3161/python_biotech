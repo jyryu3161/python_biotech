{
  "nbformat": 4,
  "nbformat_minor": 0,
  "metadata": {
    "colab": {
      "provenance": [],
      "authorship_tag": "ABX9TyPYuKktNvROIEct/QI1j1N8",
      "include_colab_link": true
    },
    "kernelspec": {
      "name": "python3",
      "display_name": "Python 3"
    },
    "language_info": {
      "name": "python"
    }
  },
  "cells": [
    {
      "cell_type": "markdown",
      "metadata": {
        "id": "view-in-github",
        "colab_type": "text"
      },
      "source": [
        "<a href=\"https://colab.research.google.com/github/jyryu3161/python_biotech/blob/main/1%EB%B0%98_%EA%B8%B0%EB%A7%90%EA%B3%A0%EC%82%AC_%EC%A0%95%EB%8B%B5.ipynb\" target=\"_parent\"><img src=\"https://colab.research.google.com/assets/colab-badge.svg\" alt=\"Open In Colab\"/></a>"
      ]
    },
    {
      "cell_type": "markdown",
      "source": [
        "# 기말고사"
      ],
      "metadata": {
        "id": "t_cWYFZKKxIr"
      }
    },
    {
      "cell_type": "markdown",
      "source": [
        "답안 제출: 파일명에 학번, 이름이 보이게 수정하여 \"파일\"->\"다운로드\"-> \".ipynb 다운로드\" 파일을 과제란에 제출하세요."
      ],
      "metadata": {
        "id": "Ko1fBFDuKzxj"
      }
    },
    {
      "cell_type": "markdown",
      "source": [
        "## 문제1 (10점)"
      ],
      "metadata": {
        "id": "OIrCrgpHLIy4"
      }
    },
    {
      "cell_type": "markdown",
      "source": [
        "점수를 함수의 매개변수로 받아들이고 A(90-100), B(80-89), C(70-79), D(60-69), F(<60) 학점을 반환하는 함수를 작성하라. 이 때, 점수 입력은 input 함수로 입력을 받는다."
      ],
      "metadata": {
        "id": "JaHooHwNLKw8"
      }
    },
    {
      "cell_type": "code",
      "source": [
        "\n",
        "def calucate_score(score):\n",
        "    if score >= 90 and score <=100:\n",
        "        return 'A'\n",
        "    elif score >= 80 and score <=89:\n",
        "        return 'B'\n",
        "    elif score >= 70 and score <=79:\n",
        "        return 'C'\n",
        "    elif score >= 60 and score <=69:\n",
        "        return 'D'\n",
        "    else:\n",
        "        return 'F'\n",
        "\n",
        "score = 90\n",
        "result = calucate_score(score)\n",
        "print(result)"
      ],
      "metadata": {
        "id": "N4fKirV1LrXr",
        "colab": {
          "base_uri": "https://localhost:8080/"
        },
        "outputId": "615ffc6c-8d4c-4c1a-a113-c214672b8c7a"
      },
      "execution_count": 1,
      "outputs": [
        {
          "output_type": "stream",
          "name": "stdout",
          "text": [
            "A\n"
          ]
        }
      ]
    },
    {
      "cell_type": "markdown",
      "source": [
        "## 문제2 (10점)"
      ],
      "metadata": {
        "id": "UQMcSDxsLLjX"
      }
    },
    {
      "cell_type": "markdown",
      "source": [
        "딕셔너리의 key에는 임의의 학생들의 이름, value에는 해당 학생의 평균 점수가 들어있다고 가정하자. 이 때, 딕셔너리를 입력으로 받아 모든 학생의 점수의 산술 평균 (mean)을 계산하는 함수를 작성하세요. 즉, 매개변수로 딕셔너리, return으로 산술평균을 반환한다."
      ],
      "metadata": {
        "id": "1D_upClcLLlv"
      }
    },
    {
      "cell_type": "code",
      "source": [
        "# 딕셔너리는 임의로 만든 후 코드 작성\n",
        "\n",
        "def calculate_mean(my_dic):\n",
        "    score_sum = 0.0\n",
        "    for key in my_dic:\n",
        "        score_sum+=my_dic[key]\n",
        "\n",
        "    mean = score_sum / len(my_dic)\n",
        "    return mean\n",
        "\n",
        "my_dic = {}\n",
        "my_dic['재용1'] = 90\n",
        "my_dic['재용2'] = 100\n",
        "my_dic['재용3'] = 95\n",
        "mean_score = calculate_mean(my_dic)\n",
        "print(mean_score)"
      ],
      "metadata": {
        "id": "FpKyKbBGNUjW",
        "colab": {
          "base_uri": "https://localhost:8080/"
        },
        "outputId": "bafa6909-2653-4c5e-da45-f1ceccc81860"
      },
      "execution_count": 3,
      "outputs": [
        {
          "output_type": "stream",
          "name": "stdout",
          "text": [
            "95.0\n"
          ]
        }
      ]
    },
    {
      "cell_type": "markdown",
      "source": [
        "# 문제3 (10점)"
      ],
      "metadata": {
        "id": "eD_QBEiQzs4X"
      }
    },
    {
      "cell_type": "markdown",
      "source": [
        "아래 문제를 해결하는 함수를 작성하세요. 매개변수로 mRNA 서열이 주어지고, 출력으로 단백질 서열을 출력한다.\n",
        "\n",
        "아래 코드의 딕셔너리 codon_table 정보를 이용하여, 주어진 mRNA 서열을 단백질 서열로 변역하라.\n",
        "\n",
        "조건(가정):\n",
        "\n",
        "mRNA 서열은 항상 3의 배수라고 가정한다. 출력예시:\n",
        "\n",
        "입력 mRNA: AUGGAGGAGCCGCAGUCAUAG\n",
        "\n",
        "출력: MEEPQS*"
      ],
      "metadata": {
        "id": "LRzMre8Cz9Oc"
      }
    },
    {
      "cell_type": "code",
      "source": [
        "\n",
        "def translation(mNRA):\n",
        "    codon_table = {\n",
        "    'AUA': 'I', 'AUC': 'I', 'AUU': 'I', 'AUG': 'M',\n",
        "    'ACA': 'T', 'ACC': 'T', 'ACG': 'T', 'ACU': 'T',\n",
        "    'AAC': 'N', 'AAU': 'N', 'AAA': 'K', 'AAG': 'K',\n",
        "    'AGC': 'S', 'AGU': 'S', 'AGA': 'R', 'AGG': 'R',\n",
        "    'CUA': 'L', 'CUC': 'L', 'CUG': 'L', 'CUU': 'L',\n",
        "    'CCA': 'P', 'CCC': 'P', 'CCG': 'P', 'CCU': 'P',\n",
        "    'CAC': 'H', 'CAU': 'H', 'CAA': 'Q', 'CAG': 'Q',\n",
        "    'CGA': 'R', 'CGC': 'R', 'CGG': 'R', 'CGU': 'R',\n",
        "    'GUA': 'V', 'GUC': 'V', 'GUG': 'V', 'GUU': 'V',\n",
        "    'GCA': 'A', 'GCC': 'A', 'GCG': 'A', 'GCU': 'A',\n",
        "    'GAC': 'D', 'GAU': 'D', 'GAA': 'E', 'GAG': 'E',\n",
        "    'GGA': 'G', 'GGC': 'G', 'GGG': 'G', 'GGU': 'G',\n",
        "    'UCA': 'S', 'UCC': 'S', 'UCG': 'S', 'UCU': 'S',\n",
        "    'UUC': 'F', 'UUU': 'F', 'UUA': 'L', 'UUG': 'L',\n",
        "    'UAC': 'Y', 'UAU': 'Y', 'UAA': '*', 'UAG': '*',\n",
        "    'UGC': 'C', 'UGU': 'C', 'UGA': '*', 'UGG': 'W',\n",
        "}\n",
        "    aa_seq = ''\n",
        "    for i in range(0, len(mRNA), 3):\n",
        "        codon = mRNA[i:i+3]\n",
        "        aa_seq = aa_seq + codon_table[codon]\n",
        "    return aa_seq\n",
        "\n",
        "\n",
        "mRNA = 'AUGGAGGAGCCGCAGUCAUAG'\n",
        "aa_seq = translation(mRNA)\n",
        "print(aa_seq)"
      ],
      "metadata": {
        "id": "NCUTK3IdmzGY",
        "colab": {
          "base_uri": "https://localhost:8080/"
        },
        "outputId": "221e7736-ceee-445d-eda6-d893e1737aae"
      },
      "execution_count": 4,
      "outputs": [
        {
          "output_type": "stream",
          "name": "stdout",
          "text": [
            "MEEPQS*\n"
          ]
        }
      ]
    },
    {
      "cell_type": "code",
      "source": [],
      "metadata": {
        "id": "eLWUESkzRNlB"
      },
      "execution_count": null,
      "outputs": []
    }
  ]
}