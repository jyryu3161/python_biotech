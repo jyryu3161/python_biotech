{
  "nbformat": 4,
  "nbformat_minor": 0,
  "metadata": {
    "colab": {
      "provenance": [],
      "authorship_tag": "ABX9TyNR21GuNrsHnWPjJb5rESXa",
      "include_colab_link": true
    },
    "kernelspec": {
      "name": "python3",
      "display_name": "Python 3"
    },
    "language_info": {
      "name": "python"
    }
  },
  "cells": [
    {
      "cell_type": "markdown",
      "metadata": {
        "id": "view-in-github",
        "colab_type": "text"
      },
      "source": [
        "<a href=\"https://colab.research.google.com/github/jyryu3161/python_biotech/blob/main/lab8_%ED%81%B4%EB%9E%98%EC%8A%A4.ipynb\" target=\"_parent\"><img src=\"https://colab.research.google.com/assets/colab-badge.svg\" alt=\"Open In Colab\"/></a>"
      ]
    },
    {
      "cell_type": "markdown",
      "source": [
        "# Lab8.클래스"
      ],
      "metadata": {
        "id": "pjYVFLgjOuye"
      }
    },
    {
      "cell_type": "markdown",
      "source": [
        "## 클래스(class)"
      ],
      "metadata": {
        "id": "fxT5KES5VVI7"
      }
    },
    {
      "cell_type": "markdown",
      "source": [
        "실습1 - 강의자료 코드 작성"
      ],
      "metadata": {
        "id": "QHZugjxoN_GD"
      }
    },
    {
      "cell_type": "code",
      "source": [],
      "metadata": {
        "id": "es_V_VGZOAFl"
      },
      "execution_count": null,
      "outputs": []
    },
    {
      "cell_type": "markdown",
      "source": [
        "실습2"
      ],
      "metadata": {
        "id": "Y87HeMDpJcKq"
      }
    },
    {
      "cell_type": "markdown",
      "source": [
        "## 클래스란?"
      ],
      "metadata": {
        "id": "sK-zQDDAONwV"
      }
    },
    {
      "cell_type": "markdown",
      "source": [
        "*   클래스는 객체를 정의하는 틀\n",
        "*   객체는 클래스의 인스턴스(instance)"
      ],
      "metadata": {
        "id": "M1uZdb8aOO-v"
      }
    },
    {
      "cell_type": "code",
      "source": [
        "class Dog:\n",
        "    # 클래스 속성\n",
        "    species = 'Canis familiaris'\n",
        "\n",
        "    # 초기화 메서드\n",
        "    def __init__(self, name, age):\n",
        "        self.name = name\n",
        "        self.age = age\n",
        "\n",
        "    # 메서드\n",
        "    def bark(self):\n",
        "        return f'{self.name} says woof!'\n",
        "\n",
        "# 객체 생성\n",
        "my_dog = Dog('Rex', 5)\n",
        "\n",
        "# 객체의 속성과 메서드 사용\n",
        "print(my_dog.name)  # 출력: Rex\n",
        "print(my_dog.age)   # 출력: 5\n",
        "print(my_dog.bark()) # 출력: Rex says woof!\n"
      ],
      "metadata": {
        "colab": {
          "base_uri": "https://localhost:8080/"
        },
        "id": "sRemsTF_JcUc",
        "outputId": "68197a3c-b3af-4d1e-9e42-39fd0d07c8af"
      },
      "execution_count": 2,
      "outputs": [
        {
          "output_type": "stream",
          "name": "stdout",
          "text": [
            "Rex\n",
            "5\n",
            "Rex says woof!\n"
          ]
        }
      ]
    },
    {
      "cell_type": "markdown",
      "source": [
        "요약\n",
        "* class 키워드로 클래스를 정의합니다.\n",
        "*   __init__ 메서드는 초기화 메서드로, 객체가 생성될 때 호출됩니다.\n",
        "*   self는 인스턴스 자신을 참조합니다.\n",
        "\n",
        "\n"
      ],
      "metadata": {
        "id": "nhuqQiilOV6l"
      }
    },
    {
      "cell_type": "markdown",
      "source": [
        "## 클래스 속성과 인스턴스 속성"
      ],
      "metadata": {
        "id": "h8kTzlLnOdsA"
      }
    },
    {
      "cell_type": "markdown",
      "source": [
        "### 클래스 속성\n",
        "* 클래스 자체에 속하는 속성\n",
        "* 모든 인스턴스가 공유\n",
        "### 인스턴스 속성\n",
        "* 각 인스턴스에 속하는 속성\n",
        "* 각 인스턴스마다 독립적"
      ],
      "metadata": {
        "id": "ahOQ76MyOf3N"
      }
    },
    {
      "cell_type": "code",
      "source": [
        "class Dog:\n",
        "    species = 'Canis familiaris'  # 클래스 속성\n",
        "\n",
        "    def __init__(self, name, age):\n",
        "        self.name = name  # 인스턴스 속성\n",
        "        self.age = age  # 인스턴스 속성\n",
        "\n",
        "dog1 = Dog('Buddy', 3)\n",
        "dog2 = Dog('Molly', 5)\n",
        "\n",
        "print(dog1.species)  # 출력: Canis familiaris\n",
        "print(dog2.species)  # 출력: Canis familiaris\n",
        "\n",
        "print(dog1.name)  # 출력: Buddy\n",
        "print(dog2.name)  # 출력: Molly\n"
      ],
      "metadata": {
        "colab": {
          "base_uri": "https://localhost:8080/"
        },
        "id": "uJH5ewBiLPyn",
        "outputId": "228c389b-ceed-4ba6-bc59-3a7af7dc1330"
      },
      "execution_count": 3,
      "outputs": [
        {
          "output_type": "stream",
          "name": "stdout",
          "text": [
            "Canis familiaris\n",
            "Canis familiaris\n",
            "Buddy\n",
            "Molly\n"
          ]
        }
      ]
    },
    {
      "cell_type": "markdown",
      "source": [
        "## 메서드"
      ],
      "metadata": {
        "id": "clQS0g4gOn2E"
      }
    },
    {
      "cell_type": "markdown",
      "source": [
        "### 인스턴스 메서드\n",
        "* 클래스 내부에 정의된 함수\n",
        "* 인스턴스에서 호출"
      ],
      "metadata": {
        "id": "Fjh_5LYhOp2X"
      }
    },
    {
      "cell_type": "code",
      "source": [
        "class Dog:\n",
        "    def __init__(self, name, age):\n",
        "        self.name = name\n",
        "        self.age = age\n",
        "\n",
        "    def bark(self):\n",
        "        return f'{self.name} says woof!'\n",
        "\n",
        "my_dog = Dog('Rex', 5)\n",
        "print(my_dog.bark())  # 출력: Rex says woof!\n"
      ],
      "metadata": {
        "colab": {
          "base_uri": "https://localhost:8080/"
        },
        "id": "3jbMzNcsOlcu",
        "outputId": "42e7e4fe-b872-4883-c0f7-3dbd7b25b767"
      },
      "execution_count": 4,
      "outputs": [
        {
          "output_type": "stream",
          "name": "stdout",
          "text": [
            "Rex says woof!\n"
          ]
        }
      ]
    },
    {
      "cell_type": "markdown",
      "source": [
        "### 클래스 메서드\n",
        "* 클래스에 속하는 메서드\n",
        "* @classmethod 데코레이터를 사용"
      ],
      "metadata": {
        "id": "a8QLXocrOw4o"
      }
    },
    {
      "cell_type": "code",
      "source": [
        "class Dog:\n",
        "    species = 'Canis familiaris'\n",
        "\n",
        "    def __init__(self, name, age):\n",
        "        self.name = name\n",
        "        self.age = age\n",
        "\n",
        "    @classmethod\n",
        "    def get_species(cls):\n",
        "        return cls.species\n",
        "\n",
        "print(Dog.get_species())  # 출력: Canis familiaris\n"
      ],
      "metadata": {
        "colab": {
          "base_uri": "https://localhost:8080/"
        },
        "id": "68aZ5sZkOuqO",
        "outputId": "581974bc-3021-4be5-931f-75d8dfc5bc63"
      },
      "execution_count": 5,
      "outputs": [
        {
          "output_type": "stream",
          "name": "stdout",
          "text": [
            "Canis familiaris\n"
          ]
        }
      ]
    },
    {
      "cell_type": "markdown",
      "source": [
        "### 정적 메서드\n",
        "* 클래스에 속하지만, 인스턴스나 클래스 속성에 접근하지 않음\n",
        "* @staticmethod 데코레이터를 사용"
      ],
      "metadata": {
        "id": "cUp9qzQWO3jr"
      }
    },
    {
      "cell_type": "code",
      "source": [
        "class Dog:\n",
        "    @staticmethod\n",
        "    def bark():\n",
        "        return 'Woof!'\n",
        "\n",
        "print(Dog.bark())  # 출력: Woof!\n"
      ],
      "metadata": {
        "colab": {
          "base_uri": "https://localhost:8080/"
        },
        "id": "YqIn3fX9O3oZ",
        "outputId": "d6abd518-61cb-4157-c35e-3a8dcde9e48d"
      },
      "execution_count": 6,
      "outputs": [
        {
          "output_type": "stream",
          "name": "stdout",
          "text": [
            "Woof!\n"
          ]
        }
      ]
    },
    {
      "cell_type": "markdown",
      "source": [
        "## 상속\n",
        "* 새로운 클래스가 기존 클래스를 물려받는 것\n",
        "* 코드 재사용성을 높임"
      ],
      "metadata": {
        "id": "RRI4dhqbO9os"
      }
    },
    {
      "cell_type": "code",
      "source": [
        "class Animal:\n",
        "    def __init__(self, name):\n",
        "        self.name = name\n",
        "\n",
        "    def speak(self):\n",
        "        pass\n",
        "\n",
        "class Dog(Animal):\n",
        "    def speak(self):\n",
        "        return f'{self.name} says woof!'\n",
        "\n",
        "class Cat(Animal):\n",
        "    def speak(self):\n",
        "        return f'{self.name} says meow!'\n",
        "\n",
        "dog = Dog('Rex')\n",
        "cat = Cat('Whiskers')\n",
        "\n",
        "print(dog.speak())  # 출력: Rex says woof!\n",
        "print(cat.speak())  # 출력: Whiskers says meow!\n"
      ],
      "metadata": {
        "colab": {
          "base_uri": "https://localhost:8080/"
        },
        "id": "N0YgUSUZO2bH",
        "outputId": "a2a5670d-8f00-499b-858a-81173c7dad40"
      },
      "execution_count": 7,
      "outputs": [
        {
          "output_type": "stream",
          "name": "stdout",
          "text": [
            "Rex says woof!\n",
            "Whiskers says meow!\n"
          ]
        }
      ]
    },
    {
      "cell_type": "markdown",
      "source": [
        "### 메서드 오버라이딩\n",
        "* 부모 클래스의 메서드를 자식 클래스에서 재정의하는 것"
      ],
      "metadata": {
        "id": "GHmMk_hUPFXi"
      }
    },
    {
      "cell_type": "code",
      "source": [
        "class Animal:\n",
        "    def speak(self):\n",
        "        return 'Some sound'\n",
        "\n",
        "class Dog(Animal):\n",
        "    def speak(self):\n",
        "        return 'Woof!'\n",
        "\n",
        "dog = Dog()\n",
        "print(dog.speak())  # 출력: Woof!\n"
      ],
      "metadata": {
        "colab": {
          "base_uri": "https://localhost:8080/"
        },
        "id": "P111Sx0pPFcC",
        "outputId": "b7f5046d-090d-4fbe-8714-38bf4477d0cf"
      },
      "execution_count": 8,
      "outputs": [
        {
          "output_type": "stream",
          "name": "stdout",
          "text": [
            "Woof!\n"
          ]
        }
      ]
    },
    {
      "cell_type": "markdown",
      "source": [
        "### self 필요성 - self는 클래스 인스턴스 자신을 가리키는 변수"
      ],
      "metadata": {
        "id": "nCmiLwkxPRji"
      }
    },
    {
      "cell_type": "markdown",
      "source": [
        "* \"self\"는 클래스의 인스턴스 변수와 메서드에 접근하기 위해 필요\n",
        "* 인스턴스 변수는 객체마다 다를 수 있으므로, \"self\"를 사용하여 해당 객체의 변수를 참조"
      ],
      "metadata": {
        "id": "kAcV7d-oPXO0"
      }
    },
    {
      "cell_type": "code",
      "source": [
        "class Person:\n",
        "    def __init__(self, name, age):\n",
        "        self.name = name  # 인스턴스 변수 name\n",
        "        self.age = age    # 인스턴스 변수 age\n",
        "\n",
        "    def introduce(self):\n",
        "        return f'Hi, my name is {self.name} and I am {self.age} years old.'\n",
        "\n",
        "# 객체 생성\n",
        "person1 = Person('Alice', 30)\n",
        "person2 = Person('Bob', 25)\n",
        "\n",
        "# 메서드 호출\n",
        "print(person1.introduce())  # 출력: Hi, my name is Alice and I am 30 years old.\n",
        "print(person2.introduce())  # 출력: Hi, my name is Bob and I am 25 years old.\n"
      ],
      "metadata": {
        "colab": {
          "base_uri": "https://localhost:8080/"
        },
        "id": "wWh9bypePRn8",
        "outputId": "d9682c25-f1b3-495b-edc2-410f53c13523"
      },
      "execution_count": 9,
      "outputs": [
        {
          "output_type": "stream",
          "name": "stdout",
          "text": [
            "Hi, my name is Alice and I am 30 years old.\n",
            "Hi, my name is Bob and I am 25 years old.\n"
          ]
        }
      ]
    },
    {
      "cell_type": "code",
      "source": [],
      "metadata": {
        "id": "qQI4yG7WPCbA"
      },
      "execution_count": null,
      "outputs": []
    }
  ]
}