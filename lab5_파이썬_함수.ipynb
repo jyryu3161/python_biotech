{
  "nbformat": 4,
  "nbformat_minor": 0,
  "metadata": {
    "colab": {
      "provenance": [],
      "authorship_tag": "ABX9TyP1jwNHtGgn+3lFWLK8yax5",
      "include_colab_link": true
    },
    "kernelspec": {
      "name": "python3",
      "display_name": "Python 3"
    },
    "language_info": {
      "name": "python"
    }
  },
  "cells": [
    {
      "cell_type": "markdown",
      "metadata": {
        "id": "view-in-github",
        "colab_type": "text"
      },
      "source": [
        "<a href=\"https://colab.research.google.com/github/jyryu3161/python_biotech/blob/main/lab5_%ED%8C%8C%EC%9D%B4%EC%8D%AC_%ED%95%A8%EC%88%98.ipynb\" target=\"_parent\"><img src=\"https://colab.research.google.com/assets/colab-badge.svg\" alt=\"Open In Colab\"/></a>"
      ]
    },
    {
      "cell_type": "markdown",
      "source": [
        "# Lab5.파이썬 프로그래밍 함수"
      ],
      "metadata": {
        "id": "pjYVFLgjOuye"
      }
    },
    {
      "cell_type": "markdown",
      "source": [
        "## 함수"
      ],
      "metadata": {
        "id": "fxT5KES5VVI7"
      }
    },
    {
      "cell_type": "markdown",
      "source": [
        "함수의 구조"
      ],
      "metadata": {
        "id": "na0tcO-qFAcf"
      }
    },
    {
      "cell_type": "code",
      "source": [
        "def 함수명(매개변수):\n",
        "    <수행할 문장1>\n",
        "    <수행할 문장2>\n",
        "\n",
        "return 리턴 값\n"
      ],
      "metadata": {
        "id": "Jpk9DC2lOvg1"
      },
      "execution_count": null,
      "outputs": []
    },
    {
      "cell_type": "markdown",
      "source": [
        "일반적인 함수 정의"
      ],
      "metadata": {
        "id": "n6Nl-qU7kkgh"
      }
    },
    {
      "cell_type": "code",
      "source": [
        "def sum(a, b):\n",
        "    result = a + b\n",
        "    return result\n",
        "\n",
        "a = sum(3, 4)\n",
        "print (a)\n",
        "\n",
        "a = sum(30, 40)\n",
        "print (a)\n",
        "\n",
        "a = sum(23, 14)\n",
        "print (a)"
      ],
      "metadata": {
        "id": "uhr4M_cJkqJw",
        "colab": {
          "base_uri": "https://localhost:8080/"
        },
        "outputId": "ccfb12e5-6d18-41ce-dad8-4ab56ce6a036"
      },
      "execution_count": 2,
      "outputs": [
        {
          "output_type": "stream",
          "name": "stdout",
          "text": [
            "7\n",
            "70\n",
            "37\n"
          ]
        }
      ]
    },
    {
      "cell_type": "markdown",
      "source": [
        "코드의 흐름"
      ],
      "metadata": {
        "id": "dIRv7BWFkqTD"
      }
    },
    {
      "cell_type": "code",
      "source": [
        "print('1')\n",
        "def sum(a, b):\n",
        "    print('2')\n",
        "    result = a + b\n",
        "    return result\n",
        "\n",
        "print('3')\n",
        "a = sum(3, 4)\n",
        "print('4')\n",
        "a = sum(13, 14)\n",
        "print('4')"
      ],
      "metadata": {
        "colab": {
          "base_uri": "https://localhost:8080/"
        },
        "id": "-hThAAnSkqYh",
        "outputId": "d79feb33-776f-46a8-c2ba-4fcd95ae83ba"
      },
      "execution_count": 4,
      "outputs": [
        {
          "output_type": "stream",
          "name": "stdout",
          "text": [
            "1\n",
            "3\n",
            "2\n",
            "4\n",
            "2\n",
            "4\n"
          ]
        }
      ]
    },
    {
      "cell_type": "markdown",
      "source": [
        "전역변수, 지역변수"
      ],
      "metadata": {
        "id": "Jvumpq0qkqb1"
      }
    },
    {
      "cell_type": "code",
      "source": [],
      "metadata": {
        "id": "Q_XC8rYhkqhb"
      },
      "execution_count": null,
      "outputs": []
    },
    {
      "cell_type": "markdown",
      "source": [
        "입력값이 없는 함수"
      ],
      "metadata": {
        "id": "kOE7SNnclJG0"
      }
    },
    {
      "cell_type": "code",
      "source": [
        "def say():\n",
        "    return 'Hi'\n",
        "\n",
        "a = say()\n",
        "print(a)\n",
        "\n"
      ],
      "metadata": {
        "colab": {
          "base_uri": "https://localhost:8080/"
        },
        "id": "RVNGMCuAlJMt",
        "outputId": "27aa901d-a037-400e-ad31-0479b32479a7"
      },
      "execution_count": 6,
      "outputs": [
        {
          "output_type": "stream",
          "name": "stdout",
          "text": [
            "Hi\n"
          ]
        }
      ]
    },
    {
      "cell_type": "markdown",
      "source": [
        "리턴(결과)값이 없는 함수"
      ],
      "metadata": {
        "id": "Y5NIzvgglLRF"
      }
    },
    {
      "cell_type": "code",
      "source": [
        "def sum(a, b):\n",
        "    print(\"%d, %d의 합은 %d입니다.\" % (a, b, a+b))\n",
        "\n",
        "# sum(3, 4)\n",
        "\n",
        "# result = sum(3, 4)\n",
        "# print(result)\n",
        "\n",
        "\n",
        "a = [1, 3, 5, 7, 9]\n",
        "b = a.reverse()\n",
        "print(b)\n",
        "\n"
      ],
      "metadata": {
        "colab": {
          "base_uri": "https://localhost:8080/"
        },
        "id": "yupCCDgglLYL",
        "outputId": "9ac59b91-d49b-4e09-e48c-6b1d6659780f"
      },
      "execution_count": 10,
      "outputs": [
        {
          "output_type": "stream",
          "name": "stdout",
          "text": [
            "None\n"
          ]
        }
      ]
    },
    {
      "cell_type": "markdown",
      "source": [
        "입력값도 결과값도 없는 함수"
      ],
      "metadata": {
        "id": "M1KTKdoHlbhn"
      }
    },
    {
      "cell_type": "code",
      "source": [
        "def say():\n",
        "    print('Hi')\n",
        "\n",
        "say()\n",
        "\n"
      ],
      "metadata": {
        "colab": {
          "base_uri": "https://localhost:8080/"
        },
        "id": "jTwszOQ5lbnI",
        "outputId": "d348652c-48de-4c64-a27f-162214d7abe4"
      },
      "execution_count": 11,
      "outputs": [
        {
          "output_type": "stream",
          "name": "stdout",
          "text": [
            "Hi\n"
          ]
        }
      ]
    },
    {
      "cell_type": "code",
      "source": [],
      "metadata": {
        "id": "hYQOWUxslZh9"
      },
      "execution_count": null,
      "outputs": []
    },
    {
      "cell_type": "markdown",
      "source": [
        "함수의 결과값을 받는 방법들"
      ],
      "metadata": {
        "id": "mdXIi_UMliFs"
      }
    },
    {
      "cell_type": "code",
      "source": [
        "def sum_and_mul(a,b):\n",
        "\treturn a+b, a*b\n",
        "\n",
        "result = sum_and_mul(3,4)\n",
        "print(result)\n",
        "\n",
        "sum_val = result[0]\n",
        "mul_val = result[1]\n",
        "print (sum_val, mul_val)"
      ],
      "metadata": {
        "colab": {
          "base_uri": "https://localhost:8080/"
        },
        "id": "xOn1IIXPliLM",
        "outputId": "f93ce3c6-653f-4e5b-a8cb-7bc076da607e"
      },
      "execution_count": 13,
      "outputs": [
        {
          "output_type": "stream",
          "name": "stdout",
          "text": [
            "(7, 12)\n",
            "7 12\n"
          ]
        }
      ]
    },
    {
      "cell_type": "code",
      "source": [
        "def sum_and_mul(a,b):\n",
        "\treturn a+b, a*b\n",
        "\n",
        "sum_val, mul_val = sum_and_mul(3,4)\n",
        "print(sum_val, mul_val)\n"
      ],
      "metadata": {
        "colab": {
          "base_uri": "https://localhost:8080/"
        },
        "id": "vf6BXk8ClmkH",
        "outputId": "7a94ddb4-c329-40c5-bbfc-36d9a1321455"
      },
      "execution_count": 14,
      "outputs": [
        {
          "output_type": "stream",
          "name": "stdout",
          "text": [
            "7 12\n"
          ]
        }
      ]
    },
    {
      "cell_type": "markdown",
      "source": [
        "매개변수에 초깃값을 설정하는 방법"
      ],
      "metadata": {
        "id": "SlDv18yslune"
      }
    },
    {
      "cell_type": "code",
      "source": [
        "def say_myself(name, old, man=True): \n",
        "    print(\"나의 이름은 %s 입니다.\" % name)\n",
        "    print(\"나이는 %d살입니다.\" % old) \n",
        "    if man:\n",
        "        print(\"남자입니다.\")\n",
        "    else:\n",
        "        print(\"여자입니다.\")\n",
        "\n",
        "say_myself(\"박응용\", 27)\n",
        "say_myself(\"박응용\", 27, True)\n"
      ],
      "metadata": {
        "colab": {
          "base_uri": "https://localhost:8080/"
        },
        "id": "UdegL3nKlnuQ",
        "outputId": "6e796b21-f060-416a-a7ec-a03d56de5702"
      },
      "execution_count": 15,
      "outputs": [
        {
          "output_type": "stream",
          "name": "stdout",
          "text": [
            "나의 이름은 박응용 입니다.\n",
            "나이는 27살입니다.\n",
            "남자입니다.\n",
            "나의 이름은 박응용 입니다.\n",
            "나이는 27살입니다.\n",
            "남자입니다.\n"
          ]
        }
      ]
    },
    {
      "cell_type": "markdown",
      "source": [
        "함수 매개 변수에 초깃값을 설정할 때 주의할 사항\n"
      ],
      "metadata": {
        "id": "XQn4eiOnl8aq"
      }
    },
    {
      "cell_type": "code",
      "source": [
        "def say_myself(name, man=True, old): \n",
        "    print(\"나의 이름은 %s 입니다.\" % name)\n",
        "    print(\"나이는 %d살입니다.\" % old) \n",
        "    if man:\n",
        "        print(\"남자입니다.\")\n",
        "    else:\n",
        "        print(\"여자입니다.\")\n",
        "\n",
        "say_myself(\"박응용\", 27)\n",
        "say_myself(\"박응용\", 27, True)\n"
      ],
      "metadata": {
        "colab": {
          "base_uri": "https://localhost:8080/",
          "height": 134
        },
        "id": "yW6VOZ84l8ee",
        "outputId": "d070851d-31bc-4e09-e9af-5e83fc50c054"
      },
      "execution_count": 17,
      "outputs": [
        {
          "output_type": "error",
          "ename": "SyntaxError",
          "evalue": "ignored",
          "traceback": [
            "\u001b[0;36m  File \u001b[0;32m\"<ipython-input-17-8555785abdda>\"\u001b[0;36m, line \u001b[0;32m1\u001b[0m\n\u001b[0;31m    def say_myself(name, man=True, old):\u001b[0m\n\u001b[0m                                   ^\u001b[0m\n\u001b[0;31mSyntaxError\u001b[0m\u001b[0;31m:\u001b[0m non-default argument follows default argument\n"
          ]
        }
      ]
    },
    {
      "cell_type": "markdown",
      "source": [
        "함수 안에서 선언된 변수의 효력 범위\n"
      ],
      "metadata": {
        "id": "DNpRInC0mIHX"
      }
    },
    {
      "cell_type": "code",
      "source": [
        "a = 1\n",
        "def vartest(a): \n",
        "    a = a + 1\n",
        "\n",
        "vartest(a) \n",
        "print(a)\n"
      ],
      "metadata": {
        "colab": {
          "base_uri": "https://localhost:8080/"
        },
        "id": "BVEQCafkmIUa",
        "outputId": "08f857b4-147a-4bbc-d8bd-9e1493442a58"
      },
      "execution_count": null,
      "outputs": [
        {
          "output_type": "stream",
          "name": "stdout",
          "text": [
            "1\n"
          ]
        }
      ]
    },
    {
      "cell_type": "code",
      "source": [
        "def sum(a, b): \n",
        "    result = a + b \n",
        "    return result\n",
        "\n",
        "a = 3\n",
        "b = 5\n",
        "a = sum(a, b)\n"
      ],
      "metadata": {
        "id": "tA0X7CPgp3gx"
      },
      "execution_count": null,
      "outputs": []
    },
    {
      "cell_type": "code",
      "source": [
        "a = 1\n",
        "def vartest(): \n",
        "    global a \n",
        "    a = a + 1\n",
        "\n",
        "vartest()\n",
        "print(a)\n"
      ],
      "metadata": {
        "colab": {
          "base_uri": "https://localhost:8080/"
        },
        "id": "_rwZPFlRrEOY",
        "outputId": "4b4046a8-4cfe-4227-8ea6-214839c15963"
      },
      "execution_count": 19,
      "outputs": [
        {
          "output_type": "stream",
          "name": "stdout",
          "text": [
            "1\n"
          ]
        }
      ]
    },
    {
      "cell_type": "markdown",
      "source": [
        "## 내장함수"
      ],
      "metadata": {
        "id": "x_azll9kmTMw"
      }
    },
    {
      "cell_type": "code",
      "source": [
        "abs(3) \n",
        "all([1, 2, 3])\n",
        "any([1, 2, 3, 0])\n",
        "dir([1, 2, 3])\n",
        "divmod(7, 3)\n",
        "\n",
        "# data = ['body', 'foo', 'bar']\n",
        "# for i in range(len(data)): \n",
        "# \tprint(i, data[i])\n",
        " \n",
        "for i, name in enumerate(['body', 'foo', 'bar']): \n",
        "\tprint(i, name)\n",
        " \n",
        "# a = 3\n",
        "# id(a)\n",
        "# pow(2, 4)\n"
      ],
      "metadata": {
        "id": "hH85mKIimMBE",
        "colab": {
          "base_uri": "https://localhost:8080/"
        },
        "outputId": "97ce6e71-3611-4939-f385-4bb41495ccef"
      },
      "execution_count": 21,
      "outputs": [
        {
          "output_type": "stream",
          "name": "stdout",
          "text": [
            "0 body\n",
            "1 foo\n",
            "2 bar\n"
          ]
        }
      ]
    },
    {
      "cell_type": "markdown",
      "source": [
        "## 외장함수"
      ],
      "metadata": {
        "id": "836Lxm2smU1a"
      }
    },
    {
      "cell_type": "code",
      "source": [
        "import time\n",
        "\n",
        "print(time.time())\n",
        "print(time.localtime(time.time()))\n"
      ],
      "metadata": {
        "colab": {
          "base_uri": "https://localhost:8080/"
        },
        "id": "fG18rkFumU67",
        "outputId": "6252eb0c-c00b-439f-e737-bed6a8444f09"
      },
      "execution_count": null,
      "outputs": [
        {
          "output_type": "stream",
          "name": "stdout",
          "text": [
            "1682932688.2402186\n",
            "time.struct_time(tm_year=2023, tm_mon=5, tm_mday=1, tm_hour=9, tm_min=18, tm_sec=8, tm_wday=0, tm_yday=121, tm_isdst=0)\n"
          ]
        }
      ]
    },
    {
      "cell_type": "code",
      "source": [
        "import random\n",
        "print(random.random()) # 0~1 사이의 난수\n",
        "print(random.randint(1, 10))\n",
        "\n",
        "data = [1, 2, 3, 4, 5]\n",
        "random.shuffle(data)\n",
        "print(data)\n"
      ],
      "metadata": {
        "colab": {
          "base_uri": "https://localhost:8080/"
        },
        "id": "gkCNO0plmrRK",
        "outputId": "0954a489-c056-4f0b-f5ed-2a076dd3c995"
      },
      "execution_count": null,
      "outputs": [
        {
          "output_type": "stream",
          "name": "stdout",
          "text": [
            "0.011528395186953921\n",
            "7\n",
            "[2, 3, 4, 1, 5]\n"
          ]
        }
      ]
    },
    {
      "cell_type": "markdown",
      "source": [
        "## 실습 문제"
      ],
      "metadata": {
        "id": "nBZ3JzFAm51L"
      }
    },
    {
      "cell_type": "markdown",
      "source": [
        "1. 다음 코드를 참고하여 하나의 정수를 함수의 입력으로 받아, 소수인지 아닌지를 판단하는 함수 코드를 작성하세요. 소수인 경우 return 값으로 True, 소수가 아닌 경우 return 값으로 False를 반환하세요."
      ],
      "metadata": {
        "id": "6ko0AkL9oTll"
      }
    },
    {
      "cell_type": "code",
      "source": [
        "\n",
        "def check_prime_number(n):\n",
        "    cnt = 0\n",
        "    for i in range(2, n):\n",
        "        if n % i == 0:\n",
        "            cnt = cnt + 1\n",
        "\n",
        "    if cnt == 0:\n",
        "        return True\n",
        "    else:\n",
        "        return False\n",
        "    \n",
        "n = int(input(\"수를 입력하세요. \"))\n",
        "result = check_prime_number(n)\n",
        "print(result)\n"
      ],
      "metadata": {
        "id": "hfg2lF6ToTwo",
        "colab": {
          "base_uri": "https://localhost:8080/"
        },
        "outputId": "cc19cc83-46f6-4960-8d30-a867cb023c8d"
      },
      "execution_count": 22,
      "outputs": [
        {
          "output_type": "stream",
          "name": "stdout",
          "text": [
            "수를 입력하세요. 7\n",
            "True\n"
          ]
        }
      ]
    },
    {
      "cell_type": "markdown",
      "source": [
        "2. 숫자로 구성된 리스트를 함수의 입력으로 받고, 해당 리스트의 합을 모두 계산하여 반환하는 함수를 작성하세요."
      ],
      "metadata": {
        "id": "4evdXwRIomNR"
      }
    },
    {
      "cell_type": "code",
      "source": [
        "def sum_list_values(my_list):\n",
        "    sum = 0\n",
        "    for each_value in my_list:\n",
        "        sum = sum + each_value\n",
        "    return sum\n",
        "\n",
        "my_list = [1,2,3,4,5,6]\n",
        "result = sum_list_values(my_list)\n",
        "print(result)\n"
      ],
      "metadata": {
        "id": "j8Ul0X97omSJ",
        "colab": {
          "base_uri": "https://localhost:8080/"
        },
        "outputId": "b8222445-99b9-43df-d8e7-f397694b4fde"
      },
      "execution_count": 23,
      "outputs": [
        {
          "output_type": "stream",
          "name": "stdout",
          "text": [
            "21\n"
          ]
        }
      ]
    },
    {
      "cell_type": "code",
      "source": [],
      "metadata": {
        "id": "Tpk7B4Iz20r5"
      },
      "execution_count": null,
      "outputs": []
    }
  ]
}