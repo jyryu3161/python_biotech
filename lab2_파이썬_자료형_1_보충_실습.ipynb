{
  "nbformat": 4,
  "nbformat_minor": 0,
  "metadata": {
    "colab": {
      "provenance": [],
      "toc_visible": true,
      "authorship_tag": "ABX9TyOXCQy3Ta037YoCEmjgpQzK",
      "include_colab_link": true
    },
    "kernelspec": {
      "name": "python3",
      "display_name": "Python 3"
    },
    "language_info": {
      "name": "python"
    }
  },
  "cells": [
    {
      "cell_type": "markdown",
      "metadata": {
        "id": "view-in-github",
        "colab_type": "text"
      },
      "source": [
        "<a href=\"https://colab.research.google.com/github/jyryu3161/python_biotech/blob/main/lab2_%ED%8C%8C%EC%9D%B4%EC%8D%AC_%EC%9E%90%EB%A3%8C%ED%98%95_1_%EB%B3%B4%EC%B6%A9_%EC%8B%A4%EC%8A%B5.ipynb\" target=\"_parent\"><img src=\"https://colab.research.google.com/assets/colab-badge.svg\" alt=\"Open In Colab\"/></a>"
      ]
    },
    {
      "cell_type": "markdown",
      "source": [
        "# Lab2.파이썬 프로그래밍 기초, 자료형"
      ],
      "metadata": {
        "id": "pjYVFLgjOuye"
      }
    },
    {
      "cell_type": "markdown",
      "source": [
        "# 수치형"
      ],
      "metadata": {
        "id": "XBZQ5L_rRqLH"
      }
    },
    {
      "cell_type": "markdown",
      "source": [
        "덧셈과 뺄셈 연습\n",
        "\n",
        "문제: 변수 a에 15를, 변수 b에 9를 저장하고, 이 두 변수의 합과 차를 각각 출력하세요."
      ],
      "metadata": {
        "id": "e5lgfriMQ1co"
      }
    },
    {
      "cell_type": "code",
      "source": [],
      "metadata": {
        "id": "4B4gR1x77t4n"
      },
      "execution_count": null,
      "outputs": []
    },
    {
      "cell_type": "markdown",
      "source": [
        "곱셈과 나눗셈 연습\n",
        "\n",
        "문제: 변수 x에 8을, 변수 y에 4를 저장한 후, 이 두 변수의 곱과 나눗셈의 결과를 출력하세요."
      ],
      "metadata": {
        "id": "FXe8eJU1RS4G"
      }
    },
    {
      "cell_type": "code",
      "source": [],
      "metadata": {
        "id": "hT6HlDGmRTAM"
      },
      "execution_count": null,
      "outputs": []
    },
    {
      "cell_type": "markdown",
      "source": [
        "실수로 변환하기\n",
        "\n",
        "문제: 정수 7을 실수로 변환한 후, 그 결과를 출력하세요."
      ],
      "metadata": {
        "id": "BIJWpsVSRWO4"
      }
    },
    {
      "cell_type": "code",
      "source": [],
      "metadata": {
        "id": "erurY6cqRWVX"
      },
      "execution_count": null,
      "outputs": []
    },
    {
      "cell_type": "markdown",
      "source": [
        "정수 나눗셈과 나머지\n",
        "\n",
        "문제: 17을 5로 나누었을 때의 몫과 나머지를 각각 구하고 출력하세요."
      ],
      "metadata": {
        "id": "wtkurlRdRZay"
      }
    },
    {
      "cell_type": "code",
      "source": [],
      "metadata": {
        "id": "z9VAQIyvRZjU"
      },
      "execution_count": null,
      "outputs": []
    },
    {
      "cell_type": "markdown",
      "source": [
        "복합 할당 연산자 사용하기\n",
        "\n",
        "문제: 변수 n에 10을 저장한 후, n에 3을 더하고 그 결과를 다시 n에 저장한 후 출력하세요. 그 다음, n을 2로 나눈 결과를 n에 저장하고 출력하세요."
      ],
      "metadata": {
        "id": "nd2QxcjERbac"
      }
    },
    {
      "cell_type": "code",
      "source": [],
      "metadata": {
        "id": "GvIHiLg_Rbhc"
      },
      "execution_count": null,
      "outputs": []
    },
    {
      "cell_type": "markdown",
      "source": [
        "거듭제곱 연산자 사용하기\n",
        "\n",
        "문제: 3의 4승을 계산하고 결과를 출력하세요."
      ],
      "metadata": {
        "id": "Tmx7m2T1ReSn"
      }
    },
    {
      "cell_type": "code",
      "source": [],
      "metadata": {
        "id": "1GxFJ81jRecE"
      },
      "execution_count": null,
      "outputs": []
    },
    {
      "cell_type": "markdown",
      "source": [
        "정수와 실수 혼합 연산\n",
        "\n",
        "문제: 변수 i에 정수 5를, 변수 f에 실수 3.5를 저장한 후, 이 두 변수를 곱한 결과를 출력하세요. 결과가 실수인지 정수인지 확인하세요."
      ],
      "metadata": {
        "id": "UsE0TXuoRi4o"
      }
    },
    {
      "cell_type": "code",
      "source": [],
      "metadata": {
        "id": "srdnFK8qRs1X"
      },
      "execution_count": null,
      "outputs": []
    },
    {
      "cell_type": "markdown",
      "source": [
        "# 문자열"
      ],
      "metadata": {
        "id": "vGECnfJVRrgY"
      }
    },
    {
      "cell_type": "markdown",
      "source": [
        "특정 문자 개수 세기: 문자열 \"banana\"에서 문자 'a'의 개수를 세어 출력하세요."
      ],
      "metadata": {
        "id": "KeE3_dnvRrq6"
      }
    },
    {
      "cell_type": "code",
      "source": [],
      "metadata": {
        "id": "zIrY5pclRi91"
      },
      "execution_count": null,
      "outputs": []
    },
    {
      "cell_type": "markdown",
      "source": [
        "대문자로 변환: 주어진 문자열 \"python\"을 모두 대문자로 변환하여 출력하세요."
      ],
      "metadata": {
        "id": "DkMz5CetR3pL"
      }
    },
    {
      "cell_type": "code",
      "source": [],
      "metadata": {
        "id": "EqGMX2D9R3wn"
      },
      "execution_count": null,
      "outputs": []
    },
    {
      "cell_type": "markdown",
      "source": [
        "소문자로 변환: 주어진 문자열 \"PYTHON\"을 모두 소문자로 변환하여 출력하세요."
      ],
      "metadata": {
        "id": "71J2a-JjR5Ig"
      }
    },
    {
      "cell_type": "code",
      "source": [],
      "metadata": {
        "id": "lsS8DOoUR5Nj"
      },
      "execution_count": null,
      "outputs": []
    },
    {
      "cell_type": "markdown",
      "source": [
        "문자열 길이 구하기: 문자열 \"Hello, world!\"의 길이를 구하여 출력하세요."
      ],
      "metadata": {
        "id": "tbiLOdZFR7KX"
      }
    },
    {
      "cell_type": "code",
      "source": [],
      "metadata": {
        "id": "i-vyOKp-R7Pi"
      },
      "execution_count": null,
      "outputs": []
    },
    {
      "cell_type": "markdown",
      "source": [
        "문자열 치환: 문자열 \"I like Python\"에서 \"Python\"을 \"programming\"으로 변경하세요."
      ],
      "metadata": {
        "id": "W3qBlLy_R9nP"
      }
    },
    {
      "cell_type": "code",
      "source": [],
      "metadata": {
        "id": "hKq2cUX5R9r5"
      },
      "execution_count": null,
      "outputs": []
    },
    {
      "cell_type": "markdown",
      "source": [
        "문자열 분리: 문자열 \"apple,banana,cherry\"를 쉼표(,) 기준으로 분리하여 리스트 형태로 출력하세요."
      ],
      "metadata": {
        "id": "vx5Qm82mR-Yl"
      }
    },
    {
      "cell_type": "code",
      "source": [],
      "metadata": {
        "id": "d9xRWGTjR-ew"
      },
      "execution_count": null,
      "outputs": []
    },
    {
      "cell_type": "markdown",
      "source": [
        "문자열 슬라이싱: 문자열 \"Python programming\"에서 \"programming\" 부분만 추출하여 출력하세요."
      ],
      "metadata": {
        "id": "7RsOK_ZqSANt"
      }
    },
    {
      "cell_type": "code",
      "source": [],
      "metadata": {
        "id": "8Ksxb-NFSAST"
      },
      "execution_count": null,
      "outputs": []
    },
    {
      "cell_type": "markdown",
      "source": [
        "문자열 포맷팅: 변수 name=\"John\"과 age=25를 사용하여 \"My name is John, and I am 25 years old.\"라는 문장을 포맷팅하여 출력하세요."
      ],
      "metadata": {
        "id": "FIdCdoxLSC-q"
      }
    },
    {
      "cell_type": "code",
      "source": [],
      "metadata": {
        "id": "dzzHmeQ2SDD9"
      },
      "execution_count": null,
      "outputs": []
    }
  ]
}