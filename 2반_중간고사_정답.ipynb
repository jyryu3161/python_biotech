{
  "nbformat": 4,
  "nbformat_minor": 0,
  "metadata": {
    "colab": {
      "provenance": [],
      "authorship_tag": "ABX9TyMHB9bX2aotkzi3TCPx5eeh",
      "include_colab_link": true
    },
    "kernelspec": {
      "name": "python3",
      "display_name": "Python 3"
    },
    "language_info": {
      "name": "python"
    }
  },
  "cells": [
    {
      "cell_type": "markdown",
      "metadata": {
        "id": "view-in-github",
        "colab_type": "text"
      },
      "source": [
        "<a href=\"https://colab.research.google.com/github/jyryu3161/python_biotech/blob/main/2%EB%B0%98_%EC%A4%91%EA%B0%84%EA%B3%A0%EC%82%AC_%EC%A0%95%EB%8B%B5.ipynb\" target=\"_parent\"><img src=\"https://colab.research.google.com/assets/colab-badge.svg\" alt=\"Open In Colab\"/></a>"
      ]
    },
    {
      "cell_type": "markdown",
      "source": [
        "# 중간고사"
      ],
      "metadata": {
        "id": "t_cWYFZKKxIr"
      }
    },
    {
      "cell_type": "markdown",
      "source": [
        "답안 제출: 파일명에 학번, 이름이 보이게 수정하여 \"파일\"->\"다운로드\"-> \".ipynb 다운로드\", \".py 다운로드\" 두 파일을 과제란에 제출하세요."
      ],
      "metadata": {
        "id": "Ko1fBFDuKzxj"
      }
    },
    {
      "cell_type": "markdown",
      "source": [
        "## 문제1 (10점)"
      ],
      "metadata": {
        "id": "OIrCrgpHLIy4"
      }
    },
    {
      "cell_type": "markdown",
      "source": [
        "월드컵은 4년에 한 번 개최된다. 2002~2050년까지 중 월드컵이 개최되는 연도를 출력하라. 시작은 2002년으로 한다."
      ],
      "metadata": {
        "id": "JaHooHwNLKw8"
      }
    },
    {
      "cell_type": "code",
      "source": [
        "# 아래 부분에 작성하세요.\n",
        "\n",
        "for i in range(2002, 2050+1, 4):\n",
        "    print(i)\n",
        "\n"
      ],
      "metadata": {
        "id": "N4fKirV1LrXr",
        "colab": {
          "base_uri": "https://localhost:8080/"
        },
        "outputId": "31c65168-b3df-42d7-cef6-b457eca2890a"
      },
      "execution_count": null,
      "outputs": [
        {
          "output_type": "stream",
          "name": "stdout",
          "text": [
            "2002\n",
            "2006\n",
            "2010\n",
            "2014\n",
            "2018\n",
            "2022\n",
            "2026\n",
            "2030\n",
            "2034\n",
            "2038\n",
            "2042\n",
            "2046\n",
            "2050\n"
          ]
        }
      ]
    },
    {
      "cell_type": "markdown",
      "source": [
        "## 문제2번 (10점)"
      ],
      "metadata": {
        "id": "UQMcSDxsLLjX"
      }
    },
    {
      "cell_type": "markdown",
      "source": [
        "아래 코드의 딕셔너리 codon_table 정보를 이용하여, 주어진 mRNA 서열을 단백질 서열로 변역하라.\n",
        "\n",
        "조건(가정):\n",
        "- mRNA 서열은 항상 3의 배수라고 가정한다.\n",
        "\n",
        "출력예시:\n",
        "\n",
        "입력 mRNA: AUGGAGGAGCCGCAGUCAUAG\n",
        "\n",
        "출력: MEEPQS*\n"
      ],
      "metadata": {
        "id": "1D_upClcLLlv"
      }
    },
    {
      "cell_type": "code",
      "source": [
        "# 아래 부분에 작성하세요.\n",
        "\n",
        "codon_table = {\n",
        "    'AUA': 'I', 'AUC': 'I', 'AUU': 'I', 'AUG': 'M',\n",
        "    'ACA': 'T', 'ACC': 'T', 'ACG': 'T', 'ACU': 'T',\n",
        "    'AAC': 'N', 'AAU': 'N', 'AAA': 'K', 'AAG': 'K',\n",
        "    'AGC': 'S', 'AGU': 'S', 'AGA': 'R', 'AGG': 'R',\n",
        "    'CUA': 'L', 'CUC': 'L', 'CUG': 'L', 'CUU': 'L',\n",
        "    'CCA': 'P', 'CCC': 'P', 'CCG': 'P', 'CCU': 'P',\n",
        "    'CAC': 'H', 'CAU': 'H', 'CAA': 'Q', 'CAG': 'Q',\n",
        "    'CGA': 'R', 'CGC': 'R', 'CGG': 'R', 'CGU': 'R',\n",
        "    'GUA': 'V', 'GUC': 'V', 'GUG': 'V', 'GUU': 'V',\n",
        "    'GCA': 'A', 'GCC': 'A', 'GCG': 'A', 'GCU': 'A',\n",
        "    'GAC': 'D', 'GAU': 'D', 'GAA': 'E', 'GAG': 'E',\n",
        "    'GGA': 'G', 'GGC': 'G', 'GGG': 'G', 'GGU': 'G',\n",
        "    'UCA': 'S', 'UCC': 'S', 'UCG': 'S', 'UCU': 'S',\n",
        "    'UUC': 'F', 'UUU': 'F', 'UUA': 'L', 'UUG': 'L',\n",
        "    'UAC': 'Y', 'UAU': 'Y', 'UAA': '*', 'UAG': '*',\n",
        "    'UGC': 'C', 'UGU': 'C', 'UGA': '*', 'UGG': 'W',\n",
        "}\n",
        "\n",
        "mrna = 'AUGGAGGAGCCGCAGUCAUAG'\n",
        "\n",
        "for i in range(0, len(mrna), 3):\n",
        "    codon = mrna[i:i+3]\n",
        "    aa = codon_table[codon]\n",
        "    print(aa, end='')\n",
        ""
      ],
      "metadata": {
        "id": "FpKyKbBGNUjW",
        "colab": {
          "base_uri": "https://localhost:8080/"
        },
        "outputId": "389fd32f-65a2-48ee-ae1d-ac519acc80db"
      },
      "execution_count": null,
      "outputs": [
        {
          "output_type": "stream",
          "name": "stdout",
          "text": [
            "MEEPQS*"
          ]
        }
      ]
    },
    {
      "cell_type": "markdown",
      "source": [
        "## 보너스 문제 (10점)"
      ],
      "metadata": {
        "id": "kxbaa8C0LLoC"
      }
    },
    {
      "cell_type": "markdown",
      "source": [
        "아래 코드의 딕셔너리 codon_table 정보를 이용하여, 주어진 mRNA 서열을 단백질 서열로 변역하라. 단, 번역의 시작코돈인 AUG에서 시작하며, 종료코돈 UAG, UAA, UGA를 만나면 번역을 종료한다.\n",
        "\n",
        "조건(가정):\n",
        "- mRNA 서열은 항상 3의 배수라고 가정한다.\n",
        "\n",
        "출력예시:\n",
        "\n",
        "입력 mRNA: CUAAGCAUGGAGGAGCCGCAGUCAUAGGCU\n",
        "\n",
        "출력: MEEPQS*\n"
      ],
      "metadata": {
        "id": "f8DlNkbmLLqC"
      }
    },
    {
      "cell_type": "code",
      "source": [
        "# 아래 부분에 작성하세요.\n",
        "\n",
        "codon_table = {\n",
        "    'AUA': 'I', 'AUC': 'I', 'AUU': 'I', 'AUG': 'M',\n",
        "    'ACA': 'T', 'ACC': 'T', 'ACG': 'T', 'ACU': 'T',\n",
        "    'AAC': 'N', 'AAU': 'N', 'AAA': 'K', 'AAG': 'K',\n",
        "    'AGC': 'S', 'AGU': 'S', 'AGA': 'R', 'AGG': 'R',\n",
        "    'CUA': 'L', 'CUC': 'L', 'CUG': 'L', 'CUU': 'L',\n",
        "    'CCA': 'P', 'CCC': 'P', 'CCG': 'P', 'CCU': 'P',\n",
        "    'CAC': 'H', 'CAU': 'H', 'CAA': 'Q', 'CAG': 'Q',\n",
        "    'CGA': 'R', 'CGC': 'R', 'CGG': 'R', 'CGU': 'R',\n",
        "    'GUA': 'V', 'GUC': 'V', 'GUG': 'V', 'GUU': 'V',\n",
        "    'GCA': 'A', 'GCC': 'A', 'GCG': 'A', 'GCU': 'A',\n",
        "    'GAC': 'D', 'GAU': 'D', 'GAA': 'E', 'GAG': 'E',\n",
        "    'GGA': 'G', 'GGC': 'G', 'GGG': 'G', 'GGU': 'G',\n",
        "    'UCA': 'S', 'UCC': 'S', 'UCG': 'S', 'UCU': 'S',\n",
        "    'UUC': 'F', 'UUU': 'F', 'UUA': 'L', 'UUG': 'L',\n",
        "    'UAC': 'Y', 'UAU': 'Y', 'UAA': '*', 'UAG': '*',\n",
        "    'UGC': 'C', 'UGU': 'C', 'UGA': '*', 'UGG': 'W',\n",
        "}\n",
        "\n",
        "mrna = 'CUAAGCAUGGAGGAGCCGCAGUCAUAGGCU'\n",
        "idx = mrna.index('AUG')\n",
        "\n",
        "for i in range(idx, len(mrna), 3):\n",
        "    codon = mrna[i:i+3]\n",
        "    aa = codon_table[codon]\n",
        "    print(aa, end='')\n",
        "    if aa == '*':\n",
        "        break\n",
        "\n",
        "print()\n",
        "mrna = 'CUAAGCAUGGAGGAGCCGCAGUCAUAGGCU'\n",
        "translation_flag = False\n",
        "\n",
        "for i in range(0, len(mrna), 3):\n",
        "    codon = mrna[i:i+3]\n",
        "    aa = codon_table[codon]\n",
        "\n",
        "    if codon == 'AUG':\n",
        "        translation_flag = True\n",
        "\n",
        "    if translation_flag == True:\n",
        "        print(aa, end='')\n",
        "    if aa == '*':\n",
        "        break\n"
      ],
      "metadata": {
        "id": "fpU0lJRZK-2b",
        "colab": {
          "base_uri": "https://localhost:8080/"
        },
        "outputId": "bba24cc5-65c6-488d-a2e0-050bf8eb2f43"
      },
      "execution_count": null,
      "outputs": [
        {
          "output_type": "stream",
          "name": "stdout",
          "text": [
            "MEEPQS*\n",
            "MEEPQS*"
          ]
        }
      ]
    },
    {
      "cell_type": "code",
      "source": [],
      "metadata": {
        "id": "CNv6IKNrMKVF"
      },
      "execution_count": null,
      "outputs": []
    }
  ]
}