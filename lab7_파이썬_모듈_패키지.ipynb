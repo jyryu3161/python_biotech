{
  "nbformat": 4,
  "nbformat_minor": 0,
  "metadata": {
    "colab": {
      "provenance": [],
      "authorship_tag": "ABX9TyNMqA2XuHbpdeJbEzjSw3+6",
      "include_colab_link": true
    },
    "kernelspec": {
      "name": "python3",
      "display_name": "Python 3"
    },
    "language_info": {
      "name": "python"
    }
  },
  "cells": [
    {
      "cell_type": "markdown",
      "metadata": {
        "id": "view-in-github",
        "colab_type": "text"
      },
      "source": [
        "<a href=\"https://colab.research.google.com/github/jyryu3161/python_biotech/blob/main/lab7_%ED%8C%8C%EC%9D%B4%EC%8D%AC_%EB%AA%A8%EB%93%88_%ED%8C%A8%ED%82%A4%EC%A7%80.ipynb\" target=\"_parent\"><img src=\"https://colab.research.google.com/assets/colab-badge.svg\" alt=\"Open In Colab\"/></a>"
      ]
    },
    {
      "cell_type": "markdown",
      "source": [
        "# Lab7.파이썬 모듈 패키지"
      ],
      "metadata": {
        "id": "pjYVFLgjOuye"
      }
    },
    {
      "cell_type": "markdown",
      "source": [
        "## 모듈 (module)"
      ],
      "metadata": {
        "id": "fxT5KES5VVI7"
      }
    },
    {
      "cell_type": "markdown",
      "source": [
        "미리 만들어 놓은 .py 파일 (함수, 변수, 클래스)"
      ],
      "metadata": {
        "id": "eyirHpbjp2oX"
      }
    },
    {
      "cell_type": "code",
      "source": [
        "# 아래 계산기에 사용 할 함수를 작성하세요.\n",
        "\n",
        "def add(n1, n2):\n",
        "\n",
        "    return \n",
        "\n",
        "def subtract(n1, n2):\n",
        "\n",
        "    return \n",
        "\n",
        "def multiply(n1, n2):\n",
        "\n",
        "    return \n",
        "\n",
        "def divide(n1, n2):\n",
        "\n",
        "    return \n",
        "\n",
        "def pow(n1, n2):\n",
        "\n",
        "    return \n",
        "\n",
        "if __name__ == \"__main__\":\n",
        "    print('프로그램 시작')\n",
        "    "
      ],
      "metadata": {
        "id": "0vIGUUmrykWx"
      },
      "execution_count": null,
      "outputs": []
    },
    {
      "cell_type": "markdown",
      "source": [
        "## 패키지"
      ],
      "metadata": {
        "id": "3It5W8vvqXGS"
      }
    },
    {
      "cell_type": "markdown",
      "source": [
        "모듈을 어려 개 모아놓은 것"
      ],
      "metadata": {
        "id": "zhyfu9ZtqZm5"
      }
    },
    {
      "cell_type": "code",
      "source": [],
      "metadata": {
        "id": "JoztsNRmqXLq"
      },
      "execution_count": null,
      "outputs": []
    },
    {
      "cell_type": "markdown",
      "source": [
        "## 외부 패키지의 설치"
      ],
      "metadata": {
        "id": "NKR5pR1zqe2Y"
      }
    },
    {
      "cell_type": "code",
      "source": [
        "from Bio import SeqIO"
      ],
      "metadata": {
        "colab": {
          "base_uri": "https://localhost:8080/",
          "height": 319
        },
        "id": "2vGndcpzr9t5",
        "outputId": "ec3c3d4d-676f-4492-e469-e0e022412eb4"
      },
      "execution_count": null,
      "outputs": [
        {
          "output_type": "error",
          "ename": "ModuleNotFoundError",
          "evalue": "ignored",
          "traceback": [
            "\u001b[0;31m---------------------------------------------------------------------------\u001b[0m",
            "\u001b[0;31mModuleNotFoundError\u001b[0m                       Traceback (most recent call last)",
            "\u001b[0;32m<ipython-input-1-5d24a7c49c42>\u001b[0m in \u001b[0;36m<cell line: 1>\u001b[0;34m()\u001b[0m\n\u001b[0;32m----> 1\u001b[0;31m \u001b[0;32mfrom\u001b[0m \u001b[0mBio\u001b[0m \u001b[0;32mimport\u001b[0m \u001b[0mSeqIO\u001b[0m\u001b[0;34m\u001b[0m\u001b[0;34m\u001b[0m\u001b[0m\n\u001b[0m",
            "\u001b[0;31mModuleNotFoundError\u001b[0m: No module named 'Bio'",
            "",
            "\u001b[0;31m---------------------------------------------------------------------------\u001b[0;32m\nNOTE: If your import is failing due to a missing package, you can\nmanually install dependencies using either !pip or !apt.\n\nTo view examples of installing some common dependencies, click the\n\"Open Examples\" button below.\n\u001b[0;31m---------------------------------------------------------------------------\u001b[0m\n"
          ],
          "errorDetails": {
            "actions": [
              {
                "action": "open_url",
                "actionText": "Open Examples",
                "url": "/notebooks/snippets/importing_libraries.ipynb"
              }
            ]
          }
        }
      ]
    },
    {
      "cell_type": "markdown",
      "source": [
        "리눅스, 윈도우 등 command 창에서는 pip install biopython 과 같은 형태로 설치하지만, colab 환경에서는 command 창과 동일하게 하려면 \"!pip install biopython\"처럼 !를 앞에 붙여줘야 함."
      ],
      "metadata": {
        "id": "MB6HbXccq2ol"
      }
    },
    {
      "cell_type": "code",
      "source": [
        "!pip instlal biopython"
      ],
      "metadata": {
        "id": "tcACCqBOqgMS"
      },
      "execution_count": null,
      "outputs": []
    },
    {
      "cell_type": "code",
      "source": [
        "from Bio import SeqIO\n"
      ],
      "metadata": {
        "id": "VEZP1AW5rFVJ"
      },
      "execution_count": null,
      "outputs": []
    },
    {
      "cell_type": "markdown",
      "source": [
        "## 실습 문제"
      ],
      "metadata": {
        "id": "7cufF6NhTjDq"
      }
    },
    {
      "cell_type": "markdown",
      "source": [
        "euclidean distance를 계산하는 함수를 작성하라."
      ],
      "metadata": {
        "id": "5CoG2v4WTpbW"
      }
    },
    {
      "cell_type": "markdown",
      "source": [
        "math 외장함수를 import하고, 제곱과, 제곱근을 위해서 math 함수의 pow와 sqrt 함수를 이용하세요."
      ],
      "metadata": {
        "id": "wic2PdNrT_iQ"
      }
    },
    {
      "cell_type": "markdown",
      "source": [
        "![An-example-of-Euclidean-distance-between-two-objects-on-variables-X-and-Y.png](data:image/png;base64,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)"
      ],
      "metadata": {
        "id": "chaQpAgoTlel"
      }
    },
    {
      "cell_type": "code",
      "source": [
        "# import 할 것\n",
        "\n",
        "def calculate_distance(x_list, y_list):\n",
        "    # 아래에 함수 작성\n",
        "\n",
        "    return\n",
        "\n",
        "if __name__ == \"__main__\":\n",
        "    # 아래에 코드 작성\n",
        "\n"
      ],
      "metadata": {
        "id": "dK5_Mh1hTjJ_"
      },
      "execution_count": null,
      "outputs": []
    }
  ]
}