{
  "nbformat": 4,
  "nbformat_minor": 0,
  "metadata": {
    "colab": {
      "provenance": [],
      "toc_visible": true,
      "authorship_tag": "ABX9TyNrmK+5ajmkSFQtS7vAoBgN",
      "include_colab_link": true
    },
    "kernelspec": {
      "name": "python3",
      "display_name": "Python 3"
    },
    "language_info": {
      "name": "python"
    }
  },
  "cells": [
    {
      "cell_type": "markdown",
      "metadata": {
        "id": "view-in-github",
        "colab_type": "text"
      },
      "source": [
        "<a href=\"https://colab.research.google.com/github/jyryu3161/python_biotech/blob/main/lab3_%ED%8C%8C%EC%9D%B4%EC%8D%AC_%EC%A1%B0%EA%B1%B4%EB%AC%B8_%EC%A0%95%EB%8B%B5.ipynb\" target=\"_parent\"><img src=\"https://colab.research.google.com/assets/colab-badge.svg\" alt=\"Open In Colab\"/></a>"
      ]
    },
    {
      "cell_type": "markdown",
      "source": [
        "# Lab3.파이썬 프로그래밍 조건문"
      ],
      "metadata": {
        "id": "pjYVFLgjOuye"
      }
    },
    {
      "cell_type": "markdown",
      "source": [
        "## 조건문 (if문)"
      ],
      "metadata": {
        "id": "fxT5KES5VVI7"
      }
    },
    {
      "cell_type": "code",
      "source": [
        "money = True\n",
        "if money:\n",
        "    print(\"택시를 타고 가라\")\n",
        "else:\n",
        "    print(\"걸어가라\")\n",
        "    "
      ],
      "metadata": {
        "id": "Jpk9DC2lOvg1"
      },
      "execution_count": null,
      "outputs": []
    },
    {
      "cell_type": "markdown",
      "source": [
        "if문의 기본구조\n"
      ],
      "metadata": {
        "id": "P72eKUgUIU-4"
      }
    },
    {
      "cell_type": "code",
      "source": [
        "if 조건문:\n",
        "    수행할 문장1\n",
        "    수행할 문장2\n",
        "    ...\n",
        "else:\n",
        "    수행할 문장A\n",
        "    수행할 문장B"
      ],
      "metadata": {
        "id": "2qzOv7CiIVD9"
      },
      "execution_count": null,
      "outputs": []
    },
    {
      "cell_type": "markdown",
      "source": [
        "들여쓰기"
      ],
      "metadata": {
        "id": "dfIbC94tIhOV"
      }
    },
    {
      "cell_type": "code",
      "source": [
        "if 조건문:\n",
        "    수행할 문장1\n",
        "    수행할 문장2\n"
      ],
      "metadata": {
        "id": "dFk2XfWJILu1"
      },
      "execution_count": null,
      "outputs": []
    },
    {
      "cell_type": "markdown",
      "source": [
        "들여쓰기 오류"
      ],
      "metadata": {
        "id": "ZW_kjQfWIjR_"
      }
    },
    {
      "cell_type": "code",
      "source": [
        "if 조건문:\n",
        "    수행할 문장1\n",
        "수행할 문장2\n",
        "    수행할 문장3\n"
      ],
      "metadata": {
        "id": "Je54hat0IjXU"
      },
      "execution_count": null,
      "outputs": []
    },
    {
      "cell_type": "markdown",
      "source": [
        "비교 연산자"
      ],
      "metadata": {
        "id": "LAUiMBgBIvjU"
      }
    },
    {
      "cell_type": "code",
      "source": [
        "x = 3\n",
        "y = 2\n",
        "print (x > y)\n",
        "print (x < y)\n",
        "print (x == y)\n",
        "print (x != y)"
      ],
      "metadata": {
        "id": "SSM9dJpHIvo7",
        "outputId": "ab34f477-dfba-4022-9bc1-8016fe6406f6",
        "colab": {
          "base_uri": "https://localhost:8080/"
        }
      },
      "execution_count": null,
      "outputs": [
        {
          "output_type": "stream",
          "name": "stdout",
          "text": [
            "True\n",
            "False\n",
            "False\n",
            "True\n"
          ]
        }
      ]
    },
    {
      "cell_type": "markdown",
      "source": [
        "만약 3000원 이상의 돈을 가지고 있으면 택시를 타고, 그렇지 않으면 걸어가라"
      ],
      "metadata": {
        "id": "Ip6x7bFXI2Yy"
      }
    },
    {
      "cell_type": "code",
      "source": [
        "money = 4000\n",
        "\n",
        "if money >= 3000:\n",
        "    print(\"택시를 타고 가라\")\n",
        "else:\n",
        "    print(\"걸어가라\")\n",
        "\n"
      ],
      "metadata": {
        "id": "46e-hiIMI2d-",
        "outputId": "22feb051-a3b9-4777-858d-87f712581150",
        "colab": {
          "base_uri": "https://localhost:8080/"
        }
      },
      "execution_count": null,
      "outputs": [
        {
          "output_type": "stream",
          "name": "stdout",
          "text": [
            "택시를 타고 가라\n"
          ]
        }
      ]
    },
    {
      "cell_type": "markdown",
      "source": [
        "and, or, not"
      ],
      "metadata": {
        "id": "ranEQHITI_FE"
      }
    },
    {
      "cell_type": "code",
      "source": [
        "money = 2000\n",
        "card = True\n",
        "\n",
        "if money >= 3000 or card:\n",
        "    print (\"택시를 타고 가라\")\n",
        "else:\n",
        "    print(\"걸어가라\")"
      ],
      "metadata": {
        "id": "fyKw7U7vI_Kz",
        "outputId": "d13de64b-eb16-4f94-db00-69ca9d4608c1",
        "colab": {
          "base_uri": "https://localhost:8080/"
        }
      },
      "execution_count": null,
      "outputs": [
        {
          "output_type": "stream",
          "name": "stdout",
          "text": [
            "택시를 타고 가라\n"
          ]
        }
      ]
    },
    {
      "cell_type": "markdown",
      "source": [
        "x in s , x not in s"
      ],
      "metadata": {
        "id": "tqvU9WIxJHcN"
      }
    },
    {
      "cell_type": "code",
      "source": [
        "print(1 in [1,2,3])\n",
        "print(1 not in [1,2,3])\n",
        "\n",
        "a = {'name':'pey', 'phone':'0119993323', 'birth':'1118'}\n",
        "\n",
        "key = 'email'\n",
        "if key in a:\n",
        "    print (a[key])\n",
        "else:\n",
        "    print (\"key가 없음\")\n",
        "\n",
        "\n"
      ],
      "metadata": {
        "id": "TV61h2GmJHjI",
        "outputId": "74ba9d37-d892-4348-d6e7-05e8a5d7de55",
        "colab": {
          "base_uri": "https://localhost:8080/"
        }
      },
      "execution_count": null,
      "outputs": [
        {
          "output_type": "stream",
          "name": "stdout",
          "text": [
            "True\n",
            "False\n",
            "key가 없음\n"
          ]
        }
      ]
    },
    {
      "cell_type": "markdown",
      "source": [
        "만약 주머니에 돈이 있으면 택시를 타고, 없으면 걸어가라"
      ],
      "metadata": {
        "id": "kVZ4RYS9JNvr"
      }
    },
    {
      "cell_type": "code",
      "source": [
        "pocket = ['paper', 'cellphne', 'money']\n",
        "if 'money' in pocket:\n",
        "    print (\"택시를 타고 가라\")\n",
        "else:\n",
        "    print(\"걸어가라\")"
      ],
      "metadata": {
        "id": "X-Qd2lUKJN1A",
        "outputId": "132f4d01-81ba-48d9-a418-3b48bfa720cc",
        "colab": {
          "base_uri": "https://localhost:8080/"
        }
      },
      "execution_count": null,
      "outputs": [
        {
          "output_type": "stream",
          "name": "stdout",
          "text": [
            "택시를 타고 가라\n"
          ]
        }
      ]
    },
    {
      "cell_type": "markdown",
      "source": [
        "조건문에서 아무 일도 하지 않게 설정하는 방법"
      ],
      "metadata": {
        "id": "Jq7VdID_JZBB"
      }
    },
    {
      "cell_type": "code",
      "source": [
        "pocket = ['paper', 'cellphne', 'money']\n",
        "if 'money' in pocket:\n",
        "    pass\n",
        "else:\n",
        "    print(\"카드를 꺼내라\")"
      ],
      "metadata": {
        "id": "9nx6MKu5JZHr"
      },
      "execution_count": null,
      "outputs": []
    },
    {
      "cell_type": "markdown",
      "source": [
        "다중 조건 판단 elif"
      ],
      "metadata": {
        "id": "8huwbmBRJhQu"
      }
    },
    {
      "cell_type": "code",
      "source": [
        "pocket = ['paper', 'cellphne']\n",
        "card = True\n",
        "\n",
        "if 'money' in pocket:\n",
        "    print(\"택시를 타고가라\")\n",
        "elif card:\n",
        "    print(\"택시를 타고가라\")\n",
        "else:\n",
        "    print(\"걸어가라\")"
      ],
      "metadata": {
        "id": "m5H8xP18JhYH"
      },
      "execution_count": null,
      "outputs": []
    },
    {
      "cell_type": "code",
      "source": [
        "score = 85\n",
        "if score >= 90:\n",
        "    print (\"A\")\n",
        "elif score >= 80 and score < 90:\n",
        "    print (\"B\")\n",
        "elif score >= 70 and score < 80:\n",
        "    print (\"C\")\n",
        "else:\n",
        "    print (\"D\")\n",
        "\n"
      ],
      "metadata": {
        "id": "erY8UHzOIsWj",
        "outputId": "8bea3aa2-f8a3-40f7-d46d-7dbb74b7da46",
        "colab": {
          "base_uri": "https://localhost:8080/"
        }
      },
      "execution_count": null,
      "outputs": [
        {
          "output_type": "stream",
          "name": "stdout",
          "text": [
            "B\n"
          ]
        }
      ]
    },
    {
      "cell_type": "code",
      "source": [],
      "metadata": {
        "id": "YFtAdvfkJ1os"
      },
      "execution_count": null,
      "outputs": []
    },
    {
      "cell_type": "markdown",
      "source": [
        "# 문제"
      ],
      "metadata": {
        "id": "FBnkvwFLKyMM"
      }
    },
    {
      "cell_type": "markdown",
      "source": [
        "1. input 함수로 점수를 입력으로 받고, 점수를 바탕으로 A(90-100), B(80-90), C(70-80), D(60-70), F(<60) 학점을 출력하는 코드를 작성하라."
      ],
      "metadata": {
        "id": "G-Y_i4ulK1lE"
      }
    },
    {
      "cell_type": "code",
      "source": [
        "score = int(input('점수 입력: '))\n",
        "\n",
        "if score >= 90:\n",
        "    print (\"A\")\n",
        "elif score >= 80 and score < 90:\n",
        "    print (\"B\")\n",
        "elif score >= 70 and score < 80:\n",
        "    print (\"C\")\n",
        "elif score >= 60 and score < 70:\n",
        "    print (\"D\")\n",
        "else:\n",
        "    print (\"F\")\n",
        "\n"
      ],
      "metadata": {
        "id": "_7fypffZKyQu",
        "outputId": "fa63e29a-838a-4eaa-e4c0-bfade62a51c3",
        "colab": {
          "base_uri": "https://localhost:8080/"
        }
      },
      "execution_count": 1,
      "outputs": [
        {
          "output_type": "stream",
          "name": "stdout",
          "text": [
            "점수 입력: 90\n",
            "A\n"
          ]
        }
      ]
    },
    {
      "cell_type": "markdown",
      "source": [
        "2. input 함수로 정수를 입력으로 받고, 입력된 정수가 짝수인지 홀수인지 출력하는 파이썬 코드를 작성하라."
      ],
      "metadata": {
        "id": "7yyprpYZLFlM"
      }
    },
    {
      "cell_type": "code",
      "source": [
        "score = int(input('입력: '))\n",
        "if score % 2 == 0:\n",
        "    print (\"짝수\")\n",
        "else:\n",
        "    print (\"홀수\")\n",
        "\n"
      ],
      "metadata": {
        "id": "4-T8agp-LFri",
        "outputId": "8ab62cb5-91e0-431b-dddc-8c6c5dec2d21",
        "colab": {
          "base_uri": "https://localhost:8080/"
        }
      },
      "execution_count": null,
      "outputs": [
        {
          "output_type": "stream",
          "name": "stdout",
          "text": [
            "입력: 3\n",
            "홀수\n"
          ]
        }
      ]
    },
    {
      "cell_type": "markdown",
      "source": [
        "3. input 함수로 문자 하나를 입력으로 받고, 문자가 소문자인 경우에는 대문자를 출력하고, 대문자인 경우는 소문자로 바꾸는 파이썬 코드를 작성하라. 단, 문자열의 길이가 2 이상인 경우 \"입력 에러\"를 출력하는 파이썬 코드를 작성하라.\n",
        "\n",
        "힌트-1 : islower() 함수는 문자의 소문자 여부를 판별합니다. 만약 소문자일 경우 True, 대문자일 경우 False를 반환합니다. isupper()함수는 반대\n",
        "\n",
        "힌트-2 : upper() 함수는 대문자로, lower() 함수는 소문자로 변경합니다."
      ],
      "metadata": {
        "id": "supH4-uiLSv_"
      }
    },
    {
      "cell_type": "code",
      "source": [
        "c = input(\"입력\")\n",
        "\n",
        "if c.islower() and len(c) == 1:\n",
        "    print (c.upper())\n",
        "elif c.isupper() and len(c) == 1:\n",
        "    print (c.lower())\n",
        "else:\n",
        "    print (\"입력 에러\")\n",
        "    \n",
        "\n"
      ],
      "metadata": {
        "id": "zUsDPLVZLS2c",
        "outputId": "0f9da689-a2e8-4bd5-9df6-8a85cd542a7a",
        "colab": {
          "base_uri": "https://localhost:8080/"
        }
      },
      "execution_count": null,
      "outputs": [
        {
          "output_type": "stream",
          "name": "stdout",
          "text": [
            "입력a\n",
            "A\n"
          ]
        }
      ]
    },
    {
      "cell_type": "markdown",
      "source": [
        "4. 변수 a, b, c 3개에 각각 정수를 할당하고, 이 중 가장 큰 값만 출력하는 파이썬 코드를 작성하라."
      ],
      "metadata": {
        "id": "fkyeHVSpLpPm"
      }
    },
    {
      "cell_type": "code",
      "source": [
        "a = 2\n",
        "b = 4\n",
        "c = 6\n",
        "\n",
        "print(max([2, 4, 6]))\n",
        "\n",
        "if a > b and a > c:\n",
        "    print ('a', a)\n",
        "elif b > a and b > c:\n",
        "    print ('b', b)\n",
        "else:\n",
        "    print ('c', c)\n",
        "\n",
        "    \n"
      ],
      "metadata": {
        "id": "p9twrTY-LpUo",
        "outputId": "c262299c-d3cd-4462-dc6a-ad20f1797a9f",
        "colab": {
          "base_uri": "https://localhost:8080/"
        }
      },
      "execution_count": null,
      "outputs": [
        {
          "output_type": "stream",
          "name": "stdout",
          "text": [
            "6\n",
            "c 6\n"
          ]
        }
      ]
    },
    {
      "cell_type": "markdown",
      "source": [
        "5. 주민등록번호 뒷 자리 7자리 중 첫째 자리는 성별을 나타내는데, 1, 3은 남자 2, 4는 여자를 의미한다. 사용자로부터 13자리의 주민등록번호를 입력 받은 후 성별 (남자, 여자)를 출력하는 프로그램을 작성하라."
      ],
      "metadata": {
        "id": "Xegu5nT0L3Ha"
      }
    },
    {
      "cell_type": "code",
      "source": [
        "주민등록번호: \"821010-1635210\"\n"
      ],
      "metadata": {
        "id": "DtUd_thRL3Ks"
      },
      "execution_count": null,
      "outputs": []
    },
    {
      "cell_type": "code",
      "source": [
        "code = \"821010-1635210\"\n",
        "print(code[7])\n",
        "\n",
        "if code[7] == \"1\" or code[7] == \"3\":\n",
        "    print(\"남자\")\n",
        "elif code[7] == \"2\" or code[7] == \"4\":\n",
        "    print(\"여자\")\n",
        "else:\n",
        "    print(\"다시 입력하세요.\")\n"
      ],
      "metadata": {
        "id": "hwMocP1tYiHa",
        "outputId": "63ae0752-8421-4d40-eb74-9caf5bcc8684",
        "colab": {
          "base_uri": "https://localhost:8080/"
        }
      },
      "execution_count": null,
      "outputs": [
        {
          "output_type": "stream",
          "name": "stdout",
          "text": [
            "1\n",
            "남자\n"
          ]
        }
      ]
    },
    {
      "cell_type": "code",
      "source": [],
      "metadata": {
        "id": "ILLXZkBItqRh"
      },
      "execution_count": null,
      "outputs": []
    }
  ]
}