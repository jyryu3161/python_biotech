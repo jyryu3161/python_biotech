{
  "nbformat": 4,
  "nbformat_minor": 0,
  "metadata": {
    "colab": {
      "provenance": [],
      "toc_visible": true,
      "authorship_tag": "ABX9TyMUdpi3/tqb27zdbR2HDFvB",
      "include_colab_link": true
    },
    "kernelspec": {
      "name": "python3",
      "display_name": "Python 3"
    },
    "language_info": {
      "name": "python"
    }
  },
  "cells": [
    {
      "cell_type": "markdown",
      "metadata": {
        "id": "view-in-github",
        "colab_type": "text"
      },
      "source": [
        "<a href=\"https://colab.research.google.com/github/jyryu3161/python_biotech/blob/main/lab3_%ED%8C%8C%EC%9D%B4%EC%8D%AC_%EB%A6%AC%EC%8A%A4%ED%8A%B8%2C%EB%94%95%EC%85%94%EB%84%88%EB%A6%AC%EB%B3%B4%EC%B6%A9%EC%8B%A4%EC%8A%B5.ipynb\" target=\"_parent\"><img src=\"https://colab.research.google.com/assets/colab-badge.svg\" alt=\"Open In Colab\"/></a>"
      ]
    },
    {
      "cell_type": "markdown",
      "source": [
        "# Lab3.파이썬 리스트, 딕셔너리 보충 실습"
      ],
      "metadata": {
        "id": "pjYVFLgjOuye"
      }
    },
    {
      "cell_type": "markdown",
      "source": [
        "# 중첩된 리스트에 인덱싱하는 문제"
      ],
      "metadata": {
        "id": "M2oOpKV5F7Lk"
      }
    },
    {
      "cell_type": "markdown",
      "source": [
        "'JavaScript'를 인덱싱하여 출력하세요."
      ],
      "metadata": {
        "id": "jz60gP61GCvh"
      }
    },
    {
      "cell_type": "code",
      "source": [
        "nested_list = [['Python', 'Java'], ['HTML', 'CSS', 'JavaScript'], ['MySQL', 'MongoDB', 'SQLite']]\n",
        "\n"
      ],
      "metadata": {
        "id": "hwMocP1tYiHa"
      },
      "execution_count": null,
      "outputs": []
    },
    {
      "cell_type": "markdown",
      "source": [
        "nested_list에서 8을 인덱싱하여 출력하세요."
      ],
      "metadata": {
        "id": "QfOzWSiPF9wQ"
      }
    },
    {
      "cell_type": "code",
      "source": [
        "nested_list = [[1, 2, 3], [4, 5, 6], [7, 8, 9]]\n"
      ],
      "metadata": {
        "id": "CEB3z26PF91R"
      },
      "execution_count": null,
      "outputs": []
    },
    {
      "cell_type": "markdown",
      "source": [
        "'상추'를 인덱싱하여 출력하세요."
      ],
      "metadata": {
        "id": "DtiV16wIF96s"
      }
    },
    {
      "cell_type": "code",
      "source": [
        "nested_list = [['사과', '바나나'], ['토마토', '오이', '상추'], ['소고기', '돼지고기']]\n",
        "\n"
      ],
      "metadata": {
        "id": "rKt9QxMwF9_e"
      },
      "execution_count": null,
      "outputs": []
    },
    {
      "cell_type": "markdown",
      "source": [
        "# 리스트, 딕셔너리 혼합 문제"
      ],
      "metadata": {
        "id": "Jr4gfEbpF-EK"
      }
    },
    {
      "cell_type": "markdown",
      "source": [
        "데이터 타입 확인하기:"
      ],
      "metadata": {
        "id": "oCm609VHGWpB"
      }
    },
    {
      "cell_type": "code",
      "source": [
        "# 주어진 data 변수의 타입을 확인하고, 리스트와 딕셔너리 중 어떤 것인지 결정하세요.\n",
        "data = [\"Python\", \"Java\", \"C++\"]\n",
        "# 여기에 코드를 작성하세요."
      ],
      "metadata": {
        "id": "KPOA-SlHF-JA"
      },
      "execution_count": null,
      "outputs": []
    },
    {
      "cell_type": "markdown",
      "source": [
        "키-값 쌍으로 데이터 추가하기:"
      ],
      "metadata": {
        "id": "lMLtoIa7F-OA"
      }
    },
    {
      "cell_type": "code",
      "source": [
        "# 다음 data 딕셔너리에 'JavaScript'를 추가하되, 이전 요소들과 동일한 패턴(키-값 쌍)을 사용하세요.\n",
        "data = {1: \"Python\", 2: \"Java\"}\n",
        "# 여기에 코드를 작성하세요."
      ],
      "metadata": {
        "id": "Wz7TPLDmF-Sn"
      },
      "execution_count": null,
      "outputs": []
    },
    {
      "cell_type": "markdown",
      "source": [
        "인덱싱과 키 접근:"
      ],
      "metadata": {
        "id": "efBRxaFbGZOn"
      }
    },
    {
      "cell_type": "code",
      "source": [
        "# 주어진 data 리스트에서 두 번째 요소를 출력하고, 동일한 data 딕셔너리에서 키가 2인 값을 출력하세요.\n",
        "data_list = [\"Python\", \"Java\", \"C++\"]\n",
        "data_dict = {1: \"Python\", 2: \"Java\", 3: \"C++\"}\n",
        "# 여기에 코드를 작성하세요."
      ],
      "metadata": {
        "id": "1z7EtzbTGZS_"
      },
      "execution_count": null,
      "outputs": []
    },
    {
      "cell_type": "markdown",
      "source": [
        "리스트와 딕셔너리의 길이 비교:"
      ],
      "metadata": {
        "id": "qOTnlpAyGZXq"
      }
    },
    {
      "cell_type": "code",
      "source": [
        "# 주어진 리스트와 딕셔너리의 길이를 각각 출력하고 비교하세요.\n",
        "my_list = [\"Python\", \"Java\", \"C++\"]\n",
        "my_dict = {\"first\": \"Python\", \"second\": \"Java\", \"third\": \"C++\"}\n",
        "# 여기에 코드를 작성하세요.\n",
        "\n"
      ],
      "metadata": {
        "id": "A4jPL48uGZcE"
      },
      "execution_count": null,
      "outputs": []
    },
    {
      "cell_type": "markdown",
      "source": [
        "다음 코돈 테이블을 이용하여 seq 변수의 RNA 서열을 번역하여 출력하세요."
      ],
      "metadata": {
        "id": "IyMznXlpGZ7f"
      }
    },
    {
      "cell_type": "code",
      "source": [
        "codon_dict = {'UUU':'Phe','UUC':'Phe','UUA':'Leu','UUG':'Leu','CUU':'Leu','CUC':'Leu','CUA':'Leu','CUG':'Leu','AUU':'Ile','AUC':'Ile','AUA':'Ile','AUG':'Met','GUU':'Val','GUC':'Val','GUA':'Val','GUG':'Val','UCU':'Ser','UCC':'Ser','UCA':'Ser','UCG':'Ser','CCU':'Pro','CCC':'Pro','CCA':'Pro','CCG':'Pro','ACU':'Thr','ACC':'Thr','ACA':'Thr','ACG':'Thr','GCU':'Ala','GCC':'Ala','GCA':'Ala','GCG':'Ala','UAU':'Tyr','UAC':'Tyr','UAA':'STOP','UAG':'STOP','CAU':'His','CAC':'His','CAA':'Gln','CAG':'Gln','AAU':'Asn','AAC':'Asn','AAA':'Lys','AAG':'Lys','GAU':'Asp','GAC':'Asp','GAA':'Glu','GAG':'Glu','UGU':'Cys','UGC':'Cys','UGA':'STOP','UGG':'Trp','CGU':'Arg','CGC':'Arg','CGA':'Arg','CGG':'Arg','AGU':'Ser','AGC':'Ser','AGA':'Arg','AGG':'Arg','GGU':'Gly','GGC':'Gly','GGA':'Gly','GGG':'Gly'}\n",
        "\n",
        "seq = 'UUUCUUAUC'\n",
        "\n"
      ],
      "metadata": {
        "id": "hu3xFKtgGZ_m"
      },
      "execution_count": null,
      "outputs": []
    }
  ]
}