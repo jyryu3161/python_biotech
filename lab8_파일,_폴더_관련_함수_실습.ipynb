{
  "nbformat": 4,
  "nbformat_minor": 0,
  "metadata": {
    "colab": {
      "provenance": [],
      "authorship_tag": "ABX9TyPyJOvVULymm/XMK2e8sKZT",
      "include_colab_link": true
    },
    "kernelspec": {
      "name": "python3",
      "display_name": "Python 3"
    },
    "language_info": {
      "name": "python"
    }
  },
  "cells": [
    {
      "cell_type": "markdown",
      "metadata": {
        "id": "view-in-github",
        "colab_type": "text"
      },
      "source": [
        "<a href=\"https://colab.research.google.com/github/jyryu3161/python_biotech/blob/main/lab8_%ED%8C%8C%EC%9D%BC%2C_%ED%8F%B4%EB%8D%94_%EA%B4%80%EB%A0%A8_%ED%95%A8%EC%88%98_%EC%8B%A4%EC%8A%B5.ipynb\" target=\"_parent\"><img src=\"https://colab.research.google.com/assets/colab-badge.svg\" alt=\"Open In Colab\"/></a>"
      ]
    },
    {
      "cell_type": "markdown",
      "source": [
        "# Lab8.유용한 함수 실습"
      ],
      "metadata": {
        "id": "pjYVFLgjOuye"
      }
    },
    {
      "cell_type": "markdown",
      "source": [
        "## 유용한 외장함수들"
      ],
      "metadata": {
        "id": "fxT5KES5VVI7"
      }
    },
    {
      "cell_type": "markdown",
      "source": [
        "os"
      ],
      "metadata": {
        "id": "ljg5zb-yscI8"
      }
    },
    {
      "cell_type": "code",
      "source": [
        "import os\n",
        "\n",
        "# print(os.getcwd()) # 현재 작업 디렉토리\n",
        "\n",
        "# 폴더를 생성하는 방법\n",
        "os.mkdir('./test/')\n",
        "os.makedirs('./a/b/c', exist_ok=True)\n",
        "\n",
        "os.rmdir('./test/') # 디렉토리 삭제, 비어있어야 삭제 가능\n",
        "\n",
        "# print(os.chdir(\"directory\")) # 작업 디렉토리 변경\n",
        "\n",
        "# os.basename(filename) # 파일, 폴더명을 읽을 수 있음\n",
        "\n"
      ],
      "metadata": {
        "colab": {
          "base_uri": "https://localhost:8080/"
        },
        "id": "PPZxzyJ6sbRT",
        "outputId": "4677f2bb-a425-48ca-881e-1be110e4b091"
      },
      "execution_count": null,
      "outputs": [
        {
          "output_type": "stream",
          "name": "stdout",
          "text": [
            "environ({'SHELL': '/bin/bash', 'NV_LIBCUBLAS_VERSION': '11.11.3.6-1', 'NVIDIA_VISIBLE_DEVICES': 'all', 'COLAB_JUPYTER_TRANSPORT': 'ipc', 'NV_NVML_DEV_VERSION': '11.8.86-1', 'NV_CUDNN_PACKAGE_NAME': 'libcudnn8', 'CGROUP_MEMORY_EVENTS': '/sys/fs/cgroup/memory.events /var/colab/cgroup/jupyter-children/memory.events', 'NV_LIBNCCL_DEV_PACKAGE': 'libnccl-dev=2.16.2-1+cuda11.8', 'NV_LIBNCCL_DEV_PACKAGE_VERSION': '2.16.2-1', 'VM_GCE_METADATA_HOST': '169.254.169.253', 'HOSTNAME': 'cbd99b9b66cf', 'TBE_RUNTIME_ADDR': '172.28.0.1:8011', 'GCE_METADATA_TIMEOUT': '3', 'NVIDIA_REQUIRE_CUDA': 'cuda>=11.8 brand=tesla,driver>=450,driver<451 brand=tesla,driver>=470,driver<471 brand=unknown,driver>=470,driver<471 brand=nvidia,driver>=470,driver<471 brand=nvidiartx,driver>=470,driver<471 brand=geforce,driver>=470,driver<471 brand=geforcertx,driver>=470,driver<471 brand=quadro,driver>=470,driver<471 brand=quadrortx,driver>=470,driver<471 brand=titan,driver>=470,driver<471 brand=titanrtx,driver>=470,driver<471 brand=tesla,driver>=510,driver<511 brand=unknown,driver>=510,driver<511 brand=nvidia,driver>=510,driver<511 brand=nvidiartx,driver>=510,driver<511 brand=geforce,driver>=510,driver<511 brand=geforcertx,driver>=510,driver<511 brand=quadro,driver>=510,driver<511 brand=quadrortx,driver>=510,driver<511 brand=titan,driver>=510,driver<511 brand=titanrtx,driver>=510,driver<511 brand=tesla,driver>=515,driver<516 brand=unknown,driver>=515,driver<516 brand=nvidia,driver>=515,driver<516 brand=nvidiartx,driver>=515,driver<516 brand=geforce,driver>=515,driver<516 brand=geforcertx,driver>=515,driver<516 brand=quadro,driver>=515,driver<516 brand=quadrortx,driver>=515,driver<516 brand=titan,driver>=515,driver<516 brand=titanrtx,driver>=515,driver<516', 'NV_LIBCUBLAS_DEV_PACKAGE': 'libcublas-dev-11-8=11.11.3.6-1', 'NV_NVTX_VERSION': '11.8.86-1', 'COLAB_JUPYTER_IP': '172.28.0.12', 'NV_CUDA_CUDART_DEV_VERSION': '11.8.89-1', 'NV_LIBCUSPARSE_VERSION': '11.7.5.86-1', 'COLAB_LANGUAGE_SERVER_PROXY_ROOT_URL': 'http://172.28.0.1:8013/', 'NV_LIBNPP_VERSION': '11.8.0.86-1', 'NCCL_VERSION': '2.16.2-1', 'KMP_LISTEN_PORT': '6000', 'TF_FORCE_GPU_ALLOW_GROWTH': 'true', 'ENV': '/root/.bashrc', 'PWD': '/', 'COLAB_LANGUAGE_SERVER_PROXY_REQUEST_TIMEOUT': '30s', 'TBE_EPHEM_CREDS_ADDR': '172.28.0.1:8009', 'TBE_CREDS_ADDR': '172.28.0.1:8008', 'NV_CUDNN_PACKAGE': 'libcudnn8=8.7.0.84-1+cuda11.8', 'NVIDIA_DRIVER_CAPABILITIES': 'compute,utility', 'COLAB_JUPYTER_TOKEN': '', 'LAST_FORCED_REBUILD': '20230428', 'NV_NVPROF_DEV_PACKAGE': 'cuda-nvprof-11-8=11.8.87-1', 'NV_LIBNPP_PACKAGE': 'libnpp-11-8=11.8.0.86-1', 'NV_LIBNCCL_DEV_PACKAGE_NAME': 'libnccl-dev', 'TCLLIBPATH': '/usr/share/tcltk/tcllib1.20', 'NV_LIBCUBLAS_DEV_VERSION': '11.11.3.6-1', 'NVIDIA_PRODUCT_NAME': 'CUDA', 'COLAB_KERNEL_MANAGER_PROXY_HOST': '172.28.0.12', 'NV_LIBCUBLAS_DEV_PACKAGE_NAME': 'libcublas-dev-11-8', 'NV_CUDA_CUDART_VERSION': '11.8.89-1', 'HOME': '/root', 'LANG': 'en_US.UTF-8', 'CUDA_VERSION': '11.8.0', 'CLOUDSDK_CONFIG': '/content/.config', 'NV_LIBCUBLAS_PACKAGE': 'libcublas-11-8=11.11.3.6-1', 'COLAB_RELEASE_TAG': 'release-colab-20230511-085804-RC00', 'KMP_TARGET_PORT': '9000', 'KMP_EXTRA_ARGS': '--logtostderr --listen_host=172.28.0.12 --target_host=172.28.0.12 --tunnel_background_save_url=https://colab.research.google.com/tun/m/cc48301118ce562b961b3c22d803539adc1e0c19/m-s-hyjavebs84le --tunnel_background_save_delay=10s --tunnel_periodic_background_save_frequency=30m0s --enable_output_coalescing=true --output_coalescing_required=true', 'NV_LIBNPP_DEV_PACKAGE': 'libnpp-dev-11-8=11.8.0.86-1', 'NV_LIBCUBLAS_PACKAGE_NAME': 'libcublas-11-8', 'COLAB_KERNEL_MANAGER_PROXY_PORT': '6000', 'CLOUDSDK_PYTHON': 'python3', 'NV_LIBNPP_DEV_VERSION': '11.8.0.86-1', 'NO_GCE_CHECK': 'False', 'PYTHONPATH': '/env/python', 'NV_LIBCUSPARSE_DEV_VERSION': '11.7.5.86-1', 'LIBRARY_PATH': '/usr/local/cuda/lib64/stubs', 'NV_CUDNN_VERSION': '8.7.0.84', 'SHLVL': '0', 'NV_CUDA_LIB_VERSION': '11.8.0-1', 'COLAB_LANGUAGE_SERVER_PROXY': '/usr/colab/bin/language_service', 'NVARCH': 'x86_64', 'NV_CUDNN_PACKAGE_DEV': 'libcudnn8-dev=8.7.0.84-1+cuda11.8', 'NV_CUDA_COMPAT_PACKAGE': 'cuda-compat-11-8', 'NV_LIBNCCL_PACKAGE': 'libnccl2=2.16.2-1+cuda11.8', 'LD_LIBRARY_PATH': '/usr/local/nvidia/lib:/usr/local/nvidia/lib64', 'COLAB_GPU': '', 'GCS_READ_CACHE_BLOCK_SIZE_MB': '16', 'NV_NVPROF_VERSION': '11.8.87-1', 'COLAB_FILE_HANDLER_ADDR': 'localhost:3453', 'PATH': '/opt/bin:/usr/local/nvidia/bin:/usr/local/cuda/bin:/usr/local/sbin:/usr/local/bin:/usr/sbin:/usr/bin:/sbin:/bin:/tools/node/bin:/tools/google-cloud-sdk/bin', 'NV_LIBNCCL_PACKAGE_NAME': 'libnccl2', 'COLAB_DEBUG_ADAPTER_MUX_PATH': '/usr/local/bin/dap_multiplexer', 'NV_LIBNCCL_PACKAGE_VERSION': '2.16.2-1', 'PYTHONWARNINGS': 'ignore:::pip._internal.cli.base_command', 'DEBIAN_FRONTEND': 'noninteractive', 'COLAB_BACKEND_VERSION': 'next', 'OLDPWD': '/', 'JPY_PARENT_PID': '76', 'TERM': 'xterm-color', 'CLICOLOR': '1', 'PAGER': 'cat', 'GIT_PAGER': 'cat', 'MPLBACKEND': 'module://ipykernel.pylab.backend_inline', 'ENABLE_DIRECTORYPREFETCHER': '1', 'USE_AUTH_EPHEM': '1', 'PYDEVD_USE_FRAME_EVAL': 'NO'})\n"
          ]
        }
      ]
    },
    {
      "cell_type": "markdown",
      "source": [
        "glob"
      ],
      "metadata": {
        "id": "MZhdn6N7s4fY"
      }
    },
    {
      "cell_type": "code",
      "source": [
        "import glob\n",
        "\n",
        "os.makedirs('./test2/a', exist_ok=True)\n",
        "os.makedirs('./test2/b', exist_ok=True)\n",
        "os.makedirs('./test2/c', exist_ok=True)\n",
        "\n",
        "folders = glob.glob('./test2/*')\n",
        "print(folders)\n",
        "\n",
        "for each_folder in folders:\n",
        "    basename = os.path.basename(each_folder)\n",
        "    print(each_folder, basename)\n"
      ],
      "metadata": {
        "colab": {
          "base_uri": "https://localhost:8080/"
        },
        "id": "Ph7SLJCJs4nC",
        "outputId": "e39a9281-6e2c-438a-febb-bfdcb176ab4f"
      },
      "execution_count": null,
      "outputs": [
        {
          "output_type": "stream",
          "name": "stdout",
          "text": [
            "['./test2/b', './test2/c', './test2/a']\n",
            "./test2/b b\n",
            "./test2/c c\n",
            "./test2/a a\n"
          ]
        }
      ]
    },
    {
      "cell_type": "markdown",
      "source": [
        "shutil"
      ],
      "metadata": {
        "id": "UPUc-uhguzDC"
      }
    },
    {
      "cell_type": "code",
      "source": [
        "import shutil\n",
        "\n",
        "shutil.copyfile('./source.txt', './target.txt')\n",
        "\n",
        "shutil.copy('./source.txt', './target.txt')\n",
        "\n",
        "shutil.copytree(\"./test1\", \"./test2\")\n"
      ],
      "metadata": {
        "id": "B7-8fcxIsez2"
      },
      "execution_count": null,
      "outputs": []
    },
    {
      "cell_type": "markdown",
      "source": [
        "## 실습 문제"
      ],
      "metadata": {
        "id": "amSBSMy1wPKn"
      }
    },
    {
      "cell_type": "markdown",
      "source": [
        "### 1. Test라는 폴더를 만들고, 하위에 파일 5개(a.txt, b.txt, c.txt, d.txt, e.txt)를 만든다. 폴더는 os 함수를 이용하고, 파일 5개는 내장함수인 open 함수를 이용해서 만들어라. 파일을 만들 때 파일 내 내용은 임의로 작성."
      ],
      "metadata": {
        "id": "yq8VUdEXwP3U"
      }
    },
    {
      "cell_type": "code",
      "source": [],
      "metadata": {
        "id": "fp35GKmRxhli"
      },
      "execution_count": null,
      "outputs": []
    },
    {
      "cell_type": "markdown",
      "source": [
        "### 2.Test 폴더안의 파일들의 이름을 읽어들여서 출력하는 코드를 작성해라."
      ],
      "metadata": {
        "id": "UtkWxrr0wqjn"
      }
    },
    {
      "cell_type": "code",
      "source": [],
      "metadata": {
        "id": "ON_RSQOsxiGQ"
      },
      "execution_count": null,
      "outputs": []
    },
    {
      "cell_type": "markdown",
      "source": [
        "### 3.Test 폴더안의 파일 중, a.txt와 b.txt 파일만 Test2 폴더를 만들고 하위로 복사해라."
      ],
      "metadata": {
        "id": "0m5M9zQMw7XY"
      }
    },
    {
      "cell_type": "code",
      "source": [],
      "metadata": {
        "id": "7sjT7axOxicl"
      },
      "execution_count": null,
      "outputs": []
    },
    {
      "cell_type": "markdown",
      "source": [
        "### 4.Test 폴더안의 각 파일을 읽어서 내용을 모두 출력하는 코드를 작성해라."
      ],
      "metadata": {
        "id": "0iZE-vDnxTt_"
      }
    },
    {
      "cell_type": "code",
      "source": [],
      "metadata": {
        "id": "E0MVY1HuxT4K"
      },
      "execution_count": null,
      "outputs": []
    }
  ]
}