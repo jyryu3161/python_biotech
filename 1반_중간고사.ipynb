{
  "nbformat": 4,
  "nbformat_minor": 0,
  "metadata": {
    "colab": {
      "provenance": [],
      "authorship_tag": "ABX9TyPry2jUtLPAaAGMlZi9AbVS",
      "include_colab_link": true
    },
    "kernelspec": {
      "name": "python3",
      "display_name": "Python 3"
    },
    "language_info": {
      "name": "python"
    }
  },
  "cells": [
    {
      "cell_type": "markdown",
      "metadata": {
        "id": "view-in-github",
        "colab_type": "text"
      },
      "source": [
        "<a href=\"https://colab.research.google.com/github/jyryu3161/python_biotech/blob/main/1%EB%B0%98_%EC%A4%91%EA%B0%84%EA%B3%A0%EC%82%AC.ipynb\" target=\"_parent\"><img src=\"https://colab.research.google.com/assets/colab-badge.svg\" alt=\"Open In Colab\"/></a>"
      ]
    },
    {
      "cell_type": "markdown",
      "source": [
        "# 중간고사"
      ],
      "metadata": {
        "id": "t_cWYFZKKxIr"
      }
    },
    {
      "cell_type": "markdown",
      "source": [
        "답안 제출: 파일명에 학번, 이름이 보이게 수정하여 \"파일\"->\"다운로드\"-> \".ipynb 다운로드\", \".py 다운로드\" 두 파일을 과제란에 제출하세요."
      ],
      "metadata": {
        "id": "Ko1fBFDuKzxj"
      }
    },
    {
      "cell_type": "markdown",
      "source": [
        "## 문제1 (10점)"
      ],
      "metadata": {
        "id": "OIrCrgpHLIy4"
      }
    },
    {
      "cell_type": "markdown",
      "source": [
        "알파벳으로 구성된 임의의 문자열을 input 함수로 입력으로 받고, 홀수번째 위치의 알파벳은 소문자로, 짝수번째 위치의 알파벳은 대문자로 변경하는 코드를 작성하세요. 최종 출력은 print 함수로 문자열을 출력하도록 하세요.\n",
        "\n",
        "출력예시:\n",
        "\n",
        "\n",
        "입력1. \"abcdef\" -> \"aBcDeF\"\n",
        "\n",
        "입력2. \"aaaaaa\" -> \"aAaAaA\""
      ],
      "metadata": {
        "id": "JaHooHwNLKw8"
      }
    },
    {
      "cell_type": "code",
      "source": [
        "# 아래 부분에 작성하세요.\n",
        "\n",
        "\n"
      ],
      "metadata": {
        "id": "N4fKirV1LrXr"
      },
      "execution_count": null,
      "outputs": []
    },
    {
      "cell_type": "markdown",
      "source": [
        "## 문제2 (10점)"
      ],
      "metadata": {
        "id": "UQMcSDxsLLjX"
      }
    },
    {
      "cell_type": "markdown",
      "source": [
        "임의의 정수 n을 입력으로 받고, 아래와같은 그림을 그리는 코드를 작성하세요. \n",
        "\n",
        "출력예시:\n",
        "\n",
        "n = 2일 때,\n",
        "\n",
        "@@\n",
        "\n",
        "@\n",
        "\n",
        "@@\n",
        "\n",
        "n = 3일 때, \n",
        "\n",
        "@@@\n",
        "\n",
        "@@\n",
        "\n",
        "@\n",
        "\n",
        "@@\n",
        "\n",
        "@@@\n"
      ],
      "metadata": {
        "id": "1D_upClcLLlv"
      }
    },
    {
      "cell_type": "code",
      "source": [
        "# 아래 부분에 작성하세요.\n",
        "\n",
        "n = int(input('정수 입력 : '))\n",
        "\n"
      ],
      "metadata": {
        "id": "FpKyKbBGNUjW"
      },
      "execution_count": null,
      "outputs": []
    },
    {
      "cell_type": "markdown",
      "source": [
        "## 보너스 문제 (10점)"
      ],
      "metadata": {
        "id": "kxbaa8C0LLoC"
      }
    },
    {
      "cell_type": "markdown",
      "source": [
        "임의의 정수를 입력으로 받고, 2부터 임의의 정수 이하의 수 중 소수를 모두 출력하는 코드를 작성하세요. \n",
        "\n",
        "조건:\n",
        "\n",
        "- \b2 이상의 정수만 입력으로 받는다는 가정\n",
        "\n",
        "출력예시: \n",
        "\n",
        "10을 입력 시, 출력으로 2, 3, 7이 출력되어야 함"
      ],
      "metadata": {
        "id": "f8DlNkbmLLqC"
      }
    },
    {
      "cell_type": "code",
      "source": [
        "# 아래 부분에 작성하세요.\n",
        "\n",
        "n = int(input('정수 입력: '))\n"
      ],
      "metadata": {
        "id": "fpU0lJRZK-2b"
      },
      "execution_count": null,
      "outputs": []
    }
  ]
}