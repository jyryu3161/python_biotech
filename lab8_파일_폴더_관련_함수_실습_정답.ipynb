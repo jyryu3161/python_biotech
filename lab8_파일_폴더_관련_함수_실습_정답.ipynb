{
  "nbformat": 4,
  "nbformat_minor": 0,
  "metadata": {
    "colab": {
      "provenance": [],
      "authorship_tag": "ABX9TyOk9+dhMlGAMNCphhDQFs87",
      "include_colab_link": true
    },
    "kernelspec": {
      "name": "python3",
      "display_name": "Python 3"
    },
    "language_info": {
      "name": "python"
    }
  },
  "cells": [
    {
      "cell_type": "markdown",
      "metadata": {
        "id": "view-in-github",
        "colab_type": "text"
      },
      "source": [
        "<a href=\"https://colab.research.google.com/github/jyryu3161/python_biotech/blob/main/lab8_%ED%8C%8C%EC%9D%BC_%ED%8F%B4%EB%8D%94_%EA%B4%80%EB%A0%A8_%ED%95%A8%EC%88%98_%EC%8B%A4%EC%8A%B5_%EC%A0%95%EB%8B%B5.ipynb\" target=\"_parent\"><img src=\"https://colab.research.google.com/assets/colab-badge.svg\" alt=\"Open In Colab\"/></a>"
      ]
    },
    {
      "cell_type": "markdown",
      "source": [
        "# Lab8.유용한 함수 실습"
      ],
      "metadata": {
        "id": "pjYVFLgjOuye"
      }
    },
    {
      "cell_type": "markdown",
      "source": [
        "## 유용한 외장함수들"
      ],
      "metadata": {
        "id": "fxT5KES5VVI7"
      }
    },
    {
      "cell_type": "markdown",
      "source": [
        "os"
      ],
      "metadata": {
        "id": "ljg5zb-yscI8"
      }
    },
    {
      "cell_type": "code",
      "source": [
        "import os\n",
        "\n",
        "#print(os.getcwd()) # 현재 작업 디렉토리\n",
        "\n",
        "# 폴더를 생성하는 방법\n",
        "# os.mkdir('./test/')\n",
        "\n",
        "# os.makedirs('./a/b/c', exist_ok=True)\n",
        "\n",
        "# os.rmdir('./test/') # 디렉토리 삭제, 비어있어야 삭제 가능\n",
        "\n",
        "# print(os.chdir(\"directory\")) # 작업 디렉토리 변경\n",
        "\n",
        "#filename = './test/test2'\n",
        "# print(os.path.basename(filename)) # 파일, 폴더명을 읽을 수 있음\n",
        "\n"
      ],
      "metadata": {
        "colab": {
          "base_uri": "https://localhost:8080/"
        },
        "id": "PPZxzyJ6sbRT",
        "outputId": "7c2a95f6-8808-436f-ad81-37ace2a6cd12"
      },
      "execution_count": null,
      "outputs": [
        {
          "output_type": "stream",
          "name": "stdout",
          "text": [
            "test2\n"
          ]
        }
      ]
    },
    {
      "cell_type": "markdown",
      "source": [
        "glob"
      ],
      "metadata": {
        "id": "MZhdn6N7s4fY"
      }
    },
    {
      "cell_type": "code",
      "source": [
        "import os\n",
        "import glob\n",
        "\n",
        "#os.makedirs('./test2/a', exist_ok=True)\n",
        "#os.makedirs('./test2/b', exist_ok=True)\n",
        "#os.makedirs('./test2/c', exist_ok=True)\n",
        "\n",
        "folders = glob.glob('./test2/*.txt')\n",
        "print(folders)\n",
        "\n",
        "for each_folder in folders:\n",
        "    basename = os.path.basename(each_folder)\n",
        "    print(each_folder, basename)\n"
      ],
      "metadata": {
        "colab": {
          "base_uri": "https://localhost:8080/"
        },
        "id": "Ph7SLJCJs4nC",
        "outputId": "336e25ea-2f50-48cd-e736-51efa9622158"
      },
      "execution_count": null,
      "outputs": [
        {
          "output_type": "stream",
          "name": "stdout",
          "text": [
            "['./test2/d.txt', './test2/e.txt']\n",
            "./test2/d.txt d.txt\n",
            "./test2/e.txt e.txt\n"
          ]
        }
      ]
    },
    {
      "cell_type": "markdown",
      "source": [
        "shutil"
      ],
      "metadata": {
        "id": "UPUc-uhguzDC"
      }
    },
    {
      "cell_type": "code",
      "source": [
        "import shutil\n",
        "\n",
        "# shutil.copyfile('./source.txt', './target.txt')\n",
        "# shutil.copy('./source.txt', './target.txt')\n",
        "# shutil.copytree(\"./test2\", \"./test1\")\n"
      ],
      "metadata": {
        "id": "B7-8fcxIsez2",
        "colab": {
          "base_uri": "https://localhost:8080/",
          "height": 36
        },
        "outputId": "47533db3-4122-4c04-9f99-14a02818953d"
      },
      "execution_count": null,
      "outputs": [
        {
          "output_type": "execute_result",
          "data": {
            "text/plain": [
              "'./test1'"
            ],
            "application/vnd.google.colaboratory.intrinsic+json": {
              "type": "string"
            }
          },
          "metadata": {},
          "execution_count": 6
        }
      ]
    },
    {
      "cell_type": "markdown",
      "source": [
        "## 실습 문제"
      ],
      "metadata": {
        "id": "amSBSMy1wPKn"
      }
    },
    {
      "cell_type": "markdown",
      "source": [
        "### 1. Test라는 폴더를 만들고, 하위에 파일 5개(a.txt, b.txt, c.txt, d.txt, e.txt)를 만든다. 폴더는 os 함수를 이용하고, 파일 5개는 내장함수인 open 함수를 이용해서 만들어라. 파일을 만들 때 파일 내 내용은 임의로 작성."
      ],
      "metadata": {
        "id": "yq8VUdEXwP3U"
      }
    },
    {
      "cell_type": "code",
      "source": [
        "import os\n",
        "\n",
        "try:\n",
        "    os.mkdir('./Test/')\n",
        "except:\n",
        "    pass\n",
        "\n",
        "f = open('./Test/a.txt', 'w')\n",
        "f.write('aaaa')\n",
        "f.close()\n",
        "\n",
        "f = open('./Test/b.txt', 'w')\n",
        "f.write('bbbb')\n",
        "f.close()\n",
        "\n",
        "f = open('./Test/c.txt', 'w')\n",
        "f.write('ccccc')\n",
        "f.close()\n",
        "\n",
        "f = open('./Test/d.txt', 'w')\n",
        "f.write('ddddd')\n",
        "f.close()\n",
        "\n",
        "f = open('./Test/e.txt', 'w')\n",
        "f.write('eeee')\n",
        "f.close()"
      ],
      "metadata": {
        "id": "fp35GKmRxhli"
      },
      "execution_count": null,
      "outputs": []
    },
    {
      "cell_type": "markdown",
      "source": [
        "### 2.Test 폴더안의 파일들의 이름을 읽어들여서 출력하는 코드를 작성해라."
      ],
      "metadata": {
        "id": "UtkWxrr0wqjn"
      }
    },
    {
      "cell_type": "code",
      "source": [
        "import os\n",
        "import glob\n",
        "\n",
        "folders = glob.glob('./Test/*.txt')\n",
        "\n",
        "for each_folder in folders:\n",
        "    basename = os.path.basename(each_folder)\n",
        "    print(basename)\n",
        "\n"
      ],
      "metadata": {
        "id": "ON_RSQOsxiGQ",
        "colab": {
          "base_uri": "https://localhost:8080/"
        },
        "outputId": "bb99417c-e819-41d5-c085-b68c67201fc3"
      },
      "execution_count": null,
      "outputs": [
        {
          "output_type": "stream",
          "name": "stdout",
          "text": [
            "c.txt\n",
            "b.txt\n",
            "a.txt\n",
            "d.txt\n",
            "e.txt\n"
          ]
        }
      ]
    },
    {
      "cell_type": "markdown",
      "source": [
        "### 3.Test 폴더안의 파일 중, a.txt와 b.txt 파일만 Test2 폴더를 만들고 하위로 복사해라."
      ],
      "metadata": {
        "id": "0m5M9zQMw7XY"
      }
    },
    {
      "cell_type": "code",
      "source": [
        "import os\n",
        "import shutil\n",
        "\n",
        "os.mkdir('./Test2/')\n",
        "\n",
        "shutil.copyfile('./Test/a.txt', './Test2/a.txt')\n",
        "shutil.copyfile('./Test/b.txt', './Test2/b.txt')\n",
        "\n"
      ],
      "metadata": {
        "id": "7sjT7axOxicl",
        "colab": {
          "base_uri": "https://localhost:8080/",
          "height": 36
        },
        "outputId": "57f095e5-19c4-4efe-87ab-197a0a00386a"
      },
      "execution_count": null,
      "outputs": [
        {
          "output_type": "execute_result",
          "data": {
            "text/plain": [
              "'./Test2/b.txt'"
            ],
            "application/vnd.google.colaboratory.intrinsic+json": {
              "type": "string"
            }
          },
          "metadata": {},
          "execution_count": 13
        }
      ]
    },
    {
      "cell_type": "markdown",
      "source": [
        "### 4.Test 폴더안의 각 파일을 읽어서 내용을 모두 출력하는 코드를 작성해라."
      ],
      "metadata": {
        "id": "0iZE-vDnxTt_"
      }
    },
    {
      "cell_type": "code",
      "source": [
        "import os\n",
        "import glob\n",
        "\n",
        "files = glob.glob('./Test/*.txt')\n",
        "print(files)\n",
        "\n",
        "for each_file in files:\n",
        "    basename = os.path.basename(each_file)\n",
        "    f = open(each_file, 'r')\n",
        "    lines = f.read()\n",
        "    f.close()\n",
        "    print(basename, lines)\n"
      ],
      "metadata": {
        "id": "E0MVY1HuxT4K",
        "colab": {
          "base_uri": "https://localhost:8080/"
        },
        "outputId": "58a55ffe-2750-4fda-d9f2-393d9f3461ee"
      },
      "execution_count": null,
      "outputs": [
        {
          "output_type": "stream",
          "name": "stdout",
          "text": [
            "['./Test/c.txt', './Test/b.txt', './Test/a.txt', './Test/d.txt', './Test/e.txt']\n",
            "c.txt ccccc\n",
            "b.txt bbbb\n",
            "a.txt aaaa\n",
            "d.txt ddddd\n",
            "e.txt eeee\n"
          ]
        }
      ]
    },
    {
      "cell_type": "code",
      "source": [],
      "metadata": {
        "id": "VRD2FpSMrgvo"
      },
      "execution_count": null,
      "outputs": []
    }
  ]
}