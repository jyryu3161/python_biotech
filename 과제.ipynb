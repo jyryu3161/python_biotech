{
  "nbformat": 4,
  "nbformat_minor": 0,
  "metadata": {
    "colab": {
      "provenance": [],
      "authorship_tag": "ABX9TyOqnmuqkXQVFRZd+MzjUrf7",
      "include_colab_link": true
    },
    "kernelspec": {
      "name": "python3",
      "display_name": "Python 3"
    },
    "language_info": {
      "name": "python"
    }
  },
  "cells": [
    {
      "cell_type": "markdown",
      "metadata": {
        "id": "view-in-github",
        "colab_type": "text"
      },
      "source": [
        "<a href=\"https://colab.research.google.com/github/jyryu3161/python_biotech/blob/main/%EA%B3%BC%EC%A0%9C.ipynb\" target=\"_parent\"><img src=\"https://colab.research.google.com/assets/colab-badge.svg\" alt=\"Open In Colab\"/></a>"
      ]
    },
    {
      "cell_type": "markdown",
      "source": [
        "# 과제: 함수 만들기"
      ],
      "metadata": {
        "id": "t_cWYFZKKxIr"
      }
    },
    {
      "cell_type": "markdown",
      "source": [
        "제출: 파일명에 학번, 이름이 보이게 수정하여 \"파일\"->\"다운로드\"-> \".ipynb 다운로드\" 압축하지 말고 그대로 과제 제출"
      ],
      "metadata": {
        "id": "Ko1fBFDuKzxj"
      }
    },
    {
      "cell_type": "markdown",
      "source": [
        "과제 제출 기한: 6월 18일 오후 12시"
      ],
      "metadata": {
        "id": "ofr4o98p-158"
      }
    },
    {
      "cell_type": "markdown",
      "source": [
        "주의사항:\n",
        "- 함수 이름 아래에 함수 설명에 대한 주석을 달 것.\n",
        "- 함수명과 클래스명은 snake case로 작성하도록 할 것.\n",
        "- 본 수업에서 작성했던 함수와 100% 일치하도록 작성하지 말 것."
      ],
      "metadata": {
        "id": "rfKaZMgn9TLt"
      }
    },
    {
      "cell_type": "code",
      "source": [
        "# 함수 아래에 주석으로 어떤 함수인지를 적으세요.\n",
        "\n",
        "def function(a):\n",
        "    # 이 함수는 XXX을 하는 함수이며, 매개변수로 XX를 받고, return으로 XX를 돌려준다.\n",
        "\n",
        "    return"
      ],
      "metadata": {
        "id": "U45llHXN9AUH"
      },
      "execution_count": null,
      "outputs": []
    },
    {
      "cell_type": "markdown",
      "source": [
        "함수1. 사칙연산을 활용하는 함수를 스스로 정의하고, 호출하여 출력"
      ],
      "metadata": {
        "id": "H-P-wt3Y9APL"
      }
    },
    {
      "cell_type": "code",
      "source": [],
      "metadata": {
        "id": "2iAYiFzp9eCh"
      },
      "execution_count": null,
      "outputs": []
    },
    {
      "cell_type": "markdown",
      "source": [
        "함수2. 매개변수에 리스트가 들어오는 함수를 스스로 정의하고 호출하여 출력"
      ],
      "metadata": {
        "id": "dElD00ba9kLM"
      }
    },
    {
      "cell_type": "code",
      "source": [],
      "metadata": {
        "id": "uCYIY1WO9kQJ"
      },
      "execution_count": null,
      "outputs": []
    },
    {
      "cell_type": "markdown",
      "source": [
        "함수3. 매개변수에 딕셔너리가 들어오는 함수를 스스로 정의하고 호출하여 출력"
      ],
      "metadata": {
        "id": "1X_XU0Yh9t-l"
      }
    },
    {
      "cell_type": "code",
      "source": [],
      "metadata": {
        "id": "vl-KCCG49uER"
      },
      "execution_count": null,
      "outputs": []
    },
    {
      "cell_type": "markdown",
      "source": [
        "함수4. 매개변수에 집합 자료형이 들어오는 함수를 스스로 정의하고 호출하여 출력"
      ],
      "metadata": {
        "id": "RQXcEvWV9wLL"
      }
    },
    {
      "cell_type": "code",
      "source": [],
      "metadata": {
        "id": "0cBNQkou9wR1"
      },
      "execution_count": null,
      "outputs": []
    },
    {
      "cell_type": "markdown",
      "source": [
        "함수5. 함수 내에서 if 조건문을 활용하는 함수를 정의하고 호출하여 출력"
      ],
      "metadata": {
        "id": "Xi2lJYLk91ro"
      }
    },
    {
      "cell_type": "code",
      "source": [],
      "metadata": {
        "id": "vx_KZlbt91yH"
      },
      "execution_count": null,
      "outputs": []
    },
    {
      "cell_type": "markdown",
      "source": [
        "함수6. 함수 내에서 while 문을 활용하는 함수를 정의하고 호출하여 출력"
      ],
      "metadata": {
        "id": "llpbZGq796BH"
      }
    },
    {
      "cell_type": "code",
      "source": [],
      "metadata": {
        "id": "iKmG-B9B96KU"
      },
      "execution_count": null,
      "outputs": []
    },
    {
      "cell_type": "markdown",
      "source": [
        "함수7. 함수 내에서 for 문을 활용하는 함수를 정의하고 호출하여 출력"
      ],
      "metadata": {
        "id": "uaHBSbxj99Rn"
      }
    },
    {
      "cell_type": "code",
      "source": [],
      "metadata": {
        "id": "XFx7N3yt99XJ"
      },
      "execution_count": null,
      "outputs": []
    },
    {
      "cell_type": "markdown",
      "source": [
        "함수8. 함수 내에서 설치 없는 외장함수를 사용하는 함수를 정의하고 호출하여 출력"
      ],
      "metadata": {
        "id": "uX5fXzPn-A5h"
      }
    },
    {
      "cell_type": "code",
      "source": [],
      "metadata": {
        "id": "wDzR_fsn-A_2"
      },
      "execution_count": null,
      "outputs": []
    },
    {
      "cell_type": "markdown",
      "source": [
        "함수9. 파일 입출력을 하는 함수를 정의하고 호출하여 출력"
      ],
      "metadata": {
        "id": "spMOkyV--Oe8"
      }
    },
    {
      "cell_type": "code",
      "source": [],
      "metadata": {
        "id": "nCN9zOWo-Omu"
      },
      "execution_count": null,
      "outputs": []
    }
  ]
}