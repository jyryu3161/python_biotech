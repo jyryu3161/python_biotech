{
  "nbformat": 4,
  "nbformat_minor": 0,
  "metadata": {
    "colab": {
      "provenance": [],
      "authorship_tag": "ABX9TyNbN1vODWA0bHF5KoA68dCR",
      "include_colab_link": true
    },
    "kernelspec": {
      "name": "python3",
      "display_name": "Python 3"
    },
    "language_info": {
      "name": "python"
    }
  },
  "cells": [
    {
      "cell_type": "markdown",
      "metadata": {
        "id": "view-in-github",
        "colab_type": "text"
      },
      "source": [
        "<a href=\"https://colab.research.google.com/github/jyryu3161/python_biotech/blob/main/lab5_%ED%8C%8C%EC%9D%B4%EC%8D%AC_%ED%95%A8%EC%88%98_%EC%8B%A4%EC%8A%B5%EB%AC%B8%EC%A0%9C.ipynb\" target=\"_parent\"><img src=\"https://colab.research.google.com/assets/colab-badge.svg\" alt=\"Open In Colab\"/></a>"
      ]
    },
    {
      "cell_type": "markdown",
      "source": [
        "# Lab5.파이썬 프로그래밍 함수 실습 문제"
      ],
      "metadata": {
        "id": "pjYVFLgjOuye"
      }
    },
    {
      "cell_type": "markdown",
      "source": [
        "## 함수 만들기"
      ],
      "metadata": {
        "id": "fxT5KES5VVI7"
      }
    },
    {
      "cell_type": "code",
      "source": [
        "# 숫자 두 개를 입력받아 합 반환하기\n",
        "def add_two_numbers(a, b):\n",
        "    # 여기에 코드를 작성하세요\n",
        "\n",
        ""
      ],
      "metadata": {
        "id": "Tpk7B4Iz20r5"
      },
      "execution_count": null,
      "outputs": []
    },
    {
      "cell_type": "code",
      "source": [
        "# 리스트의 평균값 계산하기\n",
        "def calculate_average(numbers):\n",
        "    # 여기에 코드를 작성하세요\n",
        "\n",
        ""
      ],
      "metadata": {
        "id": "54oyKYWT5TTD"
      },
      "execution_count": null,
      "outputs": []
    },
    {
      "cell_type": "code",
      "source": [
        "# 문자열의 길이 반환하기\n",
        "def string_length(s):\n",
        "    # 여기에 코드를 작성하세요\n",
        "\n",
        ""
      ],
      "metadata": {
        "id": "7lVQlD815TW3"
      },
      "execution_count": null,
      "outputs": []
    },
    {
      "cell_type": "code",
      "source": [
        "# 최대값 찾기\n",
        "def find_max(numbers):\n",
        "    # 여기에 코드를 작성하세요\n",
        "\n",
        "\n",
        ""
      ],
      "metadata": {
        "id": "TsJYGag35TbC"
      },
      "execution_count": null,
      "outputs": []
    },
    {
      "cell_type": "code",
      "source": [
        "# 문자열을 거꾸로 만들기\n",
        "def reverse_string(s):\n",
        "    # 여기에 코드를 작성하세요\n",
        "\n",
        "\n",
        ""
      ],
      "metadata": {
        "id": "PNztNHeK5Tem"
      },
      "execution_count": null,
      "outputs": []
    },
    {
      "cell_type": "code",
      "source": [
        "# 짝수인지 판별하기\n",
        "def is_even(n):\n",
        "    # 여기에 코드를 작성하세요\n",
        "\n",
        "\n"
      ],
      "metadata": {
        "id": "5YhqyHbI5bRJ"
      },
      "execution_count": null,
      "outputs": []
    },
    {
      "cell_type": "markdown",
      "source": [
        "소수 판별하는 함수 만들기"
      ],
      "metadata": {
        "id": "xROrmaPQ5e2j"
      }
    },
    {
      "cell_type": "code",
      "source": [],
      "metadata": {
        "id": "qg5Q9mch5gf0"
      },
      "execution_count": null,
      "outputs": []
    }
  ]
}