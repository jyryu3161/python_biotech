{
  "nbformat": 4,
  "nbformat_minor": 0,
  "metadata": {
    "colab": {
      "provenance": [],
      "authorship_tag": "ABX9TyM7uUbzNYt1dKoqrEuIjH1c",
      "include_colab_link": true
    },
    "kernelspec": {
      "name": "python3",
      "display_name": "Python 3"
    },
    "language_info": {
      "name": "python"
    }
  },
  "cells": [
    {
      "cell_type": "markdown",
      "metadata": {
        "id": "view-in-github",
        "colab_type": "text"
      },
      "source": [
        "<a href=\"https://colab.research.google.com/github/jyryu3161/python_biotech/blob/main/lab4_%ED%8C%8C%EC%9D%B4%EC%8D%AC_%ED%95%A8%EC%88%98.ipynb\" target=\"_parent\"><img src=\"https://colab.research.google.com/assets/colab-badge.svg\" alt=\"Open In Colab\"/></a>"
      ]
    },
    {
      "cell_type": "markdown",
      "source": [
        "# Lab5.파이썬 프로그래밍 함수"
      ],
      "metadata": {
        "id": "pjYVFLgjOuye"
      }
    },
    {
      "cell_type": "markdown",
      "source": [
        "## 함수"
      ],
      "metadata": {
        "id": "fxT5KES5VVI7"
      }
    },
    {
      "cell_type": "markdown",
      "source": [
        "함수의 구조"
      ],
      "metadata": {
        "id": "na0tcO-qFAcf"
      }
    },
    {
      "cell_type": "code",
      "source": [
        "def 함수명(매개변수):\n",
        "    <수행할 문장1>\n",
        "    <수행할 문장2>\n",
        "\n",
        "return 리턴 값\n"
      ],
      "metadata": {
        "id": "Jpk9DC2lOvg1"
      },
      "execution_count": null,
      "outputs": []
    },
    {
      "cell_type": "markdown",
      "source": [
        "일반적인 함수 정의"
      ],
      "metadata": {
        "id": "n6Nl-qU7kkgh"
      }
    },
    {
      "cell_type": "code",
      "source": [
        "def sum(a, b):\n",
        "    result = a + b\n",
        "    return result\n",
        "\n",
        "a = sum(3, 4)\n",
        "print (a)"
      ],
      "metadata": {
        "id": "uhr4M_cJkqJw"
      },
      "execution_count": null,
      "outputs": []
    },
    {
      "cell_type": "markdown",
      "source": [
        "코드의 흐름"
      ],
      "metadata": {
        "id": "dIRv7BWFkqTD"
      }
    },
    {
      "cell_type": "code",
      "source": [
        "print('1')\n",
        "def sum(a, b):\n",
        "    print('2')\n",
        "    result = a + b\n",
        "    return result\n",
        "\n",
        "print('3')\n",
        "a = sum(3, 4)\n",
        "print('4')"
      ],
      "metadata": {
        "colab": {
          "base_uri": "https://localhost:8080/"
        },
        "id": "-hThAAnSkqYh",
        "outputId": "b2f01d4a-3484-4bfe-c0f7-820b406dc9ad"
      },
      "execution_count": null,
      "outputs": [
        {
          "output_type": "stream",
          "name": "stdout",
          "text": [
            "1\n",
            "3\n",
            "2\n",
            "4\n"
          ]
        }
      ]
    },
    {
      "cell_type": "markdown",
      "source": [
        "전역변수, 지역변수"
      ],
      "metadata": {
        "id": "Jvumpq0qkqb1"
      }
    },
    {
      "cell_type": "code",
      "source": [
        "def sum(a, b): \n",
        "    result = a + b \n",
        "    return result\n",
        "\n",
        "a = 3\n",
        "b = 5\n",
        "a = sum(a, b)\n"
      ],
      "metadata": {
        "id": "Q_XC8rYhkqhb"
      },
      "execution_count": null,
      "outputs": []
    },
    {
      "cell_type": "markdown",
      "source": [
        "입력값이 없는 함수"
      ],
      "metadata": {
        "id": "kOE7SNnclJG0"
      }
    },
    {
      "cell_type": "code",
      "source": [
        "def say():\n",
        "    return 'Hi'\n",
        "\n",
        "a = say()\n",
        "print(a)"
      ],
      "metadata": {
        "colab": {
          "base_uri": "https://localhost:8080/"
        },
        "id": "RVNGMCuAlJMt",
        "outputId": "88624473-c534-480d-d3d4-19122b93cf53"
      },
      "execution_count": null,
      "outputs": [
        {
          "output_type": "stream",
          "name": "stdout",
          "text": [
            "Hi\n"
          ]
        }
      ]
    },
    {
      "cell_type": "markdown",
      "source": [
        "리턴(결과)값이 없는 함수"
      ],
      "metadata": {
        "id": "Y5NIzvgglLRF"
      }
    },
    {
      "cell_type": "code",
      "source": [
        "def sum(a, b):\n",
        "    print(\"%d, %d의 합은 %d입니다.\" % (a, b, a+b))\n",
        "\n",
        "sum(3, 4)\n",
        "\n",
        "result = sum(3, 4)\n",
        "print(result)\n",
        "\n"
      ],
      "metadata": {
        "colab": {
          "base_uri": "https://localhost:8080/"
        },
        "id": "yupCCDgglLYL",
        "outputId": "eed363d3-f238-4356-b2a5-3d8e0f9785a2"
      },
      "execution_count": null,
      "outputs": [
        {
          "output_type": "stream",
          "name": "stdout",
          "text": [
            "3, 4의 합은 7입니다.\n",
            "3, 4의 합은 7입니다.\n",
            "None\n"
          ]
        }
      ]
    },
    {
      "cell_type": "markdown",
      "source": [
        "입력값도 결과값도 없는 함수"
      ],
      "metadata": {
        "id": "M1KTKdoHlbhn"
      }
    },
    {
      "cell_type": "code",
      "source": [
        "def say():\n",
        "    print('Hi')\n",
        "\n",
        "say()"
      ],
      "metadata": {
        "colab": {
          "base_uri": "https://localhost:8080/"
        },
        "id": "jTwszOQ5lbnI",
        "outputId": "a6a78cc8-76f0-4479-9172-50c7fb9a94c4"
      },
      "execution_count": null,
      "outputs": [
        {
          "output_type": "stream",
          "name": "stdout",
          "text": [
            "Hi\n"
          ]
        }
      ]
    },
    {
      "cell_type": "code",
      "source": [],
      "metadata": {
        "id": "hYQOWUxslZh9"
      },
      "execution_count": null,
      "outputs": []
    },
    {
      "cell_type": "markdown",
      "source": [
        "함수의 결과값을 받는 방법들"
      ],
      "metadata": {
        "id": "mdXIi_UMliFs"
      }
    },
    {
      "cell_type": "code",
      "source": [
        "def sum_and_mul(a,b):\n",
        "\treturn a+b, a*b\n",
        "\n",
        "result = sum_and_mul(3,4)\n",
        "print(result)\n",
        "\n",
        "sum_val = result[0]\n",
        "mul_val = result[1]\n"
      ],
      "metadata": {
        "colab": {
          "base_uri": "https://localhost:8080/"
        },
        "id": "xOn1IIXPliLM",
        "outputId": "eb805e91-f3f0-48e0-a939-4a7b98ce11a7"
      },
      "execution_count": null,
      "outputs": [
        {
          "output_type": "stream",
          "name": "stdout",
          "text": [
            "(7, 12)\n"
          ]
        }
      ]
    },
    {
      "cell_type": "code",
      "source": [
        "def sum_and_mul(a,b):\n",
        "\treturn a+b, a*b\n",
        "\n",
        "sum_val, mul_val = sum_and_mul(3,4)\n",
        "print(sum_val, mul_val)\n"
      ],
      "metadata": {
        "colab": {
          "base_uri": "https://localhost:8080/"
        },
        "id": "vf6BXk8ClmkH",
        "outputId": "6bb275fc-f958-4d31-a7e3-7d2930e9d474"
      },
      "execution_count": null,
      "outputs": [
        {
          "output_type": "stream",
          "name": "stdout",
          "text": [
            "7 12\n"
          ]
        }
      ]
    },
    {
      "cell_type": "markdown",
      "source": [
        "매개변수에 초깃값을 설정하는 방법"
      ],
      "metadata": {
        "id": "SlDv18yslune"
      }
    },
    {
      "cell_type": "code",
      "source": [
        "def say_myself(name, old, man=True): \n",
        "    print(\"나의 이름은 %s 입니다.\" % name)\n",
        "    print(\"나이는 %d살입니다.\" % old) \n",
        "    if man:\n",
        "        print(\"남자입니다.\")\n",
        "    else:\n",
        "        print(\"여자입니다.\")\n",
        "\n",
        "say_myself(\"박응용\", 27)\n",
        "say_myself(\"박응용\", 27, True)\n"
      ],
      "metadata": {
        "colab": {
          "base_uri": "https://localhost:8080/"
        },
        "id": "UdegL3nKlnuQ",
        "outputId": "80cdf386-fadf-42c7-bbfc-ddcdbba64946"
      },
      "execution_count": null,
      "outputs": [
        {
          "output_type": "stream",
          "name": "stdout",
          "text": [
            "나의 이름은 박응용 입니다.\n",
            "나이는 27살입니다.\n",
            "남자입니다.\n",
            "나의 이름은 박응용 입니다.\n",
            "나이는 27살입니다.\n",
            "남자입니다.\n"
          ]
        }
      ]
    },
    {
      "cell_type": "markdown",
      "source": [
        "함수 매개 변수에 초깃값을 설정할 때 주의할 사항\n"
      ],
      "metadata": {
        "id": "XQn4eiOnl8aq"
      }
    },
    {
      "cell_type": "code",
      "source": [
        "def say_myself(name, man=True, old): \n",
        "    print(\"나의 이름은 %s 입니다.\" % name)\n",
        "    print(\"나이는 %d살입니다.\" % old) \n",
        "    if man:\n",
        "        print(\"남자입니다.\")\n",
        "    else:\n",
        "        print(\"여자입니다.\")\n",
        "\n",
        "say_myself(\"박응용\", 27)\n",
        "say_myself(\"박응용\", 27, True)\n"
      ],
      "metadata": {
        "colab": {
          "base_uri": "https://localhost:8080/",
          "height": 131
        },
        "id": "yW6VOZ84l8ee",
        "outputId": "b3acc55e-ab99-4c0b-cf3f-450d4631fea7"
      },
      "execution_count": null,
      "outputs": [
        {
          "output_type": "error",
          "ename": "SyntaxError",
          "evalue": "ignored",
          "traceback": [
            "\u001b[0;36m  File \u001b[0;32m\"<ipython-input-14-8555785abdda>\"\u001b[0;36m, line \u001b[0;32m1\u001b[0m\n\u001b[0;31m    def say_myself(name, man=True, old):\u001b[0m\n\u001b[0m                                   ^\u001b[0m\n\u001b[0;31mSyntaxError\u001b[0m\u001b[0;31m:\u001b[0m non-default argument follows default argument\n"
          ]
        }
      ]
    },
    {
      "cell_type": "markdown",
      "source": [
        "함수 안에서 선언된 변수의 효력 범위\n"
      ],
      "metadata": {
        "id": "DNpRInC0mIHX"
      }
    },
    {
      "cell_type": "code",
      "source": [
        "a = 1\n",
        "def vartest(a): \n",
        "    a = a +1\n",
        "\n",
        "vartest(a) \n",
        "print(a)\n"
      ],
      "metadata": {
        "colab": {
          "base_uri": "https://localhost:8080/"
        },
        "id": "BVEQCafkmIUa",
        "outputId": "3363137b-8151-4037-c104-344eb1339674"
      },
      "execution_count": null,
      "outputs": [
        {
          "output_type": "stream",
          "name": "stdout",
          "text": [
            "1\n"
          ]
        }
      ]
    },
    {
      "cell_type": "markdown",
      "source": [
        "## 내장함수"
      ],
      "metadata": {
        "id": "x_azll9kmTMw"
      }
    },
    {
      "cell_type": "code",
      "source": [
        "abs(3) \n",
        "all([1, 2, 3])\n",
        "any([1, 2, 3, 0])\n",
        "dir([1, 2, 3])\n",
        "divmod(7, 3)\n",
        "\n",
        "for i, name in enumerate(['body', 'foo', 'bar']): \n",
        "\tprint(i, name)\n",
        " \n",
        " a = 3\n",
        "id(a)\n",
        "\n",
        "pow(2, 4)\n"
      ],
      "metadata": {
        "id": "hH85mKIimMBE"
      },
      "execution_count": null,
      "outputs": []
    },
    {
      "cell_type": "markdown",
      "source": [
        "## 외장함수"
      ],
      "metadata": {
        "id": "836Lxm2smU1a"
      }
    },
    {
      "cell_type": "code",
      "source": [
        "import time\n",
        "\n",
        "print(time.time())\n",
        "print(time.localtime(time.time()))\n"
      ],
      "metadata": {
        "colab": {
          "base_uri": "https://localhost:8080/"
        },
        "id": "fG18rkFumU67",
        "outputId": "6252eb0c-c00b-439f-e737-bed6a8444f09"
      },
      "execution_count": null,
      "outputs": [
        {
          "output_type": "stream",
          "name": "stdout",
          "text": [
            "1682932688.2402186\n",
            "time.struct_time(tm_year=2023, tm_mon=5, tm_mday=1, tm_hour=9, tm_min=18, tm_sec=8, tm_wday=0, tm_yday=121, tm_isdst=0)\n"
          ]
        }
      ]
    },
    {
      "cell_type": "code",
      "source": [
        "import random\n",
        "print(random.random()) # 0~1 사이의 난수\n",
        "\n",
        "print(random.randint(1, 10))\n",
        "\n",
        "data = [1, 2, 3, 4, 5]\n",
        "random.shuffle(data)\n",
        "print(data)\n"
      ],
      "metadata": {
        "colab": {
          "base_uri": "https://localhost:8080/"
        },
        "id": "gkCNO0plmrRK",
        "outputId": "0954a489-c056-4f0b-f5ed-2a076dd3c995"
      },
      "execution_count": null,
      "outputs": [
        {
          "output_type": "stream",
          "name": "stdout",
          "text": [
            "0.011528395186953921\n",
            "7\n",
            "[2, 3, 4, 1, 5]\n"
          ]
        }
      ]
    },
    {
      "cell_type": "markdown",
      "source": [
        "## 실습 문제"
      ],
      "metadata": {
        "id": "nBZ3JzFAm51L"
      }
    },
    {
      "cell_type": "markdown",
      "source": [
        "1. 다음 코드를 참고하여 하나의 정수를 함수의 입력으로 받아, 소수인지 아닌지를 판단하는 함수 코드를 작성하세요. 소수인 경우 return 값으로 True, 소수가 아닌 경우 return 값으로 False를 반환하세요."
      ],
      "metadata": {
        "id": "6ko0AkL9oTll"
      }
    },
    {
      "cell_type": "code",
      "source": [
        "n = int(input(\"수를 입력하세요. \"))\n",
        "\n",
        "cnt = 0\n",
        "for i in range(2, n):\n",
        "    if n % i == 0:\n",
        "        cnt = cnt + 1\n",
        "\n",
        "print (cnt)\n",
        "if cnt == 0:\n",
        "    print ('소수')\n",
        "else:\n",
        "    print ('소수 아님')"
      ],
      "metadata": {
        "id": "hfg2lF6ToTwo"
      },
      "execution_count": null,
      "outputs": []
    },
    {
      "cell_type": "code",
      "source": [],
      "metadata": {
        "id": "hSVaQLX-m55S"
      },
      "execution_count": null,
      "outputs": []
    },
    {
      "cell_type": "markdown",
      "source": [
        "2. 숫자로 구성된 리스트를 함수의 입력으로 받고, 해당 리스트의 합을 모두 계산하여 반환하는 함수를 작성하세요."
      ],
      "metadata": {
        "id": "4evdXwRIomNR"
      }
    },
    {
      "cell_type": "code",
      "source": [],
      "metadata": {
        "id": "j8Ul0X97omSJ"
      },
      "execution_count": null,
      "outputs": []
    }
  ]
}