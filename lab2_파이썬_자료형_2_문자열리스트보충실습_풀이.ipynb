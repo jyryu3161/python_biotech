{
  "nbformat": 4,
  "nbformat_minor": 0,
  "metadata": {
    "colab": {
      "provenance": [],
      "authorship_tag": "ABX9TyNusXnMlSEEvTDnEOw+mgYz",
      "include_colab_link": true
    },
    "kernelspec": {
      "name": "python3",
      "display_name": "Python 3"
    },
    "language_info": {
      "name": "python"
    }
  },
  "cells": [
    {
      "cell_type": "markdown",
      "metadata": {
        "id": "view-in-github",
        "colab_type": "text"
      },
      "source": [
        "<a href=\"https://colab.research.google.com/github/jyryu3161/python_biotech/blob/main/lab2_%ED%8C%8C%EC%9D%B4%EC%8D%AC_%EC%9E%90%EB%A3%8C%ED%98%95_2_%EB%AC%B8%EC%9E%90%EC%97%B4%EB%A6%AC%EC%8A%A4%ED%8A%B8%EB%B3%B4%EC%B6%A9%EC%8B%A4%EC%8A%B5_%ED%92%80%EC%9D%B4.ipynb\" target=\"_parent\"><img src=\"https://colab.research.google.com/assets/colab-badge.svg\" alt=\"Open In Colab\"/></a>"
      ]
    },
    {
      "cell_type": "markdown",
      "source": [
        "# Lab2.파이썬 프로그래밍 기초, 자료형 - 문자열, 리스트 보충 실습"
      ],
      "metadata": {
        "id": "pjYVFLgjOuye"
      }
    },
    {
      "cell_type": "markdown",
      "source": [
        "# 중요!! 오늘 실습에서는 인덱스를 변수에 넣고 변수를 이용해서 인덱싱 할 것."
      ],
      "metadata": {
        "id": "L2zVexaqgHGc"
      }
    },
    {
      "cell_type": "code",
      "source": [
        "a = [1,2,3,4,5,6,7,8,9,10,11,12]\n",
        "\n",
        "i = 5\n",
        "j = 10\n",
        "\n",
        "print(a[i:j])\n"
      ],
      "metadata": {
        "colab": {
          "base_uri": "https://localhost:8080/"
        },
        "id": "R96GQzWkgSgX",
        "outputId": "83e65ce4-532f-4d30-9427-8c6782d5a867"
      },
      "execution_count": null,
      "outputs": [
        {
          "output_type": "stream",
          "name": "stdout",
          "text": [
            "[6, 7, 8, 9, 10]\n"
          ]
        }
      ]
    },
    {
      "cell_type": "markdown",
      "source": [
        "문자열 \"Python\"에서 첫 번째 문자를 인덱싱하세요."
      ],
      "metadata": {
        "id": "kpB-6dqxcGBB"
      }
    },
    {
      "cell_type": "code",
      "source": [],
      "metadata": {
        "id": "eUQPHVhZZGK8"
      },
      "execution_count": null,
      "outputs": []
    },
    {
      "cell_type": "markdown",
      "source": [
        "\"Data Science\" 문자열에서 \"Data\" 부분을 슬라이싱하세요."
      ],
      "metadata": {
        "id": "zbcWgpW5PH3r"
      }
    },
    {
      "cell_type": "code",
      "source": [],
      "metadata": {
        "id": "eX40hsbCPH8d"
      },
      "execution_count": null,
      "outputs": []
    },
    {
      "cell_type": "markdown",
      "source": [
        "문자열 \"123456789\"에서 홀수 위치에 있는 모든 숫자를 슬라이싱하세요."
      ],
      "metadata": {
        "id": "gRyWCgmjPIA7"
      }
    },
    {
      "cell_type": "code",
      "source": [],
      "metadata": {
        "id": "2AWkxbmkPIF9"
      },
      "execution_count": null,
      "outputs": []
    },
    {
      "cell_type": "markdown",
      "source": [
        "\"abcdefghi\"에서 \"acegi\"를 슬라이싱하는 방법을 찾으세요."
      ],
      "metadata": {
        "id": "CwfjCf9LPIKk"
      }
    },
    {
      "cell_type": "code",
      "source": [],
      "metadata": {
        "id": "qnPaz0cXPIPK"
      },
      "execution_count": null,
      "outputs": []
    },
    {
      "cell_type": "markdown",
      "source": [
        "문자열 \"Python programming\"에서 마지막 5글자를 슬라이싱하세요.\n"
      ],
      "metadata": {
        "id": "EjKpOnrLPIT_"
      }
    },
    {
      "cell_type": "code",
      "source": [],
      "metadata": {
        "id": "xZKyD5QaPIYt"
      },
      "execution_count": null,
      "outputs": []
    },
    {
      "cell_type": "markdown",
      "source": [
        "[1, 2, 3, 4, 5, 6, 7, 8, 9] 리스트에서 [2, 3, 4, 5]를 슬라이싱하세요."
      ],
      "metadata": {
        "id": "pP2RouIrPIdZ"
      }
    },
    {
      "cell_type": "code",
      "source": [],
      "metadata": {
        "id": "VpWK_eYJPIiE"
      },
      "execution_count": null,
      "outputs": []
    },
    {
      "cell_type": "markdown",
      "source": [
        "[1, 2, 3, 4, 5, 6, 7, 8, 9]에서 홀수 인덱스의 요소 [2, 4, 6, 8]을 슬라이싱하세요."
      ],
      "metadata": {
        "id": "b67L21TaPhXA"
      }
    },
    {
      "cell_type": "code",
      "source": [],
      "metadata": {
        "id": "0xflEIRXPhbs"
      },
      "execution_count": null,
      "outputs": []
    },
    {
      "cell_type": "markdown",
      "source": [
        "[\"a\", \"b\", \"c\", \"d\", \"e\", \"f\", \"g\", \"h\", \"i\"]에서 \"acegi\"와 같은 패턴으로 요소를 슬라이싱하세요.\n"
      ],
      "metadata": {
        "id": "zolaqK_hPhgO"
      }
    },
    {
      "cell_type": "code",
      "source": [
        "a = [\"a\", \"b\", \"c\", \"d\", \"e\", \"f\", \"g\", \"h\", \"i\"]\n",
        "b = a[0:9:2]\n",
        "print(\"\".join(b))\n"
      ],
      "metadata": {
        "id": "E5w8IC_2Phkk",
        "outputId": "ae75ff5e-ab0e-4409-efc1-17f6640b640e",
        "colab": {
          "base_uri": "https://localhost:8080/"
        }
      },
      "execution_count": 10,
      "outputs": [
        {
          "output_type": "stream",
          "name": "stdout",
          "text": [
            "acegi\n"
          ]
        }
      ]
    },
    {
      "cell_type": "markdown",
      "source": [
        "리스트 [0, 1, 2, 3, 4, 5, 6, 7, 8, 9]에서 뒤에서 세 번째 요소까지만 포함하는 부분을 슬라이싱하세요.\n"
      ],
      "metadata": {
        "id": "Q0u8y5VIPhoq"
      }
    },
    {
      "cell_type": "code",
      "source": [],
      "metadata": {
        "id": "EIji2RoaPhsf"
      },
      "execution_count": null,
      "outputs": []
    },
    {
      "cell_type": "markdown",
      "source": [
        "# 문자열, 리스트 혼합"
      ],
      "metadata": {
        "id": "Sl1w8DZcPhxE"
      }
    },
    {
      "cell_type": "markdown",
      "source": [
        "문자열을 리스트로 변환하기: 문자열 \"Python,Java,C++,JavaScript\"을 콤마(,)를 구분자로 사용하여 리스트로 변환하세요.\n",
        "\n"
      ],
      "metadata": {
        "id": "bG7xAUkYPh5o"
      }
    },
    {
      "cell_type": "code",
      "source": [
        "a = \"Python,Java,C++,JavaScript\"\n",
        "b = a.split(\",\")\n",
        "print(b)"
      ],
      "metadata": {
        "id": "4OEfT6xePh8r",
        "outputId": "847184f7-81a1-423f-e01a-ce4a60b6122d",
        "colab": {
          "base_uri": "https://localhost:8080/"
        }
      },
      "execution_count": 11,
      "outputs": [
        {
          "output_type": "stream",
          "name": "stdout",
          "text": [
            "['Python', 'Java', 'C++', 'JavaScript']\n"
          ]
        }
      ]
    },
    {
      "cell_type": "markdown",
      "source": [
        "리스트를 문자열로 변환하기: 리스트 [\"Python\", \"is\", \"awesome\"]을 공백을 사용해 하나의 문자열로 변환하세요. (힌트: join 함수)\n",
        "\n"
      ],
      "metadata": {
        "id": "GTXRiDXbP3Cn"
      }
    },
    {
      "cell_type": "code",
      "source": [
        "a = [\"Python\", \"is\", \"awesome\"]\n",
        "b = \" \".join(a)\n",
        "print(b)"
      ],
      "metadata": {
        "id": "9O3UgYIRP3KH",
        "outputId": "27355d83-6db3-4cf0-a97e-2d2a9f67a1cd",
        "colab": {
          "base_uri": "https://localhost:8080/"
        }
      },
      "execution_count": 12,
      "outputs": [
        {
          "output_type": "stream",
          "name": "stdout",
          "text": [
            "Python is awesome\n"
          ]
        }
      ]
    },
    {
      "cell_type": "markdown",
      "source": [
        "리스트의 요소를 문자열로 결합하기: 리스트 ['P', 'y', 't', 'h', 'o', 'n']의 모든 요소를 하나의 문자열로 결합하세요. 결과가 \"Python\"이 되도록 하세요.\n",
        "\n"
      ],
      "metadata": {
        "id": "noBO2tTYP3QV"
      }
    },
    {
      "cell_type": "code",
      "source": [
        "a = ['P', 'y', 't', 'h', 'o', 'n']\n",
        "b = \"\".join(a)\n",
        "print(b)"
      ],
      "metadata": {
        "id": "DNDrV9m7P3V5",
        "outputId": "82d919d6-50cc-438f-ad1c-c00f639e8fff",
        "colab": {
          "base_uri": "https://localhost:8080/"
        }
      },
      "execution_count": 13,
      "outputs": [
        {
          "output_type": "stream",
          "name": "stdout",
          "text": [
            "Python\n"
          ]
        }
      ]
    },
    {
      "cell_type": "markdown",
      "source": [
        "리스트 정렬 후 문자열로 변환하기: 리스트 [5, 3, 4, 2, 1]를 오름차순으로 정렬한 후, 이를 \"12345\" 형태의 문자열로 변환하세요.\n",
        "\n"
      ],
      "metadata": {
        "id": "J0ONjOhLP3a0"
      }
    },
    {
      "cell_type": "code",
      "source": [
        "a = [5, 3, 4, 2, 1]\n",
        "a.sort()\n",
        "print(a)\n",
        "\n"
      ],
      "metadata": {
        "id": "gcVm7JTMP3g1",
        "outputId": "becbf95a-f1ec-4d5c-9341-ef65a189c3e7",
        "colab": {
          "base_uri": "https://localhost:8080/",
          "height": 53
        }
      },
      "execution_count": 15,
      "outputs": [
        {
          "output_type": "stream",
          "name": "stdout",
          "text": [
            "[1, 2, 3, 4, 5]\n"
          ]
        },
        {
          "output_type": "execute_result",
          "data": {
            "text/plain": [
              "'[1, 2, 3, 4, 5]'"
            ],
            "application/vnd.google.colaboratory.intrinsic+json": {
              "type": "string"
            }
          },
          "metadata": {},
          "execution_count": 15
        }
      ]
    },
    {
      "cell_type": "markdown",
      "source": [
        "문자열을 역순 리스트로 변환하기: 문자열 \"Python\"을 역순으로 배열된 문자의 리스트로 변환하세요. (예: ['n', 'o', 'h', 't', 'y', 'P'])\n",
        "\n"
      ],
      "metadata": {
        "id": "gvSyHhgMP3l8"
      }
    },
    {
      "cell_type": "code",
      "source": [
        "a = list(\"Python\")\n",
        "a.reverse()\n",
        "print(a)\n"
      ],
      "metadata": {
        "id": "OldTDSRtQwQD",
        "outputId": "34e316a1-54cf-4a7d-9c9c-713aea8a30b2",
        "colab": {
          "base_uri": "https://localhost:8080/"
        }
      },
      "execution_count": 17,
      "outputs": [
        {
          "output_type": "stream",
          "name": "stdout",
          "text": [
            "['n', 'o', 'h', 't', 'y', 'P']\n"
          ]
        }
      ]
    },
    {
      "cell_type": "code",
      "source": [],
      "metadata": {
        "id": "hP4flIDThmKd"
      },
      "execution_count": null,
      "outputs": []
    }
  ]
}