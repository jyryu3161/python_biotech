{
  "nbformat": 4,
  "nbformat_minor": 0,
  "metadata": {
    "colab": {
      "provenance": [],
      "authorship_tag": "ABX9TyPnHnRuvXT20X4p5KtbsWyP",
      "include_colab_link": true
    },
    "kernelspec": {
      "name": "python3",
      "display_name": "Python 3"
    },
    "language_info": {
      "name": "python"
    }
  },
  "cells": [
    {
      "cell_type": "markdown",
      "metadata": {
        "id": "view-in-github",
        "colab_type": "text"
      },
      "source": [
        "<a href=\"https://colab.research.google.com/github/jyryu3161/python_biotech/blob/main/lab10_%EC%8B%A4%EC%8A%B5.ipynb\" target=\"_parent\"><img src=\"https://colab.research.google.com/assets/colab-badge.svg\" alt=\"Open In Colab\"/></a>"
      ]
    },
    {
      "cell_type": "markdown",
      "source": [
        "# 파이썬 패키지 실습"
      ],
      "metadata": {
        "id": "SaAzlN5TiyNt"
      }
    },
    {
      "cell_type": "markdown",
      "source": [
        "## 실습 환경 구축"
      ],
      "metadata": {
        "id": "9ByAd-B5Im9D"
      }
    },
    {
      "cell_type": "code",
      "source": [
        "!git clone https://github.com/jyryu3161/python_biotech.git\n"
      ],
      "metadata": {
        "id": "MvKhDDecIlL1"
      },
      "execution_count": null,
      "outputs": []
    },
    {
      "cell_type": "markdown",
      "source": [
        "# Pandas 실습"
      ],
      "metadata": {
        "id": "ZH_lcRNdIlaP"
      }
    },
    {
      "cell_type": "markdown",
      "source": [
        "파일 읽기"
      ],
      "metadata": {
        "id": "JGJgYAvqIzmr"
      }
    },
    {
      "cell_type": "code",
      "source": [
        "import pandas as pd\n",
        "df1 = pd.read_csv('./python_biotech/data/test_data.csv') # 이 함수에는 sep=','이 기본으로 되어 있는 것\n",
        "df2 = pd.read_csv('./python_biotech/data/test_data.txt', sep='\\t')\n",
        "\n",
        "print('Dataframe 1')\n",
        "print(df1)\n",
        "\n",
        "print('------')\n",
        "\n",
        "print('Dataframe 2')\n",
        "print(df2)"
      ],
      "metadata": {
        "id": "W3xi5xudIyxx"
      },
      "execution_count": null,
      "outputs": []
    },
    {
      "cell_type": "markdown",
      "source": [
        "파일 쓰기"
      ],
      "metadata": {
        "id": "5ZZoUJeAI_HH"
      }
    },
    {
      "cell_type": "code",
      "source": [
        "import pandas as pd\n",
        "df1 = pd.read_csv('./python_biotech/data/test_data.csv')\n",
        "df1.to_csv('./new_test_data.csv')\n",
        "df1.to_csv('./new_test_data.txt', sep='\\t')\n"
      ],
      "metadata": {
        "id": "5F6rp8qwKZWH"
      },
      "execution_count": null,
      "outputs": []
    },
    {
      "cell_type": "markdown",
      "source": [
        "일부 column을 선택하는 방법"
      ],
      "metadata": {
        "id": "0v7RqKRsLJCu"
      }
    },
    {
      "cell_type": "code",
      "source": [
        "import pandas as pd\n",
        "df1 = pd.read_csv('./python_biotech/data/test_data.csv')\n",
        "new_df = df1[['NAME', 'GENDER']]\n",
        "print(new_df)\n"
      ],
      "metadata": {
        "id": "hDh-uMf2LJQK"
      },
      "execution_count": null,
      "outputs": []
    },
    {
      "cell_type": "markdown",
      "source": [
        "특정 조건에 맞는 데이터만 선별하기"
      ],
      "metadata": {
        "id": "0O1A8RUZPHwM"
      }
    },
    {
      "cell_type": "code",
      "source": [
        "import pandas as pd\n",
        "df1 = pd.read_csv('./python_biotech/data/test_data.csv')\n",
        "print(df1)\n",
        "print()\n",
        "\n",
        "new_df = df1[df1['GENDER']=='male']\n",
        "print('선택 후 데이터')\n",
        "print(new_df)\n"
      ],
      "metadata": {
        "id": "vYU7ZFiVPH43"
      },
      "execution_count": null,
      "outputs": []
    },
    {
      "cell_type": "code",
      "source": [
        "import pandas as pd\n",
        "df1 = pd.read_csv('./python_biotech/data/test_data.csv')\n",
        "\n",
        "new_df = df1[df1['Mark'] > 80.0]\n",
        "print('선택 후 데이터')\n",
        "print(new_df)\n"
      ],
      "metadata": {
        "id": "GzSH2UTpQQvc"
      },
      "execution_count": null,
      "outputs": []
    },
    {
      "cell_type": "code",
      "source": [
        "import pandas as pd\n",
        "df1 = pd.read_csv('./python_biotech/data/test_data.csv')\n",
        "\n",
        "new_df = df1[df1['Class'].isin(['Three', 'Four'])]\n",
        "\n",
        "print('선택 후 데이터')\n",
        "print(new_df)"
      ],
      "metadata": {
        "id": "hCRGdswwMtyy"
      },
      "execution_count": null,
      "outputs": []
    },
    {
      "cell_type": "markdown",
      "source": [
        "데이터를 한 행 씩 읽고 싶을 때"
      ],
      "metadata": {
        "id": "sGKH7Tz7Qf5w"
      }
    },
    {
      "cell_type": "code",
      "source": [
        "import pandas as pd\n",
        "df1 = pd.read_csv('./python_biotech/data/test_data.csv')\n",
        "\n",
        "for each_row, each_df in df1.iterrows():\n",
        "    # print(each_df)\n",
        "    id = each_df['ID']\n",
        "    name = each_df['NAME']\n",
        "    my_class = each_df['Class']\n",
        "    mark = each_df['Mark']\n",
        "    gender = each_df['GENDER']\n",
        "    print(id, name, my_class, mark, gender)\n"
      ],
      "metadata": {
        "id": "oBIduydVQf-g"
      },
      "execution_count": null,
      "outputs": []
    },
    {
      "cell_type": "markdown",
      "source": [
        "데이터를 그룹별로 읽고싶을 때"
      ],
      "metadata": {
        "id": "10-F9-jZQ-cC"
      }
    },
    {
      "cell_type": "code",
      "source": [
        "import pandas as pd\n",
        "df1 = pd.read_csv('./python_biotech/data/test_data.csv')\n",
        "\n",
        "for each_class, each_df in df1.groupby('Class'):\n",
        "    print(each_class)\n",
        "    print(each_df)\n",
        "    print('--------')\n"
      ],
      "metadata": {
        "id": "Amu0PbrfQIwL"
      },
      "execution_count": null,
      "outputs": []
    },
    {
      "cell_type": "markdown",
      "source": [
        "데이터 정렬하기"
      ],
      "metadata": {
        "id": "pDyJPVINSRAu"
      }
    },
    {
      "cell_type": "code",
      "source": [
        "import pandas as pd\n",
        "print('---정렬전---')\n",
        "df1 = pd.read_csv('./python_biotech/data/test_data.csv')\n",
        "print(df1)\n",
        "\n",
        "print('---정렬후 (오름차순)---')\n",
        "new_df = df1.sort_values('Mark')\n",
        "print(new_df)\n",
        "\n",
        "print('---정렬후 (내림차순)---')\n",
        "new_df = df1.sort_values('Mark', ascending=False)\n",
        "print(new_df)"
      ],
      "metadata": {
        "id": "tpQ_ojY-SRG5"
      },
      "execution_count": null,
      "outputs": []
    },
    {
      "cell_type": "markdown",
      "source": [
        "# Real world data - mutation"
      ],
      "metadata": {
        "id": "nQFDBvbRRoNn"
      }
    },
    {
      "cell_type": "code",
      "source": [
        "import pandas as pd\n",
        "\n",
        "df = pd.read_csv('./python_biotech/data/data_mutation_processed.txt', sep='\\t')\n",
        "df"
      ],
      "metadata": {
        "id": "9Dv3RPtlRPtt"
      },
      "execution_count": null,
      "outputs": []
    },
    {
      "cell_type": "markdown",
      "source": [
        "어떤 유전자가 많은 변이가 있었는가?"
      ],
      "metadata": {
        "id": "s9L5UOT7SAq2"
      }
    },
    {
      "cell_type": "code",
      "source": [
        "df = pd.read_csv('./python_biotech/data/data_mutation_processed.txt', sep='\\t')\n",
        "\n",
        "for each_gene, each_df in df.groupby('Hugo_Symbol'):\n",
        "    if len(each_df) > 50:\n",
        "        print(each_gene, len(each_df))"
      ],
      "metadata": {
        "id": "i-RVbIHARx5j"
      },
      "execution_count": null,
      "outputs": []
    },
    {
      "cell_type": "markdown",
      "source": [
        "TP53 유전자의 변이에는 어떤 종류의 변이가 많은가?"
      ],
      "metadata": {
        "id": "Cnam4CccUHQI"
      }
    },
    {
      "cell_type": "code",
      "source": [
        "df = pd.read_csv('./python_biotech/data/data_mutation_processed.txt', sep='\\t')\n",
        "\n",
        "new_df = df[df['Hugo_Symbol']=='TP53']\n",
        "# print(new_df)\n",
        "\n",
        "for each_variant_type, each_df in new_df.groupby('Variant_Type'):\n",
        "    print(each_variant_type, len(each_df))\n",
        "\n",
        "print('-----')\n",
        "\n",
        "for each_variant_class, each_df in new_df.groupby('Consequence'):\n",
        "    print(each_variant_class, len(each_df))\n",
        "    "
      ],
      "metadata": {
        "id": "BxeF_csqUHUT"
      },
      "execution_count": null,
      "outputs": []
    },
    {
      "cell_type": "markdown",
      "source": [
        "# Biopython"
      ],
      "metadata": {
        "id": "-COOxn6rU8rZ"
      }
    },
    {
      "cell_type": "code",
      "source": [
        "!pip install biopython"
      ],
      "metadata": {
        "id": "2PAbUZzcU8yY"
      },
      "execution_count": null,
      "outputs": []
    },
    {
      "cell_type": "markdown",
      "source": [
        "서열 읽기"
      ],
      "metadata": {
        "id": "MUbI-6K4V42T"
      }
    },
    {
      "cell_type": "code",
      "source": [
        "from Bio import SeqIO\n",
        "\n",
        "for seq_record in SeqIO.parse(\"ls_orchid.fasta\", \"fasta\"):\n",
        "    print(seq_record.id)\n",
        "    print(repr(seq_record.seq))\n",
        "    print(len(seq_record))"
      ],
      "metadata": {
        "id": "li1I3M4UV5EB"
      },
      "execution_count": null,
      "outputs": []
    },
    {
      "cell_type": "markdown",
      "source": [
        "### 사람 단백질 서열 읽기"
      ],
      "metadata": {
        "id": "R2IZCQ-vX7Xi"
      }
    },
    {
      "cell_type": "code",
      "source": [
        "from Bio import SeqIO\n",
        "\n",
        "for seq_record in SeqIO.parse(\"./python_biotech/data/human_protein.fasta\", \"fasta\"):\n",
        "    print(seq_record.id)\n",
        "    print(str(seq_record.seq))    \n",
        "    break\n"
      ],
      "metadata": {
        "id": "V4nJZiBwSLcz"
      },
      "execution_count": null,
      "outputs": []
    },
    {
      "cell_type": "code",
      "source": [
        "from Bio import SeqIO\n",
        "seq_dic = {}\n",
        "for seq_record in SeqIO.parse(\"./python_biotech/data/human_protein.fasta\", \"fasta\"):\n",
        "    # print(seq_record.id)\n",
        "    # print(str(seq_record.seq))    \n",
        "    seq_dic[seq_record.id] = str(seq_record.seq)\n",
        "    \n",
        "print(len(seq_dic))\n",
        "print(seq_dic['sp|A0A286YEV6|SCGR4_HUMAN'])"
      ],
      "metadata": {
        "id": "Mko_moOAW32u"
      },
      "execution_count": null,
      "outputs": []
    },
    {
      "cell_type": "code",
      "source": [],
      "metadata": {
        "id": "OkMsSQMNXFJk"
      },
      "execution_count": null,
      "outputs": []
    },
    {
      "cell_type": "markdown",
      "source": [
        "### Translation"
      ],
      "metadata": {
        "id": "zoQypq-wX5ag"
      }
    },
    {
      "cell_type": "markdown",
      "source": [
        "mRNA로부터 translation"
      ],
      "metadata": {
        "id": "DHTn-cTYYB3O"
      }
    },
    {
      "cell_type": "code",
      "source": [
        "from Bio.Seq import Seq\n",
        "messenger_rna = Seq(\"AUGGCCAUUGUAAUGGGCCGCUGAAAGGGUGCCCGAUAG\")\n",
        "print(messenger_rna.translate())\n"
      ],
      "metadata": {
        "id": "79ry3ZleX5qs"
      },
      "execution_count": null,
      "outputs": []
    },
    {
      "cell_type": "markdown",
      "source": [
        "DNA로부터 translation"
      ],
      "metadata": {
        "id": "-NCsCFkdYDsO"
      }
    },
    {
      "cell_type": "code",
      "source": [
        "from Bio.Seq import Seq\n",
        "coding_dna = Seq(\"ATGGCCATTGTAATGGGCCGCTGAAAGGGTGCCCGATAG\")\n",
        "print(coding_dna.translate())\n"
      ],
      "metadata": {
        "id": "ctncasyiYAsl"
      },
      "execution_count": null,
      "outputs": []
    },
    {
      "cell_type": "markdown",
      "source": [
        "Stop codon까지만 translation 하기"
      ],
      "metadata": {
        "id": "zHQYsmwRa-T6"
      }
    },
    {
      "cell_type": "code",
      "source": [
        "from Bio.Seq import Seq\n",
        "coding_dna = Seq(\"ATGGCCATTGTAATGGGCCGCTGAAAGGGTGCCCGATAG\")\n",
        "print(coding_dna.translate(to_stop=True))"
      ],
      "metadata": {
        "id": "HETlifkRYIEO"
      },
      "execution_count": null,
      "outputs": []
    },
    {
      "cell_type": "code",
      "source": [],
      "metadata": {
        "id": "xLd9dJHvbERt"
      },
      "execution_count": null,
      "outputs": []
    }
  ]
}