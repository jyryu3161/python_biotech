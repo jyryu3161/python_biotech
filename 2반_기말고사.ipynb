{
  "nbformat": 4,
  "nbformat_minor": 0,
  "metadata": {
    "colab": {
      "provenance": [],
      "authorship_tag": "ABX9TyN2czkv6GMN45tpo0KaLdrQ",
      "include_colab_link": true
    },
    "kernelspec": {
      "name": "python3",
      "display_name": "Python 3"
    },
    "language_info": {
      "name": "python"
    }
  },
  "cells": [
    {
      "cell_type": "markdown",
      "metadata": {
        "id": "view-in-github",
        "colab_type": "text"
      },
      "source": [
        "<a href=\"https://colab.research.google.com/github/jyryu3161/python_biotech/blob/main/2%EB%B0%98_%EA%B8%B0%EB%A7%90%EA%B3%A0%EC%82%AC.ipynb\" target=\"_parent\"><img src=\"https://colab.research.google.com/assets/colab-badge.svg\" alt=\"Open In Colab\"/></a>"
      ]
    },
    {
      "cell_type": "markdown",
      "source": [
        "# 기말고사"
      ],
      "metadata": {
        "id": "t_cWYFZKKxIr"
      }
    },
    {
      "cell_type": "markdown",
      "source": [
        "답안 제출: 파일명에 학번, 이름이 보이게 수정하여 \"파일\"->\"다운로드\"-> \".ipynb 다운로드\" 파일을 과제란에 제출하세요."
      ],
      "metadata": {
        "id": "Ko1fBFDuKzxj"
      }
    },
    {
      "cell_type": "markdown",
      "source": [
        "## 문제1 (10점)"
      ],
      "metadata": {
        "id": "UQMcSDxsLLjX"
      }
    },
    {
      "cell_type": "markdown",
      "source": [
        "주민등록번호 뒷 자리 7자리 중 첫째 자리는 성별을 나타내는데, 1, 3은 남자 2, 4는 여자를 의미한다. 사용자로부터 13자리의 주민등록번호를 입력 받은 후 성별 (남자, 여자)를 출력하는 파이썬 함수를 작성하라. 주민등록 번호의 형식은 아래와 같다.\n",
        "\n",
        "주민등록번호: \"821010-1635210\""
      ],
      "metadata": {
        "id": "1D_upClcLLlv"
      }
    },
    {
      "cell_type": "code",
      "source": [
        "code = \"821010-1635210\"\n",
        "\n"
      ],
      "metadata": {
        "id": "FpKyKbBGNUjW"
      },
      "execution_count": null,
      "outputs": []
    },
    {
      "cell_type": "markdown",
      "source": [
        "# 문제2 (10점)"
      ],
      "metadata": {
        "id": "eD_QBEiQzs4X"
      }
    },
    {
      "cell_type": "markdown",
      "source": [
        "임의의 정수 n을 입력으로 받고, 아래와같은 그림을 그리는 코드를 작성하세요.\n",
        "\n",
        "출력예시:\n",
        "\n",
        "n = 2일 때,\n",
        "\n",
        "@@\n",
        "\n",
        "@\n",
        "\n",
        "@@\n",
        "\n",
        "n = 3일 때,\n",
        "\n",
        "@@@\n",
        "\n",
        "@@\n",
        "\n",
        "@\n",
        "\n",
        "@@\n",
        "\n",
        "@@@"
      ],
      "metadata": {
        "id": "LRzMre8Cz9Oc"
      }
    },
    {
      "cell_type": "code",
      "source": [
        "\n",
        "\n"
      ],
      "metadata": {
        "id": "NCUTK3IdmzGY"
      },
      "execution_count": null,
      "outputs": []
    },
    {
      "cell_type": "markdown",
      "source": [
        "# 문제3 (15점)"
      ],
      "metadata": {
        "id": "6XnPPbeH99Q1"
      }
    },
    {
      "cell_type": "markdown",
      "source": [
        "다음 조건의 코드를 작성하라.\n",
        "\n",
        "1. 사람(Human) 클래스를 정의한다. 이 때, 속성으로는 이름, 나이를 갖도록 한다. 메서드로는 걷는다(walk) 함수를 정의한다. walk 메서드는 print(\"걷는다\")를 출력한다.\n",
        "2. 사람(Human) 클래스를 상속받은 학생(Student) 클래스를 정의한다. 학생 클래스에는 go_to_school() 메서드를 추가로 정의한다. go_to_school 메서드에는 print(\"학교에 간다\")를 출력한다.\n",
        "3. 학생 객체를 만들어 go_to_school 메서드를 실행한다."
      ],
      "metadata": {
        "id": "xSyWEeLF-AIA"
      }
    },
    {
      "cell_type": "code",
      "source": [],
      "metadata": {
        "id": "A4D3Ik4o-AS5"
      },
      "execution_count": null,
      "outputs": []
    },
    {
      "cell_type": "markdown",
      "source": [
        "# 문제4 (15점)"
      ],
      "metadata": {
        "id": "Tn9Xp3bF-Ab2"
      }
    },
    {
      "cell_type": "markdown",
      "source": [
        "다음 3차원에서 euclidean distance 계산 함수를 작성하라. 함수의 매개변수로는 3차원 두 좌표의 리스트가 입력으로 들어가며, return으로는 거리를 반환한다.\n",
        ""
      ],
      "metadata": {
        "id": "Xg2eFIL-_x2X"
      }
    },
    {
      "cell_type": "markdown",
      "source": [
        "![그림2.png](data:image/png;base64,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)"
      ],
      "metadata": {
        "id": "Xk1qFryv_zfu"
      }
    },
    {
      "cell_type": "markdown",
      "source": [
        "수식은 아래와 같다."
      ],
      "metadata": {
        "id": "f5G6bB0-_3Y-"
      }
    },
    {
      "cell_type": "markdown",
      "source": [
        "![euclidean_distance3d.png](data:image/png;base64,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)"
      ],
      "metadata": {
        "id": "-kv7Bn_J_-OC"
      }
    },
    {
      "cell_type": "code",
      "source": [
        "# 함수 호출 입력 예시:\n",
        "# a = [1, 2, 3] # 각각 x0, y0, z0\n",
        "# b = [2, 3, 4] # 각각 x1, y1, z1\n",
        "# calc_distance(a, b)\n",
        "\n",
        "\n"
      ],
      "metadata": {
        "id": "TyCSEKe799Vj"
      },
      "execution_count": null,
      "outputs": []
    }
  ]
}