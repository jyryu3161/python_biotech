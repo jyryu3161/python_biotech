{
  "nbformat": 4,
  "nbformat_minor": 0,
  "metadata": {
    "colab": {
      "provenance": [],
      "authorship_tag": "ABX9TyN0n08s0kXCIo8aSclVh3Wf",
      "include_colab_link": true
    },
    "kernelspec": {
      "name": "python3",
      "display_name": "Python 3"
    },
    "language_info": {
      "name": "python"
    }
  },
  "cells": [
    {
      "cell_type": "markdown",
      "metadata": {
        "id": "view-in-github",
        "colab_type": "text"
      },
      "source": [
        "<a href=\"https://colab.research.google.com/github/jyryu3161/python_biotech/blob/main/1%EB%B0%98_%EC%A4%91%EA%B0%84%EA%B3%A0%EC%82%AC_%EC%A0%95%EB%8B%B5.ipynb\" target=\"_parent\"><img src=\"https://colab.research.google.com/assets/colab-badge.svg\" alt=\"Open In Colab\"/></a>"
      ]
    },
    {
      "cell_type": "markdown",
      "source": [
        "# 중간고사"
      ],
      "metadata": {
        "id": "t_cWYFZKKxIr"
      }
    },
    {
      "cell_type": "markdown",
      "source": [
        "답안 제출: 파일명에 학번, 이름이 보이게 수정하여 \"파일\"->\"다운로드\"-> \".ipynb 다운로드\", \".py 다운로드\" 두 파일을 과제란에 제출하세요."
      ],
      "metadata": {
        "id": "Ko1fBFDuKzxj"
      }
    },
    {
      "cell_type": "markdown",
      "source": [
        "## 문제1 (10점)"
      ],
      "metadata": {
        "id": "OIrCrgpHLIy4"
      }
    },
    {
      "cell_type": "markdown",
      "source": [
        "알파벳으로 구성된 임의의 문자열을 input 함수로 입력으로 받고, 홀수번째 위치의 알파벳은 소문자로, 짝수번째 위치의 알파벳은 대문자로 변경하는 코드를 작성하세요. 최종 출력은 print 함수로 문자열을 출력하도록 하세요.\n",
        "\n",
        "출력예시:\n",
        "\n",
        "\n",
        "입력1. \"abcdef\" -> \"aBcDeF\"\n",
        "\n",
        "입력2. \"aaaaaa\" -> \"aAaAaA\""
      ],
      "metadata": {
        "id": "JaHooHwNLKw8"
      }
    },
    {
      "cell_type": "code",
      "source": [
        "# 아래 부분에 작성하세요.\n",
        "\n",
        "input_str = input(\"문자열 입력\")\n",
        "new_str = ''\n",
        "for i in range(len(input_str)):\n",
        "    if (i+1) % 2 == 1: # 홀수냐 \n",
        "        c = input_str[i].lower()\n",
        "    else:\n",
        "        c = input_str[i].upper()\n",
        "    new_str+=c\n",
        "print(new_str)\n"
      ],
      "metadata": {
        "id": "N4fKirV1LrXr",
        "colab": {
          "base_uri": "https://localhost:8080/"
        },
        "outputId": "18c7ef5e-bb33-4e26-837b-c95c0d19453d"
      },
      "execution_count": null,
      "outputs": [
        {
          "output_type": "stream",
          "name": "stdout",
          "text": [
            "문자열 입력abcdef\n",
            "aBcDeF\n"
          ]
        }
      ]
    },
    {
      "cell_type": "markdown",
      "source": [
        "## 문제2 (10점)"
      ],
      "metadata": {
        "id": "UQMcSDxsLLjX"
      }
    },
    {
      "cell_type": "markdown",
      "source": [
        "임의의 정수 n을 입력으로 받고, 아래와같은 그림을 그리는 코드를 작성하세요. \n",
        "\n",
        "출력예시:\n",
        "\n",
        "n = 2일 때,\n",
        "\n",
        "@@\n",
        "\n",
        "@\n",
        "\n",
        "@@\n",
        "\n",
        "n = 3일 때, \n",
        "\n",
        "@@@\n",
        "\n",
        "@@\n",
        "\n",
        "@\n",
        "\n",
        "@@\n",
        "\n",
        "@@@\n"
      ],
      "metadata": {
        "id": "1D_upClcLLlv"
      }
    },
    {
      "cell_type": "code",
      "source": [
        "# 아래 부분에 작성하세요.\n",
        "\n",
        "n = int(input('정수 입력 : '))\n",
        "for i in range(n, 0, -1):\n",
        "    print('@'*i)\n",
        "for i in range(2, n+1):\n",
        "    print('@'*i)\n"
      ],
      "metadata": {
        "id": "FpKyKbBGNUjW",
        "colab": {
          "base_uri": "https://localhost:8080/"
        },
        "outputId": "7f5e0438-8570-41fd-ba90-45e236ad1bdd"
      },
      "execution_count": null,
      "outputs": [
        {
          "output_type": "stream",
          "name": "stdout",
          "text": [
            "정수 입력 : 3\n",
            "@@@\n",
            "@@\n",
            "@\n",
            "@@\n",
            "@@@\n"
          ]
        }
      ]
    },
    {
      "cell_type": "markdown",
      "source": [
        "## 보너스 문제 (10점)"
      ],
      "metadata": {
        "id": "kxbaa8C0LLoC"
      }
    },
    {
      "cell_type": "markdown",
      "source": [
        "임의의 정수를 입력으로 받고, 2부터 임의의 정수 이하의 수 중 소수를 모두 출력하는 코드를 작성하세요. \n",
        "\n",
        "조건:\n",
        "\n",
        "- \b2 이상의 정수만 입력으로 받는다는 가정\n",
        "\n",
        "출력예시: \n",
        "\n",
        "10을 입력 시, 출력으로 2, 3, 5, 7이 출력되어야 함"
      ],
      "metadata": {
        "id": "f8DlNkbmLLqC"
      }
    },
    {
      "cell_type": "code",
      "source": [
        "# 아래 부분에 작성하세요.\n",
        "\n",
        "n = int(input('정수 입력: '))\n",
        "\n",
        "prime_numbers = []\n",
        "for i in range(n+1):\n",
        "    count = 0\n",
        "    for j in range(1, n+1):\n",
        "        if i % j == 0:\n",
        "            count+=1\n",
        "    \n",
        "    if count == 2:\n",
        "        prime_numbers.append(i)\n",
        "\n",
        "print(prime_numbers)\n"
      ],
      "metadata": {
        "id": "fpU0lJRZK-2b",
        "colab": {
          "base_uri": "https://localhost:8080/"
        },
        "outputId": "3e4352ab-eaec-48a8-d321-42210e708483"
      },
      "execution_count": 3,
      "outputs": [
        {
          "output_type": "stream",
          "name": "stdout",
          "text": [
            "정수 입력: 10\n",
            "[2, 3, 5, 7]\n"
          ]
        }
      ]
    },
    {
      "cell_type": "code",
      "source": [],
      "metadata": {
        "id": "NCUTK3IdmzGY"
      },
      "execution_count": null,
      "outputs": []
    }
  ]
}