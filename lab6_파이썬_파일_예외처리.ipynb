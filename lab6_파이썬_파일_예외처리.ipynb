{
  "nbformat": 4,
  "nbformat_minor": 0,
  "metadata": {
    "colab": {
      "provenance": [],
      "authorship_tag": "ABX9TyNPJ2kvpq+NPqV7NrPVfmB/",
      "include_colab_link": true
    },
    "kernelspec": {
      "name": "python3",
      "display_name": "Python 3"
    },
    "language_info": {
      "name": "python"
    }
  },
  "cells": [
    {
      "cell_type": "markdown",
      "metadata": {
        "id": "view-in-github",
        "colab_type": "text"
      },
      "source": [
        "<a href=\"https://colab.research.google.com/github/jyryu3161/python_biotech/blob/main/lab6_%ED%8C%8C%EC%9D%B4%EC%8D%AC_%ED%8C%8C%EC%9D%BC_%EC%98%88%EC%99%B8%EC%B2%98%EB%A6%AC.ipynb\" target=\"_parent\"><img src=\"https://colab.research.google.com/assets/colab-badge.svg\" alt=\"Open In Colab\"/></a>"
      ]
    },
    {
      "cell_type": "markdown",
      "source": [
        "# Lab6.파이썬 파일 입출력, 예외처리"
      ],
      "metadata": {
        "id": "pjYVFLgjOuye"
      }
    },
    {
      "cell_type": "markdown",
      "source": [
        "## 파일 입출력"
      ],
      "metadata": {
        "id": "na0tcO-qFAcf"
      }
    },
    {
      "cell_type": "code",
      "source": [
        "f = open(\"./새파일.txt\", 'w')\n",
        "f.close()\n"
      ],
      "metadata": {
        "id": "SBgHpuZdu4S-"
      },
      "execution_count": null,
      "outputs": []
    },
    {
      "cell_type": "markdown",
      "source": [
        "파일을 쓰기 모드로 열어 출력값 적기"
      ],
      "metadata": {
        "id": "JcPoxXDIxNE-"
      }
    },
    {
      "cell_type": "code",
      "source": [
        "f = open(\"./새파일.txt\", 'w')\n",
        "for i in range(1, 11):\n",
        "    data = \"%d번째 줄입니다.\\n\" % i\n",
        "    f.write(data)\n",
        "f.close()"
      ],
      "metadata": {
        "id": "C0JDye-kxNQc"
      },
      "execution_count": null,
      "outputs": []
    },
    {
      "cell_type": "markdown",
      "source": [
        "readline() 함수"
      ],
      "metadata": {
        "id": "PTlnsu7BxWgr"
      }
    },
    {
      "cell_type": "code",
      "source": [
        "f = open(\"./새파일.txt\", 'r')\n",
        "line = f.readline()\n",
        "print(line.strip())\n",
        "line = f.readline()\n",
        "print(line.strip())\n",
        "f.close()\n",
        "\n",
        "\n"
      ],
      "metadata": {
        "id": "_3Zi5grUxWol",
        "colab": {
          "base_uri": "https://localhost:8080/"
        },
        "outputId": "1b48033f-736e-4a69-8b42-fadbbc6502fb"
      },
      "execution_count": null,
      "outputs": [
        {
          "output_type": "stream",
          "name": "stdout",
          "text": [
            "1번째 줄입니다.\n",
            "2번째 줄입니다.\n"
          ]
        }
      ]
    },
    {
      "cell_type": "code",
      "source": [
        "f = open(\"./새파일.txt\", 'r')\n",
        "while True:\n",
        "    line = f.readline()\n",
        "    if not line:\n",
        "        break\n",
        "    print(line)\n",
        "f.close()"
      ],
      "metadata": {
        "id": "IQZguLn0xehX"
      },
      "execution_count": null,
      "outputs": []
    },
    {
      "cell_type": "code",
      "source": [
        "f = open(\"./새파일.txt\", 'r')\n",
        "lines = f.readlines()\n",
        "print(lines)\n",
        "for line in lines:\n",
        "    print(line)\n",
        "f.close()\n"
      ],
      "metadata": {
        "id": "Ol7rWIPnxmfX",
        "colab": {
          "base_uri": "https://localhost:8080/"
        },
        "outputId": "06ce83f9-30a5-41f2-d3c2-0f47820443e5"
      },
      "execution_count": null,
      "outputs": [
        {
          "output_type": "stream",
          "name": "stdout",
          "text": [
            "['1번째 줄입니다.\\n', '2번째 줄입니다.\\n', '3번째 줄입니다.\\n', '4번째 줄입니다.\\n', '5번째 줄입니다.\\n', '6번째 줄입니다.\\n', '7번째 줄입니다.\\n', '8번째 줄입니다.\\n', '9번째 줄입니다.\\n', '10번째 줄입니다.\\n']\n",
            "1번째 줄입니다.\n",
            "\n",
            "2번째 줄입니다.\n",
            "\n",
            "3번째 줄입니다.\n",
            "\n",
            "4번째 줄입니다.\n",
            "\n",
            "5번째 줄입니다.\n",
            "\n",
            "6번째 줄입니다.\n",
            "\n",
            "7번째 줄입니다.\n",
            "\n",
            "8번째 줄입니다.\n",
            "\n",
            "9번째 줄입니다.\n",
            "\n",
            "10번째 줄입니다.\n",
            "\n"
          ]
        }
      ]
    },
    {
      "cell_type": "markdown",
      "source": [
        "read() 함수 이용하기"
      ],
      "metadata": {
        "id": "H3J_m8MaxsVy"
      }
    },
    {
      "cell_type": "code",
      "source": [
        "f = open(\"./새파일.txt\", 'r')\n",
        "data = f.read()\n",
        "print(data)\n",
        "print(len(data))\n",
        "f.close()\n"
      ],
      "metadata": {
        "id": "8_X0wWxWxsbR",
        "colab": {
          "base_uri": "https://localhost:8080/"
        },
        "outputId": "48e68e92-8a6f-4ce0-be39-544761d3848f"
      },
      "execution_count": null,
      "outputs": [
        {
          "output_type": "stream",
          "name": "stdout",
          "text": [
            "1번째 줄입니다.\n",
            "2번째 줄입니다.\n",
            "3번째 줄입니다.\n",
            "4번째 줄입니다.\n",
            "5번째 줄입니다.\n",
            "6번째 줄입니다.\n",
            "7번째 줄입니다.\n",
            "8번째 줄입니다.\n",
            "9번째 줄입니다.\n",
            "10번째 줄입니다.\n",
            "\n",
            "101\n"
          ]
        }
      ]
    },
    {
      "cell_type": "markdown",
      "source": [
        "파일에 새로운 내용 추가하기"
      ],
      "metadata": {
        "id": "BIIi5CEKx0MC"
      }
    },
    {
      "cell_type": "code",
      "source": [
        "f = open(\"./새파일.txt\",'a')\n",
        "for i in range(11, 20):\n",
        "    data = \"%d번째 줄입니다.\\n\" % i\n",
        "    f.write(data)\n",
        "f.close()\n"
      ],
      "metadata": {
        "id": "V6Qofthfx0Tx"
      },
      "execution_count": null,
      "outputs": []
    },
    {
      "cell_type": "code",
      "source": [
        "f = open(\"./새파일.txt\", \"r\")\n",
        "for line in f:\n",
        "    print(line)\n",
        "f.close()\n",
        "\n",
        "with open(\"./새파일.txt\", 'r') as f:\n",
        "    for line in f:\n",
        "        print (line)\n",
        "\n"
      ],
      "metadata": {
        "id": "eGkCljSWx-MU",
        "colab": {
          "base_uri": "https://localhost:8080/"
        },
        "outputId": "da75c036-e170-4a6e-e500-689ebcc6d90f"
      },
      "execution_count": null,
      "outputs": [
        {
          "output_type": "stream",
          "name": "stdout",
          "text": [
            "1번째 줄입니다.\n",
            "\n",
            "2번째 줄입니다.\n",
            "\n",
            "3번째 줄입니다.\n",
            "\n",
            "4번째 줄입니다.\n",
            "\n",
            "5번째 줄입니다.\n",
            "\n",
            "6번째 줄입니다.\n",
            "\n",
            "7번째 줄입니다.\n",
            "\n",
            "8번째 줄입니다.\n",
            "\n",
            "9번째 줄입니다.\n",
            "\n",
            "10번째 줄입니다.\n",
            "\n",
            "11번째 줄입니다.\n",
            "\n",
            "12번째 줄입니다.\n",
            "\n",
            "13번째 줄입니다.\n",
            "\n",
            "14번째 줄입니다.\n",
            "\n",
            "15번째 줄입니다.\n",
            "\n",
            "16번째 줄입니다.\n",
            "\n",
            "17번째 줄입니다.\n",
            "\n",
            "18번째 줄입니다.\n",
            "\n",
            "19번째 줄입니다.\n",
            "1번째 줄입니다.\n",
            "\n",
            "2번째 줄입니다.\n",
            "\n",
            "3번째 줄입니다.\n",
            "\n",
            "4번째 줄입니다.\n",
            "\n",
            "5번째 줄입니다.\n",
            "\n",
            "6번째 줄입니다.\n",
            "\n",
            "7번째 줄입니다.\n",
            "\n",
            "8번째 줄입니다.\n",
            "\n",
            "9번째 줄입니다.\n",
            "\n",
            "10번째 줄입니다.\n",
            "\n",
            "11번째 줄입니다.\n",
            "\n",
            "12번째 줄입니다.\n",
            "\n",
            "13번째 줄입니다.\n",
            "\n",
            "14번째 줄입니다.\n",
            "\n",
            "15번째 줄입니다.\n",
            "\n",
            "16번째 줄입니다.\n",
            "\n",
            "17번째 줄입니다.\n",
            "\n",
            "18번째 줄입니다.\n",
            "\n",
            "19번째 줄입니다.\n"
          ]
        }
      ]
    },
    {
      "cell_type": "markdown",
      "source": [
        "## 예외 처리"
      ],
      "metadata": {
        "id": "Z_I3m48eu640"
      }
    },
    {
      "cell_type": "code",
      "source": [
        "f = open(\"나없는파일\", 'r')\n"
      ],
      "metadata": {
        "id": "S3kybqmDu6_u",
        "colab": {
          "base_uri": "https://localhost:8080/",
          "height": 170
        },
        "outputId": "2fdce674-49fb-4976-9a90-601db7c5e077"
      },
      "execution_count": null,
      "outputs": [
        {
          "output_type": "error",
          "ename": "FileNotFoundError",
          "evalue": "ignored",
          "traceback": [
            "\u001b[0;31m---------------------------------------------------------------------------\u001b[0m",
            "\u001b[0;31mFileNotFoundError\u001b[0m                         Traceback (most recent call last)",
            "\u001b[0;32m<ipython-input-65-9c14a73c8317>\u001b[0m in \u001b[0;36m<cell line: 1>\u001b[0;34m()\u001b[0m\n\u001b[0;32m----> 1\u001b[0;31m \u001b[0mf\u001b[0m \u001b[0;34m=\u001b[0m \u001b[0mopen\u001b[0m\u001b[0;34m(\u001b[0m\u001b[0;34m\"나없는파일\"\u001b[0m\u001b[0;34m,\u001b[0m \u001b[0;34m'r'\u001b[0m\u001b[0;34m)\u001b[0m\u001b[0;34m\u001b[0m\u001b[0;34m\u001b[0m\u001b[0m\n\u001b[0m",
            "\u001b[0;31mFileNotFoundError\u001b[0m: [Errno 2] No such file or directory: '나없는파일'"
          ]
        }
      ]
    },
    {
      "cell_type": "code",
      "source": [
        "a = 1\n",
        "sum = sum + a\n"
      ],
      "metadata": {
        "id": "RhhZBOWoyHLm",
        "colab": {
          "base_uri": "https://localhost:8080/",
          "height": 188
        },
        "outputId": "40134c30-5420-4caf-9974-bc4946c2bb5f"
      },
      "execution_count": null,
      "outputs": [
        {
          "output_type": "error",
          "ename": "TypeError",
          "evalue": "ignored",
          "traceback": [
            "\u001b[0;31m---------------------------------------------------------------------------\u001b[0m",
            "\u001b[0;31mTypeError\u001b[0m                                 Traceback (most recent call last)",
            "\u001b[0;32m<ipython-input-66-ea6578eb3e54>\u001b[0m in \u001b[0;36m<cell line: 2>\u001b[0;34m()\u001b[0m\n\u001b[1;32m      1\u001b[0m \u001b[0ma\u001b[0m \u001b[0;34m=\u001b[0m \u001b[0;36m1\u001b[0m\u001b[0;34m\u001b[0m\u001b[0;34m\u001b[0m\u001b[0m\n\u001b[0;32m----> 2\u001b[0;31m \u001b[0msum\u001b[0m \u001b[0;34m=\u001b[0m \u001b[0msum\u001b[0m \u001b[0;34m+\u001b[0m \u001b[0ma\u001b[0m\u001b[0;34m\u001b[0m\u001b[0;34m\u001b[0m\u001b[0m\n\u001b[0m",
            "\u001b[0;31mTypeError\u001b[0m: unsupported operand type(s) for +: 'builtin_function_or_method' and 'int'"
          ]
        }
      ]
    },
    {
      "cell_type": "code",
      "source": [
        "a = 1\n",
        "b = input('정수 입력')\n",
        "sum = a + b\n"
      ],
      "metadata": {
        "id": "dyOk-zRxyJON"
      },
      "execution_count": null,
      "outputs": []
    },
    {
      "cell_type": "markdown",
      "source": [
        "try, except 문"
      ],
      "metadata": {
        "id": "mcDRHQ9OyQpn"
      }
    },
    {
      "cell_type": "code",
      "source": [
        "try:\n",
        "    a = 4 / 0\n",
        "except Exception as e:\n",
        "\tprint(e)\n",
        "\n",
        "try:\n",
        "    a = 4 / 0\n",
        "except:\n",
        "\tprint('error 발생')"
      ],
      "metadata": {
        "id": "d8IkwzLDyQxQ",
        "colab": {
          "base_uri": "https://localhost:8080/"
        },
        "outputId": "abbdc146-6cf7-46b9-f627-6b3ae9938c46"
      },
      "execution_count": null,
      "outputs": [
        {
          "output_type": "stream",
          "name": "stdout",
          "text": [
            "division by zero\n",
            "error 발생\n"
          ]
        }
      ]
    },
    {
      "cell_type": "markdown",
      "source": [
        "try .. finally"
      ],
      "metadata": {
        "id": "GrOdWnFUydmb"
      }
    },
    {
      "cell_type": "code",
      "source": [
        "f = open('foo.txt', 'w')\n",
        "try:\n",
        "    # 무언가를 수행한다.\n",
        "    data = f.read()\n",
        "    print(data)\n",
        "except Exception as e:\n",
        "    print(e)\n",
        "finally:\n",
        "    f.close()\n"
      ],
      "metadata": {
        "id": "KEjOTVTGyMEc",
        "colab": {
          "base_uri": "https://localhost:8080/"
        },
        "outputId": "811be530-c56b-43cd-903d-b6fa91df0e4f"
      },
      "execution_count": null,
      "outputs": [
        {
          "output_type": "stream",
          "name": "stdout",
          "text": [
            "not readable\n"
          ]
        }
      ]
    },
    {
      "cell_type": "code",
      "source": [],
      "metadata": {
        "id": "0vIGUUmrykWx"
      },
      "execution_count": null,
      "outputs": []
    }
  ]
}