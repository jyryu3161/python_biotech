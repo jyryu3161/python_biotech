{
  "nbformat": 4,
  "nbformat_minor": 0,
  "metadata": {
    "colab": {
      "provenance": [],
      "authorship_tag": "ABX9TyO5/l+TGccUwKuZ0n1KixeR",
      "include_colab_link": true
    },
    "kernelspec": {
      "name": "python3",
      "display_name": "Python 3"
    },
    "language_info": {
      "name": "python"
    }
  },
  "cells": [
    {
      "cell_type": "markdown",
      "metadata": {
        "id": "view-in-github",
        "colab_type": "text"
      },
      "source": [
        "<a href=\"https://colab.research.google.com/github/jyryu3161/python_biotech/blob/main/lab6_%ED%8C%8C%EC%9D%B4%EC%8D%AC_%ED%81%B4%EB%9E%98%EC%8A%A4_%ED%8C%8C%EC%9D%BC_%EC%98%88%EC%99%B8%EC%B2%98%EB%A6%AC.ipynb\" target=\"_parent\"><img src=\"https://colab.research.google.com/assets/colab-badge.svg\" alt=\"Open In Colab\"/></a>"
      ]
    },
    {
      "cell_type": "markdown",
      "source": [
        "# Lab6.파이썬 클래스, 파일 입출력, 예외처리"
      ],
      "metadata": {
        "id": "pjYVFLgjOuye"
      }
    },
    {
      "cell_type": "markdown",
      "source": [
        "## 클래스(class)"
      ],
      "metadata": {
        "id": "fxT5KES5VVI7"
      }
    },
    {
      "cell_type": "markdown",
      "source": [
        "클래스가 필요한 이유"
      ],
      "metadata": {
        "id": "hIgI6jgCu3fE"
      }
    },
    {
      "cell_type": "code",
      "source": [
        "result = 0 \n",
        "\n",
        "def add(num):\n",
        "    global result \n",
        "    result += num \n",
        "    return result\n",
        "\n",
        "print(add(3))\n",
        "print(add(4))\n"
      ],
      "metadata": {
        "id": "jZ-Tz305vDp1"
      },
      "execution_count": null,
      "outputs": []
    },
    {
      "cell_type": "code",
      "source": [
        "result1 = 0\n",
        "result2 = 0\n",
        "\n",
        "def add1(num): \n",
        "    global result1 \n",
        "    result1 += num \n",
        "    return result1\n",
        "\n",
        "def add2(num): \n",
        "    global result2 \n",
        "    result2 += num \n",
        "    return result2\n",
        "\n",
        "print(add1(3)) \n",
        "print(add1(4))\n",
        "\n",
        "print(add2(3))\n",
        "print(add2(7))\n"
      ],
      "metadata": {
        "id": "UlktrayBvL0v"
      },
      "execution_count": null,
      "outputs": []
    },
    {
      "cell_type": "markdown",
      "source": [
        "클래스를 이용한 계산기"
      ],
      "metadata": {
        "id": "8MAWSI6EvUni"
      }
    },
    {
      "cell_type": "code",
      "source": [
        "class Calculator:\n",
        "    def __init__(self): \n",
        "        self.result = 0\n",
        "\n",
        "    def add(self, num): \n",
        "        self.result += num\n",
        "        return self.result\n",
        "\n",
        "cal1 = Calculator() \n",
        "cal2 = Calculator()\n",
        "\n",
        "print(cal1.add(3)) \n",
        "print(cal1.add(4)) \n",
        "print(cal2.add(3)) \n",
        "print(cal2.add(7))\n"
      ],
      "metadata": {
        "id": "uL1QKFGlvUus"
      },
      "execution_count": null,
      "outputs": []
    },
    {
      "cell_type": "markdown",
      "source": [
        "사칙연산 클래스"
      ],
      "metadata": {
        "id": "VYoOiY-Svptg"
      }
    },
    {
      "cell_type": "code",
      "source": [
        "class FourCal:\n",
        "    pass\n",
        "\n",
        "a = FourCal()\n",
        "print(type(a))\n",
        "\n"
      ],
      "metadata": {
        "id": "o_-Pg7Sevp35"
      },
      "execution_count": null,
      "outputs": []
    },
    {
      "cell_type": "code",
      "source": [
        "class FourCal:\n",
        "    def setdata(self, first, second):\n",
        "        self.first = first\n",
        "        self.second = second\n",
        "\n",
        "a = FourCal()\n",
        "a.setdata(4, 2)\n",
        "\n",
        "print(a.first)\n",
        "print(a.second)\n"
      ],
      "metadata": {
        "id": "YRJX0oytv0XD"
      },
      "execution_count": null,
      "outputs": []
    },
    {
      "cell_type": "code",
      "source": [
        "class FourCal:\n",
        "    def setdata(self, first, second): \n",
        "        self.first = first \n",
        "        self.second = second\n",
        "\n",
        "    def add(self):\n",
        "        result = self.first + self.second \n",
        "        return result\n",
        "\n",
        "a = FourCal() \n",
        "a.setdata(4, 2) \n",
        "print(a.add())\n"
      ],
      "metadata": {
        "id": "4nvXk8rtwA7h"
      },
      "execution_count": null,
      "outputs": []
    },
    {
      "cell_type": "code",
      "source": [
        "class FourCal:\n",
        "    def __init__(self, first, second): \n",
        "        self.first = first\n",
        "        self.second = second\n",
        "\n",
        "    def setdata(self, first, second): \n",
        "        self.first = first \n",
        "        self.second = second\n",
        "\n",
        "    def add(self):\n",
        "        result = self.first + self.second \n",
        "        return result\n",
        "\n",
        "a = FourCal() # error 발생\n",
        "\n",
        "a = FourCal(3, 4)"
      ],
      "metadata": {
        "id": "cT__PZAYwKOg"
      },
      "execution_count": null,
      "outputs": []
    },
    {
      "cell_type": "markdown",
      "source": [
        "클래스의 상속"
      ],
      "metadata": {
        "id": "L-VDXWzywWIG"
      }
    },
    {
      "cell_type": "code",
      "source": [
        "class FourCal:\n",
        "    def __init__(self, first, second): \n",
        "        self.first = first\n",
        "        self.second = second\n",
        "\n",
        "    def setdata(self, first, second): \n",
        "        self.first = first \n",
        "        self.second = second\n",
        "\n",
        "    def add(self):\n",
        "        result = self.first + self.second \n",
        "        return result\n",
        "\n",
        "\n",
        "class MoreFourCal(FourCal): \n",
        "    pass\n",
        "\n",
        "a = MoreFourCal(4, 2) \n",
        "result = a.add()\n",
        "print(result)\n"
      ],
      "metadata": {
        "id": "qtwSM4bjwWMH"
      },
      "execution_count": null,
      "outputs": []
    },
    {
      "cell_type": "markdown",
      "source": [
        "클래스 상속 - 메서드 추가"
      ],
      "metadata": {
        "id": "gj8sKPY7wjMm"
      }
    },
    {
      "cell_type": "code",
      "source": [
        "class MoreFourCal(FourCal): \n",
        "    def pow(self):\n",
        "        result = self.first ** self.second \n",
        "        return result\n",
        "\n",
        "a = MoreFourCal(4, 2) \n",
        "result = a.pow()\n",
        "print(result)"
      ],
      "metadata": {
        "id": "vMO46NRnwjke"
      },
      "execution_count": null,
      "outputs": []
    },
    {
      "cell_type": "markdown",
      "source": [],
      "metadata": {
        "id": "z2kNLtINwtI5"
      }
    },
    {
      "cell_type": "code",
      "source": [
        "class FourCal:\n",
        "    def __init__(self, first, second): \n",
        "        self.first = first\n",
        "        self.second = second\n",
        "\n",
        "    def setdata(self, first, second): \n",
        "        self.first = first \n",
        "        self.second = second\n",
        "\n",
        "    def add(self):\n",
        "        result = self.first + self.second \n",
        "        return result\n",
        "\n",
        "    def div(self):\n",
        "        return self.first / self.second\n",
        "\n",
        "class SafeFourCal(FourCal): \n",
        "    def div(self):\n",
        "        if self.second == 0: \n",
        "            return 0\n",
        "        else:\n",
        "            return self.first / self.second\n",
        "\n",
        "\n"
      ],
      "metadata": {
        "id": "VnaW_wK8wtOc"
      },
      "execution_count": null,
      "outputs": []
    },
    {
      "cell_type": "markdown",
      "source": [
        "## 파일 입출력"
      ],
      "metadata": {
        "id": "na0tcO-qFAcf"
      }
    },
    {
      "cell_type": "code",
      "source": [
        "f = open(\"./새파일.txt\", 'w')\n",
        "f.close()\n"
      ],
      "metadata": {
        "id": "SBgHpuZdu4S-"
      },
      "execution_count": null,
      "outputs": []
    },
    {
      "cell_type": "markdown",
      "source": [
        "파일을 쓰기 모드로 열어 출력값 적기"
      ],
      "metadata": {
        "id": "JcPoxXDIxNE-"
      }
    },
    {
      "cell_type": "code",
      "source": [
        "f = open(\"./새파일.txt\", 'w')\n",
        "for i in range(1, 11):\n",
        "    data = \"%d번째 줄입니다.\\n\" % i\n",
        "    f.write(data) \n",
        "f.close()"
      ],
      "metadata": {
        "id": "C0JDye-kxNQc"
      },
      "execution_count": null,
      "outputs": []
    },
    {
      "cell_type": "markdown",
      "source": [
        "readline() 함수"
      ],
      "metadata": {
        "id": "PTlnsu7BxWgr"
      }
    },
    {
      "cell_type": "code",
      "source": [
        "f = open(\"./새파일.txt\", 'r')\n",
        "line = f.readline() \n",
        "print(line) \n",
        "f.close()\n",
        "\n",
        "\n"
      ],
      "metadata": {
        "id": "_3Zi5grUxWol"
      },
      "execution_count": null,
      "outputs": []
    },
    {
      "cell_type": "code",
      "source": [
        "f = open(\"./새파일.txt\", 'r')\n",
        "while True:\n",
        "    line = f.readline() \n",
        "    if not line: \n",
        "        break \n",
        "    print(line)\n",
        "f.close()"
      ],
      "metadata": {
        "id": "IQZguLn0xehX"
      },
      "execution_count": null,
      "outputs": []
    },
    {
      "cell_type": "code",
      "source": [
        "f = open(\"./새파일.txt\", 'r')\n",
        "lines = f.readlines() \n",
        "for line in lines:\n",
        "    print(line) \n",
        "f.close()\n"
      ],
      "metadata": {
        "id": "Ol7rWIPnxmfX"
      },
      "execution_count": null,
      "outputs": []
    },
    {
      "cell_type": "markdown",
      "source": [
        "read() 함수 이용하기"
      ],
      "metadata": {
        "id": "H3J_m8MaxsVy"
      }
    },
    {
      "cell_type": "code",
      "source": [
        "f = open(\"./새파일.txt\", 'r')\n",
        "data = f.read() \n",
        "print(data) \n",
        "f.close()\n"
      ],
      "metadata": {
        "id": "8_X0wWxWxsbR"
      },
      "execution_count": null,
      "outputs": []
    },
    {
      "cell_type": "markdown",
      "source": [
        "파일에 새로운 내용 추가하기"
      ],
      "metadata": {
        "id": "BIIi5CEKx0MC"
      }
    },
    {
      "cell_type": "code",
      "source": [
        "f = open(\"./새파일.txt\",'a')\n",
        "for i in range(11, 20):\n",
        "    data = \"%d번째 줄입니다.\\n\" % i\n",
        "    f.write(data) \n",
        "f.close()\n"
      ],
      "metadata": {
        "id": "V6Qofthfx0Tx"
      },
      "execution_count": null,
      "outputs": []
    },
    {
      "cell_type": "code",
      "source": [
        "f = open(\"./새파일.txt\", \"r\")\n",
        "for line in f:\n",
        "    print(line)\n",
        "f.close()"
      ],
      "metadata": {
        "id": "eGkCljSWx-MU"
      },
      "execution_count": null,
      "outputs": []
    },
    {
      "cell_type": "markdown",
      "source": [
        "## 예외 처리"
      ],
      "metadata": {
        "id": "Z_I3m48eu640"
      }
    },
    {
      "cell_type": "code",
      "source": [
        "f = open(\"나없는파일\", 'r')\n"
      ],
      "metadata": {
        "id": "S3kybqmDu6_u"
      },
      "execution_count": null,
      "outputs": []
    },
    {
      "cell_type": "code",
      "source": [
        "a = 1\n",
        "sum = sum + a\n"
      ],
      "metadata": {
        "id": "RhhZBOWoyHLm"
      },
      "execution_count": null,
      "outputs": []
    },
    {
      "cell_type": "code",
      "source": [
        "a = 1\n",
        "b = input('정수 입력')\n",
        "sum = a + b\n"
      ],
      "metadata": {
        "id": "dyOk-zRxyJON"
      },
      "execution_count": null,
      "outputs": []
    },
    {
      "cell_type": "markdown",
      "source": [
        "try, except 문"
      ],
      "metadata": {
        "id": "mcDRHQ9OyQpn"
      }
    },
    {
      "cell_type": "code",
      "source": [
        "try:\n",
        "    a = 4 / 0\n",
        "except Exception as e: \n",
        "\tprint(e)\n",
        " \n",
        "try:\n",
        "    a = 4 / 0\n",
        "except: \n",
        "\tprint('error 발생')"
      ],
      "metadata": {
        "id": "d8IkwzLDyQxQ"
      },
      "execution_count": null,
      "outputs": []
    },
    {
      "cell_type": "markdown",
      "source": [
        "try .. finally"
      ],
      "metadata": {
        "id": "GrOdWnFUydmb"
      }
    },
    {
      "cell_type": "code",
      "source": [
        "f = open('foo.txt', 'w') \n",
        "try:\n",
        "    # 무언가를 수행한다.\n",
        "    data = f.read() \n",
        "    print(data)\n",
        "except Exception as e: \n",
        "    print(e)\n",
        "finally:\n",
        "    f.close()\n"
      ],
      "metadata": {
        "id": "KEjOTVTGyMEc"
      },
      "execution_count": null,
      "outputs": []
    },
    {
      "cell_type": "code",
      "source": [],
      "metadata": {
        "id": "0vIGUUmrykWx"
      },
      "execution_count": null,
      "outputs": []
    }
  ]
}