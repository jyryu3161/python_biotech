{
  "nbformat": 4,
  "nbformat_minor": 0,
  "metadata": {
    "colab": {
      "provenance": [],
      "toc_visible": true,
      "authorship_tag": "ABX9TyP85aKj2I9PK0RilumgddPf",
      "include_colab_link": true
    },
    "kernelspec": {
      "name": "python3",
      "display_name": "Python 3"
    },
    "language_info": {
      "name": "python"
    }
  },
  "cells": [
    {
      "cell_type": "markdown",
      "metadata": {
        "id": "view-in-github",
        "colab_type": "text"
      },
      "source": [
        "<a href=\"https://colab.research.google.com/github/jyryu3161/python_biotech/blob/main/lab3_%ED%8C%8C%EC%9D%B4%EC%8D%AC_%EC%A1%B0%EA%B1%B4%EB%AC%B8.ipynb\" target=\"_parent\"><img src=\"https://colab.research.google.com/assets/colab-badge.svg\" alt=\"Open In Colab\"/></a>"
      ]
    },
    {
      "cell_type": "markdown",
      "source": [
        "# Lab3.파이썬 프로그래밍 조건문"
      ],
      "metadata": {
        "id": "pjYVFLgjOuye"
      }
    },
    {
      "cell_type": "markdown",
      "source": [
        "## 조건문 (if문)"
      ],
      "metadata": {
        "id": "fxT5KES5VVI7"
      }
    },
    {
      "cell_type": "code",
      "source": [
        "money = True\n",
        "if money:\n",
        "    print(\"택시를 타고 가라\")\n",
        "else:\n",
        "    print(\"걸어가라\")\n",
        "    "
      ],
      "metadata": {
        "id": "Jpk9DC2lOvg1"
      },
      "execution_count": null,
      "outputs": []
    },
    {
      "cell_type": "markdown",
      "source": [
        "if문의 기본구조\n"
      ],
      "metadata": {
        "id": "P72eKUgUIU-4"
      }
    },
    {
      "cell_type": "code",
      "source": [
        "if 조건문:\n",
        "    수행할 문장1\n",
        "    수행할 문장2\n",
        "    ...\n",
        "else:\n",
        "    수행할 문장A\n",
        "    수행할 문장B"
      ],
      "metadata": {
        "id": "2qzOv7CiIVD9"
      },
      "execution_count": null,
      "outputs": []
    },
    {
      "cell_type": "markdown",
      "source": [
        "들여쓰기"
      ],
      "metadata": {
        "id": "dfIbC94tIhOV"
      }
    },
    {
      "cell_type": "code",
      "source": [
        "if 조건문:\n",
        "    수행할 문장1\n",
        "    수행할 문장2\n"
      ],
      "metadata": {
        "id": "dFk2XfWJILu1"
      },
      "execution_count": null,
      "outputs": []
    },
    {
      "cell_type": "markdown",
      "source": [
        "들여쓰기 오류"
      ],
      "metadata": {
        "id": "ZW_kjQfWIjR_"
      }
    },
    {
      "cell_type": "code",
      "source": [
        "if 조건문:\n",
        "    수행할 문장1\n",
        "수행할 문장2\n",
        "    수행할 문장3\n"
      ],
      "metadata": {
        "id": "Je54hat0IjXU"
      },
      "execution_count": null,
      "outputs": []
    },
    {
      "cell_type": "markdown",
      "source": [
        "비교 연산자"
      ],
      "metadata": {
        "id": "LAUiMBgBIvjU"
      }
    },
    {
      "cell_type": "code",
      "source": [
        "x = 3\n",
        "y = 2\n",
        "print (x > y)\n",
        "print (x < y)\n",
        "print (x == y)\n",
        "print (x != y)"
      ],
      "metadata": {
        "id": "SSM9dJpHIvo7"
      },
      "execution_count": null,
      "outputs": []
    },
    {
      "cell_type": "markdown",
      "source": [
        "만약 3000원 이상의 돈을 가지고 있으면 택시를 타고, 그렇지 않으면 걸어가라"
      ],
      "metadata": {
        "id": "Ip6x7bFXI2Yy"
      }
    },
    {
      "cell_type": "code",
      "source": [
        "money = 2000\n",
        "if money > 3000:\n",
        "    print(\"택시를 타고 가라\")\n",
        "else:\n",
        "    print(\"걸어가라\")"
      ],
      "metadata": {
        "id": "46e-hiIMI2d-"
      },
      "execution_count": null,
      "outputs": []
    },
    {
      "cell_type": "markdown",
      "source": [
        "and, or, not"
      ],
      "metadata": {
        "id": "ranEQHITI_FE"
      }
    },
    {
      "cell_type": "code",
      "source": [
        "money = 2000\n",
        "card = 1\n",
        "\n",
        "if money >= 3000 or card:\n",
        "    print (\"택시를 타고 가라\")\n",
        "else:\n",
        "    print(\"걸어가라\")"
      ],
      "metadata": {
        "id": "fyKw7U7vI_Kz"
      },
      "execution_count": null,
      "outputs": []
    },
    {
      "cell_type": "markdown",
      "source": [
        "x in s , x not in s"
      ],
      "metadata": {
        "id": "tqvU9WIxJHcN"
      }
    },
    {
      "cell_type": "code",
      "source": [
        "print(1 in [1,2,3])\n",
        "print(1 not in [1,2,3])"
      ],
      "metadata": {
        "id": "TV61h2GmJHjI"
      },
      "execution_count": null,
      "outputs": []
    },
    {
      "cell_type": "markdown",
      "source": [
        "만약 주머니에 돈이 있으면 택시를 타고, 없으면 걸어가라"
      ],
      "metadata": {
        "id": "kVZ4RYS9JNvr"
      }
    },
    {
      "cell_type": "code",
      "source": [
        "pocket = ['paper', 'cellphne', 'money']\n",
        "if 'money' in pocket:\n",
        "    print (\"택시를 타고 가라\")\n",
        "else:\n",
        "    print(\"걸어가라\")"
      ],
      "metadata": {
        "id": "X-Qd2lUKJN1A"
      },
      "execution_count": null,
      "outputs": []
    },
    {
      "cell_type": "markdown",
      "source": [
        "조건문에서 아무 일도 하지 않게 설정하는 방법"
      ],
      "metadata": {
        "id": "Jq7VdID_JZBB"
      }
    },
    {
      "cell_type": "code",
      "source": [
        "pocket = ['paper', 'cellphne', 'money']\n",
        "if 'money' in pocket:\n",
        "    pass\n",
        "else:\n",
        "    print(\"카드를 꺼내라\")"
      ],
      "metadata": {
        "id": "9nx6MKu5JZHr"
      },
      "execution_count": null,
      "outputs": []
    },
    {
      "cell_type": "markdown",
      "source": [
        "다중 조건 판단 elif"
      ],
      "metadata": {
        "id": "8huwbmBRJhQu"
      }
    },
    {
      "cell_type": "code",
      "source": [
        "pocket = ['paper', 'cellphne']\n",
        "card = True\n",
        "\n",
        "if 'money' in pocket:\n",
        "    print(\"택시를 타고가라\")\n",
        "elif card:\n",
        "    print(\"택시를 타고가라\")\n",
        "else:\n",
        "    print(\"걸어가라\")"
      ],
      "metadata": {
        "id": "m5H8xP18JhYH"
      },
      "execution_count": null,
      "outputs": []
    },
    {
      "cell_type": "code",
      "source": [
        "score = 85\n",
        "if score >= 90:\n",
        "    print (\"A\")\n",
        "elif score >= 80 and score < 90:\n",
        "    print (\"B\")\n",
        "elif score >= 70 and score < 80:\n",
        "    print (\"C\")\n",
        "else:\n",
        "    print (\"D\")"
      ],
      "metadata": {
        "id": "erY8UHzOIsWj"
      },
      "execution_count": null,
      "outputs": []
    },
    {
      "cell_type": "code",
      "source": [],
      "metadata": {
        "id": "YFtAdvfkJ1os"
      },
      "execution_count": null,
      "outputs": []
    },
    {
      "cell_type": "markdown",
      "source": [
        "# 문제"
      ],
      "metadata": {
        "id": "FBnkvwFLKyMM"
      }
    },
    {
      "cell_type": "markdown",
      "source": [
        "1. input 함수로 점수를 입력으로 받고, 점수를 바탕으로 A(90-100), B(80-90), C(70-80), D(60-70), F(<60) 학점을 출력하는 코드를 작성하라."
      ],
      "metadata": {
        "id": "G-Y_i4ulK1lE"
      }
    },
    {
      "cell_type": "code",
      "source": [],
      "metadata": {
        "id": "_7fypffZKyQu"
      },
      "execution_count": null,
      "outputs": []
    },
    {
      "cell_type": "markdown",
      "source": [
        "2. input 함수로 정수를 입력으로 받고, 입력된 정수가 짝수인지 홀수인지 출력하는 파이썬 코드를 작성하라."
      ],
      "metadata": {
        "id": "7yyprpYZLFlM"
      }
    },
    {
      "cell_type": "code",
      "source": [],
      "metadata": {
        "id": "4-T8agp-LFri"
      },
      "execution_count": null,
      "outputs": []
    },
    {
      "cell_type": "markdown",
      "source": [
        "3. input 함수로 문자 하나를 입력으로 받고, 문자가 소문자인 경우에는 대문자를 출력하고, 대문자인 경우는 소문자로 바꾸는 파이썬 코드를 작성하라. 단, 문자열의 길이가 2 이상인 경우 \"입력 에러\"를 출력하는 파이썬 코드를 작성하라."
      ],
      "metadata": {
        "id": "supH4-uiLSv_"
      }
    },
    {
      "cell_type": "code",
      "source": [],
      "metadata": {
        "id": "zUsDPLVZLS2c"
      },
      "execution_count": null,
      "outputs": []
    },
    {
      "cell_type": "markdown",
      "source": [
        "4. 변수 a, b, c 3개에 각각 정수를 할당하고, 이 중 가장 큰 값만 출력하는 파이썬 코드를 작성하라."
      ],
      "metadata": {
        "id": "fkyeHVSpLpPm"
      }
    },
    {
      "cell_type": "code",
      "source": [],
      "metadata": {
        "id": "p9twrTY-LpUo"
      },
      "execution_count": null,
      "outputs": []
    },
    {
      "cell_type": "markdown",
      "source": [
        "5. 주민등록번호 뒷 자리 7자리 중 첫째 자리는 성별을 나타내는데, 1, 3은 남자 2, 4는 여자를 의미한다. 사용자로부터 13자리의 주민등록번호를 입력 받은 후 성별 (남자, 여자)를 출력하는 프로그램을 작성하라."
      ],
      "metadata": {
        "id": "Xegu5nT0L3Ha"
      }
    },
    {
      "cell_type": "code",
      "source": [
        "주민등록번호: \"821010-1635210\"\n"
      ],
      "metadata": {
        "id": "DtUd_thRL3Ks"
      },
      "execution_count": null,
      "outputs": []
    }
  ]
}